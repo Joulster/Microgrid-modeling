{
 "cells": [
  {
   "cell_type": "code",
   "execution_count": 46,
   "metadata": {},
   "outputs": [],
   "source": [
    "import pandas as pd\n",
    "import numpy as np\n",
    "import matplotlib.pyplot as plt\n",
    "import seaborn as sns"
   ]
  },
  {
   "cell_type": "markdown",
   "metadata": {},
   "source": [
    "## Demand profiles"
   ]
  },
  {
   "cell_type": "markdown",
   "metadata": {},
   "source": [
    "### Read Plug Load Profile"
   ]
  },
  {
   "cell_type": "code",
   "execution_count": 47,
   "metadata": {},
   "outputs": [
    {
     "data": {
      "text/html": [
       "<div>\n",
       "<style scoped>\n",
       "    .dataframe tbody tr th:only-of-type {\n",
       "        vertical-align: middle;\n",
       "    }\n",
       "\n",
       "    .dataframe tbody tr th {\n",
       "        vertical-align: top;\n",
       "    }\n",
       "\n",
       "    .dataframe thead th {\n",
       "        text-align: right;\n",
       "    }\n",
       "</style>\n",
       "<table border=\"1\" class=\"dataframe\">\n",
       "  <thead>\n",
       "    <tr style=\"text-align: right;\">\n",
       "      <th></th>\n",
       "      <th>0</th>\n",
       "      <th>1</th>\n",
       "      <th>2</th>\n",
       "      <th>3</th>\n",
       "      <th>4</th>\n",
       "      <th>5</th>\n",
       "      <th>6</th>\n",
       "      <th>7</th>\n",
       "      <th>8</th>\n",
       "      <th>9</th>\n",
       "      <th>10</th>\n",
       "      <th>11</th>\n",
       "      <th>12</th>\n",
       "      <th>13</th>\n",
       "      <th>14</th>\n",
       "      <th>15</th>\n",
       "      <th>16</th>\n",
       "      <th>Aggregate</th>\n",
       "    </tr>\n",
       "  </thead>\n",
       "  <tbody>\n",
       "    <tr>\n",
       "      <th>0</th>\n",
       "      <td>240</td>\n",
       "      <td>279</td>\n",
       "      <td>243</td>\n",
       "      <td>237</td>\n",
       "      <td>275</td>\n",
       "      <td>302</td>\n",
       "      <td>296</td>\n",
       "      <td>192</td>\n",
       "      <td>280</td>\n",
       "      <td>255</td>\n",
       "      <td>286</td>\n",
       "      <td>273</td>\n",
       "      <td>249</td>\n",
       "      <td>237</td>\n",
       "      <td>274</td>\n",
       "      <td>282</td>\n",
       "      <td>285</td>\n",
       "      <td>4485</td>\n",
       "    </tr>\n",
       "    <tr>\n",
       "      <th>1</th>\n",
       "      <td>240</td>\n",
       "      <td>279</td>\n",
       "      <td>243</td>\n",
       "      <td>237</td>\n",
       "      <td>275</td>\n",
       "      <td>302</td>\n",
       "      <td>296</td>\n",
       "      <td>192</td>\n",
       "      <td>280</td>\n",
       "      <td>255</td>\n",
       "      <td>286</td>\n",
       "      <td>273</td>\n",
       "      <td>249</td>\n",
       "      <td>237</td>\n",
       "      <td>274</td>\n",
       "      <td>282</td>\n",
       "      <td>285</td>\n",
       "      <td>4485</td>\n",
       "    </tr>\n",
       "    <tr>\n",
       "      <th>2</th>\n",
       "      <td>240</td>\n",
       "      <td>279</td>\n",
       "      <td>243</td>\n",
       "      <td>237</td>\n",
       "      <td>275</td>\n",
       "      <td>302</td>\n",
       "      <td>296</td>\n",
       "      <td>192</td>\n",
       "      <td>280</td>\n",
       "      <td>255</td>\n",
       "      <td>286</td>\n",
       "      <td>273</td>\n",
       "      <td>249</td>\n",
       "      <td>237</td>\n",
       "      <td>274</td>\n",
       "      <td>282</td>\n",
       "      <td>285</td>\n",
       "      <td>4485</td>\n",
       "    </tr>\n",
       "    <tr>\n",
       "      <th>3</th>\n",
       "      <td>240</td>\n",
       "      <td>279</td>\n",
       "      <td>243</td>\n",
       "      <td>237</td>\n",
       "      <td>275</td>\n",
       "      <td>302</td>\n",
       "      <td>296</td>\n",
       "      <td>192</td>\n",
       "      <td>280</td>\n",
       "      <td>255</td>\n",
       "      <td>286</td>\n",
       "      <td>273</td>\n",
       "      <td>249</td>\n",
       "      <td>237</td>\n",
       "      <td>274</td>\n",
       "      <td>282</td>\n",
       "      <td>285</td>\n",
       "      <td>4485</td>\n",
       "    </tr>\n",
       "    <tr>\n",
       "      <th>4</th>\n",
       "      <td>240</td>\n",
       "      <td>279</td>\n",
       "      <td>243</td>\n",
       "      <td>237</td>\n",
       "      <td>275</td>\n",
       "      <td>302</td>\n",
       "      <td>296</td>\n",
       "      <td>192</td>\n",
       "      <td>280</td>\n",
       "      <td>255</td>\n",
       "      <td>286</td>\n",
       "      <td>273</td>\n",
       "      <td>249</td>\n",
       "      <td>237</td>\n",
       "      <td>274</td>\n",
       "      <td>282</td>\n",
       "      <td>285</td>\n",
       "      <td>4485</td>\n",
       "    </tr>\n",
       "    <tr>\n",
       "      <th>...</th>\n",
       "      <td>...</td>\n",
       "      <td>...</td>\n",
       "      <td>...</td>\n",
       "      <td>...</td>\n",
       "      <td>...</td>\n",
       "      <td>...</td>\n",
       "      <td>...</td>\n",
       "      <td>...</td>\n",
       "      <td>...</td>\n",
       "      <td>...</td>\n",
       "      <td>...</td>\n",
       "      <td>...</td>\n",
       "      <td>...</td>\n",
       "      <td>...</td>\n",
       "      <td>...</td>\n",
       "      <td>...</td>\n",
       "      <td>...</td>\n",
       "      <td>...</td>\n",
       "    </tr>\n",
       "    <tr>\n",
       "      <th>525595</th>\n",
       "      <td>162</td>\n",
       "      <td>207</td>\n",
       "      <td>182</td>\n",
       "      <td>108</td>\n",
       "      <td>144</td>\n",
       "      <td>247</td>\n",
       "      <td>138</td>\n",
       "      <td>135</td>\n",
       "      <td>143</td>\n",
       "      <td>146</td>\n",
       "      <td>207</td>\n",
       "      <td>144</td>\n",
       "      <td>249</td>\n",
       "      <td>185</td>\n",
       "      <td>216</td>\n",
       "      <td>282</td>\n",
       "      <td>133</td>\n",
       "      <td>3028</td>\n",
       "    </tr>\n",
       "    <tr>\n",
       "      <th>525596</th>\n",
       "      <td>162</td>\n",
       "      <td>148</td>\n",
       "      <td>182</td>\n",
       "      <td>108</td>\n",
       "      <td>201</td>\n",
       "      <td>247</td>\n",
       "      <td>138</td>\n",
       "      <td>135</td>\n",
       "      <td>143</td>\n",
       "      <td>146</td>\n",
       "      <td>207</td>\n",
       "      <td>144</td>\n",
       "      <td>249</td>\n",
       "      <td>185</td>\n",
       "      <td>216</td>\n",
       "      <td>209</td>\n",
       "      <td>133</td>\n",
       "      <td>2953</td>\n",
       "    </tr>\n",
       "    <tr>\n",
       "      <th>525597</th>\n",
       "      <td>162</td>\n",
       "      <td>148</td>\n",
       "      <td>182</td>\n",
       "      <td>108</td>\n",
       "      <td>201</td>\n",
       "      <td>247</td>\n",
       "      <td>138</td>\n",
       "      <td>135</td>\n",
       "      <td>201</td>\n",
       "      <td>146</td>\n",
       "      <td>207</td>\n",
       "      <td>144</td>\n",
       "      <td>249</td>\n",
       "      <td>185</td>\n",
       "      <td>216</td>\n",
       "      <td>209</td>\n",
       "      <td>133</td>\n",
       "      <td>3011</td>\n",
       "    </tr>\n",
       "    <tr>\n",
       "      <th>525598</th>\n",
       "      <td>162</td>\n",
       "      <td>148</td>\n",
       "      <td>182</td>\n",
       "      <td>108</td>\n",
       "      <td>201</td>\n",
       "      <td>247</td>\n",
       "      <td>138</td>\n",
       "      <td>135</td>\n",
       "      <td>201</td>\n",
       "      <td>146</td>\n",
       "      <td>207</td>\n",
       "      <td>144</td>\n",
       "      <td>249</td>\n",
       "      <td>185</td>\n",
       "      <td>216</td>\n",
       "      <td>209</td>\n",
       "      <td>133</td>\n",
       "      <td>3011</td>\n",
       "    </tr>\n",
       "    <tr>\n",
       "      <th>525599</th>\n",
       "      <td>162</td>\n",
       "      <td>148</td>\n",
       "      <td>182</td>\n",
       "      <td>108</td>\n",
       "      <td>201</td>\n",
       "      <td>247</td>\n",
       "      <td>138</td>\n",
       "      <td>135</td>\n",
       "      <td>201</td>\n",
       "      <td>199</td>\n",
       "      <td>207</td>\n",
       "      <td>144</td>\n",
       "      <td>249</td>\n",
       "      <td>185</td>\n",
       "      <td>216</td>\n",
       "      <td>209</td>\n",
       "      <td>133</td>\n",
       "      <td>3064</td>\n",
       "    </tr>\n",
       "  </tbody>\n",
       "</table>\n",
       "<p>525600 rows × 18 columns</p>\n",
       "</div>"
      ],
      "text/plain": [
       "          0    1    2    3    4    5    6    7    8    9   10   11   12   13  \\\n",
       "0       240  279  243  237  275  302  296  192  280  255  286  273  249  237   \n",
       "1       240  279  243  237  275  302  296  192  280  255  286  273  249  237   \n",
       "2       240  279  243  237  275  302  296  192  280  255  286  273  249  237   \n",
       "3       240  279  243  237  275  302  296  192  280  255  286  273  249  237   \n",
       "4       240  279  243  237  275  302  296  192  280  255  286  273  249  237   \n",
       "...     ...  ...  ...  ...  ...  ...  ...  ...  ...  ...  ...  ...  ...  ...   \n",
       "525595  162  207  182  108  144  247  138  135  143  146  207  144  249  185   \n",
       "525596  162  148  182  108  201  247  138  135  143  146  207  144  249  185   \n",
       "525597  162  148  182  108  201  247  138  135  201  146  207  144  249  185   \n",
       "525598  162  148  182  108  201  247  138  135  201  146  207  144  249  185   \n",
       "525599  162  148  182  108  201  247  138  135  201  199  207  144  249  185   \n",
       "\n",
       "         14   15   16  Aggregate  \n",
       "0       274  282  285       4485  \n",
       "1       274  282  285       4485  \n",
       "2       274  282  285       4485  \n",
       "3       274  282  285       4485  \n",
       "4       274  282  285       4485  \n",
       "...     ...  ...  ...        ...  \n",
       "525595  216  282  133       3028  \n",
       "525596  216  209  133       2953  \n",
       "525597  216  209  133       3011  \n",
       "525598  216  209  133       3011  \n",
       "525599  216  209  133       3064  \n",
       "\n",
       "[525600 rows x 18 columns]"
      ]
     },
     "execution_count": 47,
     "metadata": {},
     "output_type": "execute_result"
    }
   ],
   "source": [
    "df_ele = pd.read_csv(\"Electricity_Profile.csv\",sep=\";\", header=None)\n",
    "df_ele[\"Aggregate\"] = df_ele.sum(axis=1)\n",
    "df_ele"
   ]
  },
  {
   "cell_type": "code",
   "execution_count": 48,
   "metadata": {},
   "outputs": [
    {
     "data": {
      "text/html": [
       "<div>\n",
       "<style scoped>\n",
       "    .dataframe tbody tr th:only-of-type {\n",
       "        vertical-align: middle;\n",
       "    }\n",
       "\n",
       "    .dataframe tbody tr th {\n",
       "        vertical-align: top;\n",
       "    }\n",
       "\n",
       "    .dataframe thead th {\n",
       "        text-align: right;\n",
       "    }\n",
       "</style>\n",
       "<table border=\"1\" class=\"dataframe\">\n",
       "  <thead>\n",
       "    <tr style=\"text-align: right;\">\n",
       "      <th></th>\n",
       "      <th>PlugLoads [W]</th>\n",
       "      <th>DHW [W]</th>\n",
       "      <th>HVAC Total [W]</th>\n",
       "    </tr>\n",
       "    <tr>\n",
       "      <th>Time Stamp</th>\n",
       "      <th></th>\n",
       "      <th></th>\n",
       "      <th></th>\n",
       "    </tr>\n",
       "  </thead>\n",
       "  <tbody>\n",
       "    <tr>\n",
       "      <th>2019-01-01 00:00:00</th>\n",
       "      <td>4485</td>\n",
       "      <td>NaN</td>\n",
       "      <td>0</td>\n",
       "    </tr>\n",
       "    <tr>\n",
       "      <th>2019-01-01 00:01:00</th>\n",
       "      <td>4485</td>\n",
       "      <td>NaN</td>\n",
       "      <td>0</td>\n",
       "    </tr>\n",
       "    <tr>\n",
       "      <th>2019-01-01 00:02:00</th>\n",
       "      <td>4485</td>\n",
       "      <td>NaN</td>\n",
       "      <td>0</td>\n",
       "    </tr>\n",
       "    <tr>\n",
       "      <th>2019-01-01 00:03:00</th>\n",
       "      <td>4485</td>\n",
       "      <td>NaN</td>\n",
       "      <td>0</td>\n",
       "    </tr>\n",
       "    <tr>\n",
       "      <th>2019-01-01 00:04:00</th>\n",
       "      <td>4485</td>\n",
       "      <td>NaN</td>\n",
       "      <td>0</td>\n",
       "    </tr>\n",
       "    <tr>\n",
       "      <th>...</th>\n",
       "      <td>...</td>\n",
       "      <td>...</td>\n",
       "      <td>...</td>\n",
       "    </tr>\n",
       "    <tr>\n",
       "      <th>2019-12-31 23:55:00</th>\n",
       "      <td>3028</td>\n",
       "      <td>NaN</td>\n",
       "      <td>0</td>\n",
       "    </tr>\n",
       "    <tr>\n",
       "      <th>2019-12-31 23:56:00</th>\n",
       "      <td>2953</td>\n",
       "      <td>NaN</td>\n",
       "      <td>0</td>\n",
       "    </tr>\n",
       "    <tr>\n",
       "      <th>2019-12-31 23:57:00</th>\n",
       "      <td>3011</td>\n",
       "      <td>NaN</td>\n",
       "      <td>0</td>\n",
       "    </tr>\n",
       "    <tr>\n",
       "      <th>2019-12-31 23:58:00</th>\n",
       "      <td>3011</td>\n",
       "      <td>NaN</td>\n",
       "      <td>0</td>\n",
       "    </tr>\n",
       "    <tr>\n",
       "      <th>2019-12-31 23:59:00</th>\n",
       "      <td>3064</td>\n",
       "      <td>NaN</td>\n",
       "      <td>0</td>\n",
       "    </tr>\n",
       "  </tbody>\n",
       "</table>\n",
       "<p>525600 rows × 3 columns</p>\n",
       "</div>"
      ],
      "text/plain": [
       "                     PlugLoads [W]  DHW [W]  HVAC Total [W]\n",
       "Time Stamp                                                 \n",
       "2019-01-01 00:00:00           4485      NaN               0\n",
       "2019-01-01 00:01:00           4485      NaN               0\n",
       "2019-01-01 00:02:00           4485      NaN               0\n",
       "2019-01-01 00:03:00           4485      NaN               0\n",
       "2019-01-01 00:04:00           4485      NaN               0\n",
       "...                            ...      ...             ...\n",
       "2019-12-31 23:55:00           3028      NaN               0\n",
       "2019-12-31 23:56:00           2953      NaN               0\n",
       "2019-12-31 23:57:00           3011      NaN               0\n",
       "2019-12-31 23:58:00           3011      NaN               0\n",
       "2019-12-31 23:59:00           3064      NaN               0\n",
       "\n",
       "[525600 rows x 3 columns]"
      ]
     },
     "execution_count": 48,
     "metadata": {},
     "output_type": "execute_result"
    }
   ],
   "source": [
    "df = df_ele[\"Aggregate\"].copy()\n",
    "df = df.to_frame()\n",
    "df[\"Time Stamp\"] = pd.DatetimeIndex((pd.Timestamp('20190101') + pd.to_timedelta(np.arange(525600),unit='m')).values)\n",
    "df = df.set_index(\"Time Stamp\")\n",
    "df = df.rename(columns={\"Aggregate\":\"PlugLoads [W]\"})\n",
    "df[\"DHW [W]\"] = np.nan\n",
    "df[\"HVAC Total [W]\"] = 0\n",
    "df"
   ]
  },
  {
   "cell_type": "markdown",
   "metadata": {},
   "source": [
    "### Read DHW Profile"
   ]
  },
  {
   "cell_type": "code",
   "execution_count": 49,
   "metadata": {},
   "outputs": [
    {
     "data": {
      "text/html": [
       "<div>\n",
       "<style scoped>\n",
       "    .dataframe tbody tr th:only-of-type {\n",
       "        vertical-align: middle;\n",
       "    }\n",
       "\n",
       "    .dataframe tbody tr th {\n",
       "        vertical-align: top;\n",
       "    }\n",
       "\n",
       "    .dataframe thead th {\n",
       "        text-align: right;\n",
       "    }\n",
       "</style>\n",
       "<table border=\"1\" class=\"dataframe\">\n",
       "  <thead>\n",
       "    <tr style=\"text-align: right;\">\n",
       "      <th></th>\n",
       "      <th>0</th>\n",
       "      <th>1</th>\n",
       "      <th>2</th>\n",
       "      <th>3</th>\n",
       "      <th>4</th>\n",
       "      <th>5</th>\n",
       "      <th>6</th>\n",
       "      <th>7</th>\n",
       "      <th>8</th>\n",
       "      <th>9</th>\n",
       "      <th>10</th>\n",
       "      <th>11</th>\n",
       "      <th>12</th>\n",
       "      <th>13</th>\n",
       "      <th>14</th>\n",
       "      <th>15</th>\n",
       "      <th>16</th>\n",
       "      <th>Aggregate</th>\n",
       "    </tr>\n",
       "  </thead>\n",
       "  <tbody>\n",
       "    <tr>\n",
       "      <th>0</th>\n",
       "      <td>0</td>\n",
       "      <td>0</td>\n",
       "      <td>0</td>\n",
       "      <td>0</td>\n",
       "      <td>0</td>\n",
       "      <td>0</td>\n",
       "      <td>0</td>\n",
       "      <td>0</td>\n",
       "      <td>0</td>\n",
       "      <td>0</td>\n",
       "      <td>0</td>\n",
       "      <td>0</td>\n",
       "      <td>0</td>\n",
       "      <td>0</td>\n",
       "      <td>0</td>\n",
       "      <td>0</td>\n",
       "      <td>0</td>\n",
       "      <td>0</td>\n",
       "    </tr>\n",
       "    <tr>\n",
       "      <th>1</th>\n",
       "      <td>0</td>\n",
       "      <td>0</td>\n",
       "      <td>0</td>\n",
       "      <td>0</td>\n",
       "      <td>0</td>\n",
       "      <td>0</td>\n",
       "      <td>0</td>\n",
       "      <td>0</td>\n",
       "      <td>0</td>\n",
       "      <td>0</td>\n",
       "      <td>0</td>\n",
       "      <td>0</td>\n",
       "      <td>0</td>\n",
       "      <td>0</td>\n",
       "      <td>0</td>\n",
       "      <td>0</td>\n",
       "      <td>0</td>\n",
       "      <td>0</td>\n",
       "    </tr>\n",
       "    <tr>\n",
       "      <th>2</th>\n",
       "      <td>0</td>\n",
       "      <td>0</td>\n",
       "      <td>0</td>\n",
       "      <td>0</td>\n",
       "      <td>0</td>\n",
       "      <td>0</td>\n",
       "      <td>0</td>\n",
       "      <td>0</td>\n",
       "      <td>0</td>\n",
       "      <td>0</td>\n",
       "      <td>0</td>\n",
       "      <td>0</td>\n",
       "      <td>0</td>\n",
       "      <td>0</td>\n",
       "      <td>0</td>\n",
       "      <td>0</td>\n",
       "      <td>0</td>\n",
       "      <td>0</td>\n",
       "    </tr>\n",
       "    <tr>\n",
       "      <th>3</th>\n",
       "      <td>0</td>\n",
       "      <td>0</td>\n",
       "      <td>0</td>\n",
       "      <td>0</td>\n",
       "      <td>0</td>\n",
       "      <td>0</td>\n",
       "      <td>0</td>\n",
       "      <td>0</td>\n",
       "      <td>0</td>\n",
       "      <td>0</td>\n",
       "      <td>0</td>\n",
       "      <td>0</td>\n",
       "      <td>0</td>\n",
       "      <td>0</td>\n",
       "      <td>0</td>\n",
       "      <td>0</td>\n",
       "      <td>0</td>\n",
       "      <td>0</td>\n",
       "    </tr>\n",
       "    <tr>\n",
       "      <th>4</th>\n",
       "      <td>0</td>\n",
       "      <td>0</td>\n",
       "      <td>0</td>\n",
       "      <td>0</td>\n",
       "      <td>0</td>\n",
       "      <td>0</td>\n",
       "      <td>0</td>\n",
       "      <td>0</td>\n",
       "      <td>0</td>\n",
       "      <td>0</td>\n",
       "      <td>0</td>\n",
       "      <td>0</td>\n",
       "      <td>0</td>\n",
       "      <td>0</td>\n",
       "      <td>0</td>\n",
       "      <td>0</td>\n",
       "      <td>0</td>\n",
       "      <td>0</td>\n",
       "    </tr>\n",
       "    <tr>\n",
       "      <th>...</th>\n",
       "      <td>...</td>\n",
       "      <td>...</td>\n",
       "      <td>...</td>\n",
       "      <td>...</td>\n",
       "      <td>...</td>\n",
       "      <td>...</td>\n",
       "      <td>...</td>\n",
       "      <td>...</td>\n",
       "      <td>...</td>\n",
       "      <td>...</td>\n",
       "      <td>...</td>\n",
       "      <td>...</td>\n",
       "      <td>...</td>\n",
       "      <td>...</td>\n",
       "      <td>...</td>\n",
       "      <td>...</td>\n",
       "      <td>...</td>\n",
       "      <td>...</td>\n",
       "    </tr>\n",
       "    <tr>\n",
       "      <th>525595</th>\n",
       "      <td>0</td>\n",
       "      <td>0</td>\n",
       "      <td>0</td>\n",
       "      <td>0</td>\n",
       "      <td>0</td>\n",
       "      <td>0</td>\n",
       "      <td>0</td>\n",
       "      <td>0</td>\n",
       "      <td>0</td>\n",
       "      <td>0</td>\n",
       "      <td>0</td>\n",
       "      <td>0</td>\n",
       "      <td>0</td>\n",
       "      <td>0</td>\n",
       "      <td>0</td>\n",
       "      <td>0</td>\n",
       "      <td>0</td>\n",
       "      <td>0</td>\n",
       "    </tr>\n",
       "    <tr>\n",
       "      <th>525596</th>\n",
       "      <td>0</td>\n",
       "      <td>0</td>\n",
       "      <td>0</td>\n",
       "      <td>0</td>\n",
       "      <td>0</td>\n",
       "      <td>0</td>\n",
       "      <td>0</td>\n",
       "      <td>0</td>\n",
       "      <td>0</td>\n",
       "      <td>0</td>\n",
       "      <td>0</td>\n",
       "      <td>0</td>\n",
       "      <td>0</td>\n",
       "      <td>0</td>\n",
       "      <td>0</td>\n",
       "      <td>0</td>\n",
       "      <td>0</td>\n",
       "      <td>0</td>\n",
       "    </tr>\n",
       "    <tr>\n",
       "      <th>525597</th>\n",
       "      <td>0</td>\n",
       "      <td>0</td>\n",
       "      <td>0</td>\n",
       "      <td>0</td>\n",
       "      <td>0</td>\n",
       "      <td>0</td>\n",
       "      <td>0</td>\n",
       "      <td>0</td>\n",
       "      <td>0</td>\n",
       "      <td>0</td>\n",
       "      <td>0</td>\n",
       "      <td>0</td>\n",
       "      <td>0</td>\n",
       "      <td>0</td>\n",
       "      <td>0</td>\n",
       "      <td>0</td>\n",
       "      <td>0</td>\n",
       "      <td>0</td>\n",
       "    </tr>\n",
       "    <tr>\n",
       "      <th>525598</th>\n",
       "      <td>0</td>\n",
       "      <td>0</td>\n",
       "      <td>0</td>\n",
       "      <td>0</td>\n",
       "      <td>0</td>\n",
       "      <td>0</td>\n",
       "      <td>0</td>\n",
       "      <td>0</td>\n",
       "      <td>0</td>\n",
       "      <td>0</td>\n",
       "      <td>0</td>\n",
       "      <td>0</td>\n",
       "      <td>0</td>\n",
       "      <td>0</td>\n",
       "      <td>0</td>\n",
       "      <td>0</td>\n",
       "      <td>0</td>\n",
       "      <td>0</td>\n",
       "    </tr>\n",
       "    <tr>\n",
       "      <th>525599</th>\n",
       "      <td>0</td>\n",
       "      <td>0</td>\n",
       "      <td>0</td>\n",
       "      <td>0</td>\n",
       "      <td>0</td>\n",
       "      <td>0</td>\n",
       "      <td>0</td>\n",
       "      <td>0</td>\n",
       "      <td>0</td>\n",
       "      <td>0</td>\n",
       "      <td>0</td>\n",
       "      <td>0</td>\n",
       "      <td>0</td>\n",
       "      <td>0</td>\n",
       "      <td>0</td>\n",
       "      <td>0</td>\n",
       "      <td>0</td>\n",
       "      <td>0</td>\n",
       "    </tr>\n",
       "  </tbody>\n",
       "</table>\n",
       "<p>525600 rows × 18 columns</p>\n",
       "</div>"
      ],
      "text/plain": [
       "        0  1  2  3  4  5  6  7  8  9  10  11  12  13  14  15  16  Aggregate\n",
       "0       0  0  0  0  0  0  0  0  0  0   0   0   0   0   0   0   0          0\n",
       "1       0  0  0  0  0  0  0  0  0  0   0   0   0   0   0   0   0          0\n",
       "2       0  0  0  0  0  0  0  0  0  0   0   0   0   0   0   0   0          0\n",
       "3       0  0  0  0  0  0  0  0  0  0   0   0   0   0   0   0   0          0\n",
       "4       0  0  0  0  0  0  0  0  0  0   0   0   0   0   0   0   0          0\n",
       "...    .. .. .. .. .. .. .. .. .. ..  ..  ..  ..  ..  ..  ..  ..        ...\n",
       "525595  0  0  0  0  0  0  0  0  0  0   0   0   0   0   0   0   0          0\n",
       "525596  0  0  0  0  0  0  0  0  0  0   0   0   0   0   0   0   0          0\n",
       "525597  0  0  0  0  0  0  0  0  0  0   0   0   0   0   0   0   0          0\n",
       "525598  0  0  0  0  0  0  0  0  0  0   0   0   0   0   0   0   0          0\n",
       "525599  0  0  0  0  0  0  0  0  0  0   0   0   0   0   0   0   0          0\n",
       "\n",
       "[525600 rows x 18 columns]"
      ]
     },
     "execution_count": 49,
     "metadata": {},
     "output_type": "execute_result"
    }
   ],
   "source": [
    "df_hw = pd.read_csv(\"Heatdemand_Profile_DHWTap.csv\",sep=\";\", header=None)\n",
    "df_hw[\"Aggregate\"] = df_hw.sum(axis=1)\n",
    "df_hw"
   ]
  },
  {
   "cell_type": "code",
   "execution_count": 50,
   "metadata": {},
   "outputs": [
    {
     "data": {
      "text/html": [
       "<div>\n",
       "<style scoped>\n",
       "    .dataframe tbody tr th:only-of-type {\n",
       "        vertical-align: middle;\n",
       "    }\n",
       "\n",
       "    .dataframe tbody tr th {\n",
       "        vertical-align: top;\n",
       "    }\n",
       "\n",
       "    .dataframe thead th {\n",
       "        text-align: right;\n",
       "    }\n",
       "</style>\n",
       "<table border=\"1\" class=\"dataframe\">\n",
       "  <thead>\n",
       "    <tr style=\"text-align: right;\">\n",
       "      <th></th>\n",
       "      <th>DHW [W]</th>\n",
       "    </tr>\n",
       "    <tr>\n",
       "      <th>Time Stamp</th>\n",
       "      <th></th>\n",
       "    </tr>\n",
       "  </thead>\n",
       "  <tbody>\n",
       "    <tr>\n",
       "      <th>2019-01-01 00:00:00</th>\n",
       "      <td>0</td>\n",
       "    </tr>\n",
       "    <tr>\n",
       "      <th>2019-01-01 00:01:00</th>\n",
       "      <td>0</td>\n",
       "    </tr>\n",
       "    <tr>\n",
       "      <th>2019-01-01 00:02:00</th>\n",
       "      <td>0</td>\n",
       "    </tr>\n",
       "    <tr>\n",
       "      <th>2019-01-01 00:03:00</th>\n",
       "      <td>0</td>\n",
       "    </tr>\n",
       "    <tr>\n",
       "      <th>2019-01-01 00:04:00</th>\n",
       "      <td>0</td>\n",
       "    </tr>\n",
       "    <tr>\n",
       "      <th>...</th>\n",
       "      <td>...</td>\n",
       "    </tr>\n",
       "    <tr>\n",
       "      <th>2019-12-31 23:55:00</th>\n",
       "      <td>0</td>\n",
       "    </tr>\n",
       "    <tr>\n",
       "      <th>2019-12-31 23:56:00</th>\n",
       "      <td>0</td>\n",
       "    </tr>\n",
       "    <tr>\n",
       "      <th>2019-12-31 23:57:00</th>\n",
       "      <td>0</td>\n",
       "    </tr>\n",
       "    <tr>\n",
       "      <th>2019-12-31 23:58:00</th>\n",
       "      <td>0</td>\n",
       "    </tr>\n",
       "    <tr>\n",
       "      <th>2019-12-31 23:59:00</th>\n",
       "      <td>0</td>\n",
       "    </tr>\n",
       "  </tbody>\n",
       "</table>\n",
       "<p>525600 rows × 1 columns</p>\n",
       "</div>"
      ],
      "text/plain": [
       "                     DHW [W]\n",
       "Time Stamp                  \n",
       "2019-01-01 00:00:00        0\n",
       "2019-01-01 00:01:00        0\n",
       "2019-01-01 00:02:00        0\n",
       "2019-01-01 00:03:00        0\n",
       "2019-01-01 00:04:00        0\n",
       "...                      ...\n",
       "2019-12-31 23:55:00        0\n",
       "2019-12-31 23:56:00        0\n",
       "2019-12-31 23:57:00        0\n",
       "2019-12-31 23:58:00        0\n",
       "2019-12-31 23:59:00        0\n",
       "\n",
       "[525600 rows x 1 columns]"
      ]
     },
     "execution_count": 50,
     "metadata": {},
     "output_type": "execute_result"
    }
   ],
   "source": [
    "df1 = df_hw[\"Aggregate\"].copy()\n",
    "df1 = df1.to_frame()\n",
    "df1[\"Time Stamp\"] = pd.DatetimeIndex((pd.Timestamp('20190101') + pd.to_timedelta(np.arange(525600),unit='m')).values)\n",
    "df1 = df1.set_index(\"Time Stamp\")\n",
    "df1 = df1.rename(columns={\"Aggregate\":\"DHW [W]\"})\n",
    "df1"
   ]
  },
  {
   "cell_type": "markdown",
   "metadata": {},
   "source": [
    "### Read HVAC Profile"
   ]
  },
  {
   "cell_type": "code",
   "execution_count": 51,
   "metadata": {},
   "outputs": [],
   "source": [
    "dfh_134 = pd.read_csv(\"C:\\\\Users\\\\20200457\\\\OneDrive - TU Eindhoven\\\\SBC Curriculum\\\\Design Case\\\\Microgrid Modeling\\\\HCV-ilaria\\\\IDFs\\\\134_hvac.csv\")\n"
   ]
  },
  {
   "cell_type": "code",
   "execution_count": 52,
   "metadata": {},
   "outputs": [
    {
     "data": {
      "text/html": [
       "<div>\n",
       "<style scoped>\n",
       "    .dataframe tbody tr th:only-of-type {\n",
       "        vertical-align: middle;\n",
       "    }\n",
       "\n",
       "    .dataframe tbody tr th {\n",
       "        vertical-align: top;\n",
       "    }\n",
       "\n",
       "    .dataframe thead th {\n",
       "        text-align: right;\n",
       "    }\n",
       "</style>\n",
       "<table border=\"1\" class=\"dataframe\">\n",
       "  <thead>\n",
       "    <tr style=\"text-align: right;\">\n",
       "      <th></th>\n",
       "      <th>Whole Building:Facility Total HVAC Electric Demand Power [kW](TimeStep)</th>\n",
       "    </tr>\n",
       "    <tr>\n",
       "      <th>Time Stamp</th>\n",
       "      <th></th>\n",
       "    </tr>\n",
       "  </thead>\n",
       "  <tbody>\n",
       "    <tr>\n",
       "      <th>2019-01-01 00:00:00</th>\n",
       "      <td>2.752682</td>\n",
       "    </tr>\n",
       "    <tr>\n",
       "      <th>2019-01-01 00:01:00</th>\n",
       "      <td>2.750293</td>\n",
       "    </tr>\n",
       "    <tr>\n",
       "      <th>2019-01-01 00:02:00</th>\n",
       "      <td>2.746845</td>\n",
       "    </tr>\n",
       "    <tr>\n",
       "      <th>2019-01-01 00:03:00</th>\n",
       "      <td>2.744995</td>\n",
       "    </tr>\n",
       "    <tr>\n",
       "      <th>2019-01-01 00:04:00</th>\n",
       "      <td>2.744302</td>\n",
       "    </tr>\n",
       "    <tr>\n",
       "      <th>...</th>\n",
       "      <td>...</td>\n",
       "    </tr>\n",
       "    <tr>\n",
       "      <th>2019-12-31 23:55:00</th>\n",
       "      <td>2.757092</td>\n",
       "    </tr>\n",
       "    <tr>\n",
       "      <th>2019-12-31 23:56:00</th>\n",
       "      <td>2.756868</td>\n",
       "    </tr>\n",
       "    <tr>\n",
       "      <th>2019-12-31 23:57:00</th>\n",
       "      <td>2.756666</td>\n",
       "    </tr>\n",
       "    <tr>\n",
       "      <th>2019-12-31 23:58:00</th>\n",
       "      <td>2.756484</td>\n",
       "    </tr>\n",
       "    <tr>\n",
       "      <th>2019-12-31 23:59:00</th>\n",
       "      <td>2.756320</td>\n",
       "    </tr>\n",
       "  </tbody>\n",
       "</table>\n",
       "<p>525600 rows × 1 columns</p>\n",
       "</div>"
      ],
      "text/plain": [
       "                     Whole Building:Facility Total HVAC Electric Demand Power [kW](TimeStep)\n",
       "Time Stamp                                                                                  \n",
       "2019-01-01 00:00:00                                           2.752682                      \n",
       "2019-01-01 00:01:00                                           2.750293                      \n",
       "2019-01-01 00:02:00                                           2.746845                      \n",
       "2019-01-01 00:03:00                                           2.744995                      \n",
       "2019-01-01 00:04:00                                           2.744302                      \n",
       "...                                                                ...                      \n",
       "2019-12-31 23:55:00                                           2.757092                      \n",
       "2019-12-31 23:56:00                                           2.756868                      \n",
       "2019-12-31 23:57:00                                           2.756666                      \n",
       "2019-12-31 23:58:00                                           2.756484                      \n",
       "2019-12-31 23:59:00                                           2.756320                      \n",
       "\n",
       "[525600 rows x 1 columns]"
      ]
     },
     "execution_count": 52,
     "metadata": {},
     "output_type": "execute_result"
    }
   ],
   "source": [
    "dfh_134 = pd.read_csv(\"C:\\\\Users\\\\20200457\\\\OneDrive - TU Eindhoven\\\\SBC Curriculum\\\\Design Case\\\\Microgrid Modeling\\\\HCV-ilaria\\\\IDFs\\\\134_hvac.csv\")\n",
    "dfh_244 = pd.read_csv(\"C:\\\\Users\\\\20200457\\\\OneDrive - TU Eindhoven\\\\SBC Curriculum\\\\Design Case\\\\Microgrid Modeling\\\\HCV-ilaria\\\\IDFs\\\\244_hvac.csv\")\n",
    "dfh_444 = pd.read_csv(\"C:\\\\Users\\\\20200457\\\\OneDrive - TU Eindhoven\\\\SBC Curriculum\\\\Design Case\\\\Microgrid Modeling\\\\HCV-ilaria\\\\IDFs\\\\444_hvac.csv\")\n",
    "dfh_664 = pd.read_csv(\"C:\\\\Users\\\\20200457\\\\OneDrive - TU Eindhoven\\\\SBC Curriculum\\\\Design Case\\\\Microgrid Modeling\\\\HCV-ilaria\\\\IDFs\\\\664_hvac.csv\")\n",
    "dfh_1694 = pd.read_csv(\"C:\\\\Users\\\\20200457\\\\OneDrive - TU Eindhoven\\\\SBC Curriculum\\\\Design Case\\\\Microgrid Modeling\\\\HCV-ilaria\\\\IDFs\\\\1694_hvac.csv\")\n",
    "dfh_3373 = pd.read_csv(\"C:\\\\Users\\\\20200457\\\\OneDrive - TU Eindhoven\\\\SBC Curriculum\\\\Design Case\\\\Microgrid Modeling\\\\HCV-ilaria\\\\IDFs\\\\3373_hvac.csv\")\n",
    "dfh_3394 = pd.read_csv(\"C:\\\\Users\\\\20200457\\\\OneDrive - TU Eindhoven\\\\SBC Curriculum\\\\Design Case\\\\Microgrid Modeling\\\\HCV-ilaria\\\\IDFs\\\\3394_hvac.csv\")\n",
    "dfh_4473 = pd.read_csv(\"C:\\\\Users\\\\20200457\\\\OneDrive - TU Eindhoven\\\\SBC Curriculum\\\\Design Case\\\\Microgrid Modeling\\\\HCV-ilaria\\\\IDFs\\\\4473_hvac.csv\")\n",
    "dfh_4494 = pd.read_csv(\"C:\\\\Users\\\\20200457\\\\OneDrive - TU Eindhoven\\\\SBC Curriculum\\\\Design Case\\\\Microgrid Modeling\\\\HCV-ilaria\\\\IDFs\\\\4494_hvac.csv\")\n",
    "dfh_6694 = pd.read_csv(\"C:\\\\Users\\\\20200457\\\\OneDrive - TU Eindhoven\\\\SBC Curriculum\\\\Design Case\\\\Microgrid Modeling\\\\HCV-ilaria\\\\IDFs\\\\6694_hvac.csv\")\n",
    "df_hvac = dfh_134[\"Whole Building:Facility Total HVAC Electric Demand Power [kW](TimeStep)\"]+dfh_244[\"Whole Building:Facility Total HVAC Electric Demand Power [kW](TimeStep)\"]+dfh_444[\"Whole Building:Facility Total HVAC Electric Demand Power [kW](TimeStep)\"]+dfh_664[\"Whole Building:Facility Total HVAC Electric Demand Power [kW](TimeStep)\"]+dfh_1694[\"Whole Building:Facility Total HVAC Electric Demand Power [kW](TimeStep)\"]+dfh_3373[\"Whole Building:Facility Total HVAC Electric Demand Power [kW](TimeStep)\"]+dfh_3394[\"Whole Building:Facility Total HVAC Electric Demand Power [kW](TimeStep)\"]+dfh_4473[\"Whole Building:Facility Total HVAC Electric Demand Power [kW](TimeStep)\"]+dfh_4494[\"Whole Building:Facility Total HVAC Electric Demand Power [kW](TimeStep)\"]+dfh_6694[\"Whole Building:Facility Total HVAC Electric Demand Power [kW](TimeStep)\"]\n",
    "df_hvac = df_hvac.to_frame()\n",
    "df_hvac[\"Time Stamp\"] = pd.DatetimeIndex((pd.Timestamp('20190101') + pd.to_timedelta(np.arange(525600),unit='m')).values)\n",
    "df_hvac = df_hvac.set_index(\"Time Stamp\")\n",
    "df_hvac"
   ]
  },
  {
   "cell_type": "markdown",
   "metadata": {},
   "source": [
    "## Combining Load Profiles"
   ]
  },
  {
   "cell_type": "code",
   "execution_count": 53,
   "metadata": {},
   "outputs": [
    {
     "data": {
      "text/html": [
       "<div>\n",
       "<style scoped>\n",
       "    .dataframe tbody tr th:only-of-type {\n",
       "        vertical-align: middle;\n",
       "    }\n",
       "\n",
       "    .dataframe tbody tr th {\n",
       "        vertical-align: top;\n",
       "    }\n",
       "\n",
       "    .dataframe thead th {\n",
       "        text-align: right;\n",
       "    }\n",
       "</style>\n",
       "<table border=\"1\" class=\"dataframe\">\n",
       "  <thead>\n",
       "    <tr style=\"text-align: right;\">\n",
       "      <th></th>\n",
       "      <th>PlugLoads [W]</th>\n",
       "      <th>DHW [W]</th>\n",
       "      <th>HVAC Total [W]</th>\n",
       "      <th>Dwelling Total [W]</th>\n",
       "    </tr>\n",
       "    <tr>\n",
       "      <th>Time Stamp</th>\n",
       "      <th></th>\n",
       "      <th></th>\n",
       "      <th></th>\n",
       "      <th></th>\n",
       "    </tr>\n",
       "  </thead>\n",
       "  <tbody>\n",
       "    <tr>\n",
       "      <th>2019-01-01 00:00:00</th>\n",
       "      <td>4485</td>\n",
       "      <td>0</td>\n",
       "      <td>2752.681805</td>\n",
       "      <td>7237.681805</td>\n",
       "    </tr>\n",
       "    <tr>\n",
       "      <th>2019-01-01 00:01:00</th>\n",
       "      <td>4485</td>\n",
       "      <td>0</td>\n",
       "      <td>2750.292614</td>\n",
       "      <td>7235.292614</td>\n",
       "    </tr>\n",
       "    <tr>\n",
       "      <th>2019-01-01 00:02:00</th>\n",
       "      <td>4485</td>\n",
       "      <td>0</td>\n",
       "      <td>2746.845060</td>\n",
       "      <td>7231.845060</td>\n",
       "    </tr>\n",
       "    <tr>\n",
       "      <th>2019-01-01 00:03:00</th>\n",
       "      <td>4485</td>\n",
       "      <td>0</td>\n",
       "      <td>2744.994699</td>\n",
       "      <td>7229.994699</td>\n",
       "    </tr>\n",
       "    <tr>\n",
       "      <th>2019-01-01 00:04:00</th>\n",
       "      <td>4485</td>\n",
       "      <td>0</td>\n",
       "      <td>2744.301856</td>\n",
       "      <td>7229.301856</td>\n",
       "    </tr>\n",
       "    <tr>\n",
       "      <th>...</th>\n",
       "      <td>...</td>\n",
       "      <td>...</td>\n",
       "      <td>...</td>\n",
       "      <td>...</td>\n",
       "    </tr>\n",
       "    <tr>\n",
       "      <th>2019-12-31 23:55:00</th>\n",
       "      <td>3028</td>\n",
       "      <td>0</td>\n",
       "      <td>2757.092432</td>\n",
       "      <td>5785.092432</td>\n",
       "    </tr>\n",
       "    <tr>\n",
       "      <th>2019-12-31 23:56:00</th>\n",
       "      <td>2953</td>\n",
       "      <td>0</td>\n",
       "      <td>2756.868082</td>\n",
       "      <td>5709.868082</td>\n",
       "    </tr>\n",
       "    <tr>\n",
       "      <th>2019-12-31 23:57:00</th>\n",
       "      <td>3011</td>\n",
       "      <td>0</td>\n",
       "      <td>2756.666172</td>\n",
       "      <td>5767.666172</td>\n",
       "    </tr>\n",
       "    <tr>\n",
       "      <th>2019-12-31 23:58:00</th>\n",
       "      <td>3011</td>\n",
       "      <td>0</td>\n",
       "      <td>2756.484226</td>\n",
       "      <td>5767.484226</td>\n",
       "    </tr>\n",
       "    <tr>\n",
       "      <th>2019-12-31 23:59:00</th>\n",
       "      <td>3064</td>\n",
       "      <td>0</td>\n",
       "      <td>2756.320067</td>\n",
       "      <td>5820.320067</td>\n",
       "    </tr>\n",
       "  </tbody>\n",
       "</table>\n",
       "<p>525600 rows × 4 columns</p>\n",
       "</div>"
      ],
      "text/plain": [
       "                     PlugLoads [W]  DHW [W]  HVAC Total [W]  \\\n",
       "Time Stamp                                                    \n",
       "2019-01-01 00:00:00           4485        0     2752.681805   \n",
       "2019-01-01 00:01:00           4485        0     2750.292614   \n",
       "2019-01-01 00:02:00           4485        0     2746.845060   \n",
       "2019-01-01 00:03:00           4485        0     2744.994699   \n",
       "2019-01-01 00:04:00           4485        0     2744.301856   \n",
       "...                            ...      ...             ...   \n",
       "2019-12-31 23:55:00           3028        0     2757.092432   \n",
       "2019-12-31 23:56:00           2953        0     2756.868082   \n",
       "2019-12-31 23:57:00           3011        0     2756.666172   \n",
       "2019-12-31 23:58:00           3011        0     2756.484226   \n",
       "2019-12-31 23:59:00           3064        0     2756.320067   \n",
       "\n",
       "                     Dwelling Total [W]  \n",
       "Time Stamp                               \n",
       "2019-01-01 00:00:00         7237.681805  \n",
       "2019-01-01 00:01:00         7235.292614  \n",
       "2019-01-01 00:02:00         7231.845060  \n",
       "2019-01-01 00:03:00         7229.994699  \n",
       "2019-01-01 00:04:00         7229.301856  \n",
       "...                                 ...  \n",
       "2019-12-31 23:55:00         5785.092432  \n",
       "2019-12-31 23:56:00         5709.868082  \n",
       "2019-12-31 23:57:00         5767.666172  \n",
       "2019-12-31 23:58:00         5767.484226  \n",
       "2019-12-31 23:59:00         5820.320067  \n",
       "\n",
       "[525600 rows x 4 columns]"
      ]
     },
     "execution_count": 53,
     "metadata": {},
     "output_type": "execute_result"
    }
   ],
   "source": [
    "df[\"DHW [W]\"] = df1[\"DHW [W]\"]\n",
    "df[\"HVAC Total [W]\"] = df_hvac[\"Whole Building:Facility Total HVAC Electric Demand Power [kW](TimeStep)\"]*1000\n",
    "df[\"Dwelling Total [W]\"] = df[\"PlugLoads [W]\"]+df[\"DHW [W]\"]+df[\"HVAC Total [W]\"]\n",
    "df"
   ]
  },
  {
   "cell_type": "code",
   "execution_count": 54,
   "metadata": {},
   "outputs": [
    {
     "data": {
      "text/html": [
       "<div>\n",
       "<style scoped>\n",
       "    .dataframe tbody tr th:only-of-type {\n",
       "        vertical-align: middle;\n",
       "    }\n",
       "\n",
       "    .dataframe tbody tr th {\n",
       "        vertical-align: top;\n",
       "    }\n",
       "\n",
       "    .dataframe thead th {\n",
       "        text-align: right;\n",
       "    }\n",
       "</style>\n",
       "<table border=\"1\" class=\"dataframe\">\n",
       "  <thead>\n",
       "    <tr style=\"text-align: right;\">\n",
       "      <th></th>\n",
       "      <th>PlugLoads [W]</th>\n",
       "      <th>DHW [W]</th>\n",
       "      <th>HVAC Total [W]</th>\n",
       "      <th>Dwelling Total [W]</th>\n",
       "      <th>Week</th>\n",
       "      <th>Day</th>\n",
       "      <th>DayOfWeek</th>\n",
       "      <th>Hour</th>\n",
       "      <th>Month</th>\n",
       "    </tr>\n",
       "    <tr>\n",
       "      <th>Time Stamp</th>\n",
       "      <th></th>\n",
       "      <th></th>\n",
       "      <th></th>\n",
       "      <th></th>\n",
       "      <th></th>\n",
       "      <th></th>\n",
       "      <th></th>\n",
       "      <th></th>\n",
       "      <th></th>\n",
       "    </tr>\n",
       "  </thead>\n",
       "  <tbody>\n",
       "    <tr>\n",
       "      <th>2019-01-01 00:00:00</th>\n",
       "      <td>4485</td>\n",
       "      <td>0</td>\n",
       "      <td>2752.681805</td>\n",
       "      <td>7237.681805</td>\n",
       "      <td>1</td>\n",
       "      <td>1</td>\n",
       "      <td>1</td>\n",
       "      <td>0</td>\n",
       "      <td>1</td>\n",
       "    </tr>\n",
       "    <tr>\n",
       "      <th>2019-01-01 00:01:00</th>\n",
       "      <td>4485</td>\n",
       "      <td>0</td>\n",
       "      <td>2750.292614</td>\n",
       "      <td>7235.292614</td>\n",
       "      <td>1</td>\n",
       "      <td>1</td>\n",
       "      <td>1</td>\n",
       "      <td>0</td>\n",
       "      <td>1</td>\n",
       "    </tr>\n",
       "    <tr>\n",
       "      <th>2019-01-01 00:02:00</th>\n",
       "      <td>4485</td>\n",
       "      <td>0</td>\n",
       "      <td>2746.845060</td>\n",
       "      <td>7231.845060</td>\n",
       "      <td>1</td>\n",
       "      <td>1</td>\n",
       "      <td>1</td>\n",
       "      <td>0</td>\n",
       "      <td>1</td>\n",
       "    </tr>\n",
       "    <tr>\n",
       "      <th>2019-01-01 00:03:00</th>\n",
       "      <td>4485</td>\n",
       "      <td>0</td>\n",
       "      <td>2744.994699</td>\n",
       "      <td>7229.994699</td>\n",
       "      <td>1</td>\n",
       "      <td>1</td>\n",
       "      <td>1</td>\n",
       "      <td>0</td>\n",
       "      <td>1</td>\n",
       "    </tr>\n",
       "    <tr>\n",
       "      <th>2019-01-01 00:04:00</th>\n",
       "      <td>4485</td>\n",
       "      <td>0</td>\n",
       "      <td>2744.301856</td>\n",
       "      <td>7229.301856</td>\n",
       "      <td>1</td>\n",
       "      <td>1</td>\n",
       "      <td>1</td>\n",
       "      <td>0</td>\n",
       "      <td>1</td>\n",
       "    </tr>\n",
       "    <tr>\n",
       "      <th>...</th>\n",
       "      <td>...</td>\n",
       "      <td>...</td>\n",
       "      <td>...</td>\n",
       "      <td>...</td>\n",
       "      <td>...</td>\n",
       "      <td>...</td>\n",
       "      <td>...</td>\n",
       "      <td>...</td>\n",
       "      <td>...</td>\n",
       "    </tr>\n",
       "    <tr>\n",
       "      <th>2019-12-31 23:55:00</th>\n",
       "      <td>3028</td>\n",
       "      <td>0</td>\n",
       "      <td>2757.092432</td>\n",
       "      <td>5785.092432</td>\n",
       "      <td>1</td>\n",
       "      <td>365</td>\n",
       "      <td>1</td>\n",
       "      <td>23</td>\n",
       "      <td>12</td>\n",
       "    </tr>\n",
       "    <tr>\n",
       "      <th>2019-12-31 23:56:00</th>\n",
       "      <td>2953</td>\n",
       "      <td>0</td>\n",
       "      <td>2756.868082</td>\n",
       "      <td>5709.868082</td>\n",
       "      <td>1</td>\n",
       "      <td>365</td>\n",
       "      <td>1</td>\n",
       "      <td>23</td>\n",
       "      <td>12</td>\n",
       "    </tr>\n",
       "    <tr>\n",
       "      <th>2019-12-31 23:57:00</th>\n",
       "      <td>3011</td>\n",
       "      <td>0</td>\n",
       "      <td>2756.666172</td>\n",
       "      <td>5767.666172</td>\n",
       "      <td>1</td>\n",
       "      <td>365</td>\n",
       "      <td>1</td>\n",
       "      <td>23</td>\n",
       "      <td>12</td>\n",
       "    </tr>\n",
       "    <tr>\n",
       "      <th>2019-12-31 23:58:00</th>\n",
       "      <td>3011</td>\n",
       "      <td>0</td>\n",
       "      <td>2756.484226</td>\n",
       "      <td>5767.484226</td>\n",
       "      <td>1</td>\n",
       "      <td>365</td>\n",
       "      <td>1</td>\n",
       "      <td>23</td>\n",
       "      <td>12</td>\n",
       "    </tr>\n",
       "    <tr>\n",
       "      <th>2019-12-31 23:59:00</th>\n",
       "      <td>3064</td>\n",
       "      <td>0</td>\n",
       "      <td>2756.320067</td>\n",
       "      <td>5820.320067</td>\n",
       "      <td>1</td>\n",
       "      <td>365</td>\n",
       "      <td>1</td>\n",
       "      <td>23</td>\n",
       "      <td>12</td>\n",
       "    </tr>\n",
       "  </tbody>\n",
       "</table>\n",
       "<p>525600 rows × 9 columns</p>\n",
       "</div>"
      ],
      "text/plain": [
       "                     PlugLoads [W]  DHW [W]  HVAC Total [W]  \\\n",
       "Time Stamp                                                    \n",
       "2019-01-01 00:00:00           4485        0     2752.681805   \n",
       "2019-01-01 00:01:00           4485        0     2750.292614   \n",
       "2019-01-01 00:02:00           4485        0     2746.845060   \n",
       "2019-01-01 00:03:00           4485        0     2744.994699   \n",
       "2019-01-01 00:04:00           4485        0     2744.301856   \n",
       "...                            ...      ...             ...   \n",
       "2019-12-31 23:55:00           3028        0     2757.092432   \n",
       "2019-12-31 23:56:00           2953        0     2756.868082   \n",
       "2019-12-31 23:57:00           3011        0     2756.666172   \n",
       "2019-12-31 23:58:00           3011        0     2756.484226   \n",
       "2019-12-31 23:59:00           3064        0     2756.320067   \n",
       "\n",
       "                     Dwelling Total [W]  Week  Day  DayOfWeek  Hour  Month  \n",
       "Time Stamp                                                                  \n",
       "2019-01-01 00:00:00         7237.681805     1    1          1     0      1  \n",
       "2019-01-01 00:01:00         7235.292614     1    1          1     0      1  \n",
       "2019-01-01 00:02:00         7231.845060     1    1          1     0      1  \n",
       "2019-01-01 00:03:00         7229.994699     1    1          1     0      1  \n",
       "2019-01-01 00:04:00         7229.301856     1    1          1     0      1  \n",
       "...                                 ...   ...  ...        ...   ...    ...  \n",
       "2019-12-31 23:55:00         5785.092432     1  365          1    23     12  \n",
       "2019-12-31 23:56:00         5709.868082     1  365          1    23     12  \n",
       "2019-12-31 23:57:00         5767.666172     1  365          1    23     12  \n",
       "2019-12-31 23:58:00         5767.484226     1  365          1    23     12  \n",
       "2019-12-31 23:59:00         5820.320067     1  365          1    23     12  \n",
       "\n",
       "[525600 rows x 9 columns]"
      ]
     },
     "execution_count": 54,
     "metadata": {},
     "output_type": "execute_result"
    }
   ],
   "source": [
    "df_hm = df.copy()\n",
    "df_hm['Week'] = df_hm.index.week\n",
    "df_hm['Day'] = df_hm.index.dayofyear\n",
    "df_hm['DayOfWeek'] = df_hm.index.dayofweek\n",
    "df_hm['Hour'] = df_hm.index.hour\n",
    "df_hm['Month'] = df_hm.index.month\n",
    "df_hm"
   ]
  },
  {
   "cell_type": "code",
   "execution_count": 55,
   "metadata": {},
   "outputs": [
    {
     "data": {
      "text/plain": [
       "<matplotlib.axes._subplots.AxesSubplot at 0x1ad91cbe9d0>"
      ]
     },
     "execution_count": 55,
     "metadata": {},
     "output_type": "execute_result"
    },
    {
     "data": {
      "image/png": "[encoded data removed]",
      "text/plain": [
       "<Figure size 864x432 with 1 Axes>"
      ]
     },
     "metadata": {},
     "output_type": "display_data"
    }
   ],
   "source": [
    "sns.set(rc={'figure.figsize':(12,6)})\n",
    "sns.boxplot(data=df_hm, x=\"Hour\",y=\"PlugLoads [W]\") ## Hourly box plot for Plug Loads"
   ]
  },
  {
   "cell_type": "code",
   "execution_count": 56,
   "metadata": {},
   "outputs": [
    {
     "data": {
      "text/plain": [
       "<matplotlib.axes._subplots.AxesSubplot at 0x1ad920638e0>"
      ]
     },
     "execution_count": 56,
     "metadata": {},
     "output_type": "execute_result"
    },
    {
     "data": {
      "image/png": "[encoded data removed]",
      "text/plain": [
       "<Figure size 864x432 with 1 Axes>"
      ]
     },
     "metadata": {},
     "output_type": "display_data"
    }
   ],
   "source": [
    "sns.set(rc={'figure.figsize':(12,6)})\n",
    "sns.boxplot(data=df_hm, x=\"Hour\",y=\"DHW [W]\") ## Hourly box plot for Hot Water"
   ]
  },
  {
   "cell_type": "code",
   "execution_count": 57,
   "metadata": {},
   "outputs": [
    {
     "data": {
      "text/plain": [
       "<matplotlib.axes._subplots.AxesSubplot at 0x1adb74e77c0>"
      ]
     },
     "execution_count": 57,
     "metadata": {},
     "output_type": "execute_result"
    },
    {
     "data": {
      "image/png": "[encoded data removed]",
      "text/plain": [
       "<Figure size 864x432 with 1 Axes>"
      ]
     },
     "metadata": {},
     "output_type": "display_data"
    }
   ],
   "source": [
    "sns.set(rc={'figure.figsize':(12,6)})\n",
    "sns.boxplot(data=df_hm, x=\"Hour\",y=\"HVAC Total [W]\") ## Hourly box plot for HVAC"
   ]
  },
  {
   "cell_type": "code",
   "execution_count": 58,
   "metadata": {},
   "outputs": [
    {
     "data": {
      "text/plain": [
       "([<matplotlib.axis.XTick at 0x1adacc16250>,\n",
       "  <matplotlib.axis.XTick at 0x1adacc16220>,\n",
       "  <matplotlib.axis.XTick at 0x1adacc2e7f0>,\n",
       "  <matplotlib.axis.XTick at 0x1adacd53100>,\n",
       "  <matplotlib.axis.XTick at 0x1adacd53610>,\n",
       "  <matplotlib.axis.XTick at 0x1adacd53b20>,\n",
       "  <matplotlib.axis.XTick at 0x1adacd59070>,\n",
       "  <matplotlib.axis.XTick at 0x1adacd537f0>,\n",
       "  <matplotlib.axis.XTick at 0x1adacd593d0>,\n",
       "  <matplotlib.axis.XTick at 0x1adacd598e0>,\n",
       "  <matplotlib.axis.XTick at 0x1adacd59df0>,\n",
       "  <matplotlib.axis.XTick at 0x1adacd5c340>],\n",
       " [Text(0, 0, 'Jan'),\n",
       "  Text(0, 0, 'Feb'),\n",
       "  Text(0, 0, 'Mar'),\n",
       "  Text(0, 0, 'Apr'),\n",
       "  Text(0, 0, 'May'),\n",
       "  Text(0, 0, 'Jun'),\n",
       "  Text(0, 0, 'Jul'),\n",
       "  Text(0, 0, 'Aug'),\n",
       "  Text(0, 0, 'Sep'),\n",
       "  Text(0, 0, 'Oct'),\n",
       "  Text(0, 0, 'Nov'),\n",
       "  Text(0, 0, 'Dec')])"
      ]
     },
     "execution_count": 58,
     "metadata": {},
     "output_type": "execute_result"
    },
    {
     "data": {
      "image/png": "[encoded data removed]",
      "text/plain": [
       "<Figure size 864x432 with 1 Axes>"
      ]
     },
     "metadata": {},
     "output_type": "display_data"
    }
   ],
   "source": [
    "sns.set(rc={'figure.figsize':(12,6)})\n",
    "sns.boxplot(data=df_hm, x=\"Month\",y=\"HVAC Total [W]\") ## Hourly box plot for HVAC\n",
    "labels = [\"Jan\",\"Feb\",\"Mar\",\"Apr\",\"May\",\"Jun\",\"Jul\",\"Aug\",\"Sep\",\"Oct\",\"Nov\",\"Dec\"]\n",
    "x = np.arange(len(labels))\n",
    "plt.xticks(x,labels)"
   ]
  },
  {
   "cell_type": "markdown",
   "metadata": {},
   "source": [
    "## Conversion to Hourly Data"
   ]
  },
  {
   "cell_type": "code",
   "execution_count": 59,
   "metadata": {},
   "outputs": [
    {
     "data": {
      "text/html": [
       "<div>\n",
       "<style scoped>\n",
       "    .dataframe tbody tr th:only-of-type {\n",
       "        vertical-align: middle;\n",
       "    }\n",
       "\n",
       "    .dataframe tbody tr th {\n",
       "        vertical-align: top;\n",
       "    }\n",
       "\n",
       "    .dataframe thead th {\n",
       "        text-align: right;\n",
       "    }\n",
       "</style>\n",
       "<table border=\"1\" class=\"dataframe\">\n",
       "  <thead>\n",
       "    <tr style=\"text-align: right;\">\n",
       "      <th></th>\n",
       "      <th>PlugLoads [W]</th>\n",
       "      <th>DHW [W]</th>\n",
       "      <th>HVAC Total [W]</th>\n",
       "      <th>Dwelling Total [W]</th>\n",
       "    </tr>\n",
       "    <tr>\n",
       "      <th>Time Stamp</th>\n",
       "      <th></th>\n",
       "      <th></th>\n",
       "      <th></th>\n",
       "      <th></th>\n",
       "    </tr>\n",
       "  </thead>\n",
       "  <tbody>\n",
       "    <tr>\n",
       "      <th>2019-01-01 00:00:00</th>\n",
       "      <td>3429.500000</td>\n",
       "      <td>0.000000</td>\n",
       "      <td>2743.106705</td>\n",
       "      <td>6172.606705</td>\n",
       "    </tr>\n",
       "    <tr>\n",
       "      <th>2019-01-01 01:00:00</th>\n",
       "      <td>2977.483333</td>\n",
       "      <td>0.000000</td>\n",
       "      <td>2742.226600</td>\n",
       "      <td>5719.709933</td>\n",
       "    </tr>\n",
       "    <tr>\n",
       "      <th>2019-01-01 02:00:00</th>\n",
       "      <td>2981.800000</td>\n",
       "      <td>0.000000</td>\n",
       "      <td>2742.273035</td>\n",
       "      <td>5724.073035</td>\n",
       "    </tr>\n",
       "    <tr>\n",
       "      <th>2019-01-01 03:00:00</th>\n",
       "      <td>2951.833333</td>\n",
       "      <td>0.000000</td>\n",
       "      <td>2742.313575</td>\n",
       "      <td>5694.146908</td>\n",
       "    </tr>\n",
       "    <tr>\n",
       "      <th>2019-01-01 04:00:00</th>\n",
       "      <td>2926.700000</td>\n",
       "      <td>0.000000</td>\n",
       "      <td>2742.352597</td>\n",
       "      <td>5669.052597</td>\n",
       "    </tr>\n",
       "    <tr>\n",
       "      <th>...</th>\n",
       "      <td>...</td>\n",
       "      <td>...</td>\n",
       "      <td>...</td>\n",
       "      <td>...</td>\n",
       "    </tr>\n",
       "    <tr>\n",
       "      <th>2019-12-31 19:00:00</th>\n",
       "      <td>14150.800000</td>\n",
       "      <td>13573.666667</td>\n",
       "      <td>11277.229630</td>\n",
       "      <td>39001.696297</td>\n",
       "    </tr>\n",
       "    <tr>\n",
       "      <th>2019-12-31 20:00:00</th>\n",
       "      <td>10381.450000</td>\n",
       "      <td>9952.416667</td>\n",
       "      <td>10905.533440</td>\n",
       "      <td>31239.400107</td>\n",
       "    </tr>\n",
       "    <tr>\n",
       "      <th>2019-12-31 21:00:00</th>\n",
       "      <td>8631.000000</td>\n",
       "      <td>5223.250000</td>\n",
       "      <td>10653.882875</td>\n",
       "      <td>24508.132875</td>\n",
       "    </tr>\n",
       "    <tr>\n",
       "      <th>2019-12-31 22:00:00</th>\n",
       "      <td>7497.266667</td>\n",
       "      <td>4478.183333</td>\n",
       "      <td>10482.228207</td>\n",
       "      <td>22457.678207</td>\n",
       "    </tr>\n",
       "    <tr>\n",
       "      <th>2019-12-31 23:00:00</th>\n",
       "      <td>3469.383333</td>\n",
       "      <td>362.883333</td>\n",
       "      <td>2999.092230</td>\n",
       "      <td>6831.358897</td>\n",
       "    </tr>\n",
       "  </tbody>\n",
       "</table>\n",
       "<p>8760 rows × 4 columns</p>\n",
       "</div>"
      ],
      "text/plain": [
       "                     PlugLoads [W]       DHW [W]  HVAC Total [W]  \\\n",
       "Time Stamp                                                         \n",
       "2019-01-01 00:00:00    3429.500000      0.000000     2743.106705   \n",
       "2019-01-01 01:00:00    2977.483333      0.000000     2742.226600   \n",
       "2019-01-01 02:00:00    2981.800000      0.000000     2742.273035   \n",
       "2019-01-01 03:00:00    2951.833333      0.000000     2742.313575   \n",
       "2019-01-01 04:00:00    2926.700000      0.000000     2742.352597   \n",
       "...                            ...           ...             ...   \n",
       "2019-12-31 19:00:00   14150.800000  13573.666667    11277.229630   \n",
       "2019-12-31 20:00:00   10381.450000   9952.416667    10905.533440   \n",
       "2019-12-31 21:00:00    8631.000000   5223.250000    10653.882875   \n",
       "2019-12-31 22:00:00    7497.266667   4478.183333    10482.228207   \n",
       "2019-12-31 23:00:00    3469.383333    362.883333     2999.092230   \n",
       "\n",
       "                     Dwelling Total [W]  \n",
       "Time Stamp                               \n",
       "2019-01-01 00:00:00         6172.606705  \n",
       "2019-01-01 01:00:00         5719.709933  \n",
       "2019-01-01 02:00:00         5724.073035  \n",
       "2019-01-01 03:00:00         5694.146908  \n",
       "2019-01-01 04:00:00         5669.052597  \n",
       "...                                 ...  \n",
       "2019-12-31 19:00:00        39001.696297  \n",
       "2019-12-31 20:00:00        31239.400107  \n",
       "2019-12-31 21:00:00        24508.132875  \n",
       "2019-12-31 22:00:00        22457.678207  \n",
       "2019-12-31 23:00:00         6831.358897  \n",
       "\n",
       "[8760 rows x 4 columns]"
      ]
     },
     "execution_count": 59,
     "metadata": {},
     "output_type": "execute_result"
    }
   ],
   "source": [
    "df_load_365 = df.copy()\n",
    "df_load_365 = df_load_365.resample(\"60T\").mean()\n",
    "df_load_365"
   ]
  },
  {
   "cell_type": "markdown",
   "metadata": {},
   "source": [
    "## Generation profiles"
   ]
  },
  {
   "cell_type": "markdown",
   "metadata": {},
   "source": [
    "#### Import 80% Files"
   ]
  },
  {
   "cell_type": "code",
   "execution_count": 60,
   "metadata": {},
   "outputs": [
    {
     "name": "stderr",
     "output_type": "stream",
     "text": [
      "<ipython-input-60-e7b714e47cc8>:1: ParserWarning: Falling back to the 'python' engine because the 'c' engine does not support skipfooter; you can avoid this warning by specifying engine='python'.\n",
      "  dfs45kW = pd.read_csv(\"C:\\\\Users\\\\20200457\\\\OneDrive - TU Eindhoven\\\\SBC Curriculum\\\\Design Case\\\\Microgrid Modeling\\\\Solar Production_Updated\\\\80%\\\\Timeseries_51.462_5.605_SA_45kWp_crystSi_14_30deg_5deg_2016_2016.csv\",skiprows=10,skipfooter=10)\n",
      "<ipython-input-60-e7b714e47cc8>:2: ParserWarning: Falling back to the 'python' engine because the 'c' engine does not support skipfooter; you can avoid this warning by specifying engine='python'.\n",
      "  dfs48kW = pd.read_csv(\"C:\\\\Users\\\\20200457\\\\OneDrive - TU Eindhoven\\\\SBC Curriculum\\\\Design Case\\\\Microgrid Modeling\\\\Solar Production_Updated\\\\80%\\\\Timeseries_51.462_5.605_SA_48kWp_crystSi_14_15deg_5deg_2016_2016.csv\",skiprows=10,skipfooter=10)\n",
      "<ipython-input-60-e7b714e47cc8>:3: ParserWarning: Falling back to the 'python' engine because the 'c' engine does not support skipfooter; you can avoid this warning by specifying engine='python'.\n",
      "  dfs24kW = pd.read_csv(\"C:\\\\Users\\\\20200457\\\\OneDrive - TU Eindhoven\\\\SBC Curriculum\\\\Design Case\\\\Microgrid Modeling\\\\Solar Production_Updated\\\\80%\\\\Timeseries_51.462_5.605_SA_24kWp_crystSi_14_15deg_72deg_2016_2016.csv\",skiprows=10,skipfooter=10)\n",
      "<ipython-input-60-e7b714e47cc8>:4: ParserWarning: Falling back to the 'python' engine because the 'c' engine does not support skipfooter; you can avoid this warning by specifying engine='python'.\n",
      "  dfs22kW = pd.read_csv(\"C:\\\\Users\\\\20200457\\\\OneDrive - TU Eindhoven\\\\SBC Curriculum\\\\Design Case\\\\Microgrid Modeling\\\\Solar Production_Updated\\\\80%\\\\Timeseries_51.462_5.605_SA_22kWp_crystSi_14_30deg_72deg_2016_2016.csv\",skiprows=10,skipfooter=10)\n",
      "<ipython-input-60-e7b714e47cc8>:5: ParserWarning: Falling back to the 'python' engine because the 'c' engine does not support skipfooter; you can avoid this warning by specifying engine='python'.\n",
      "  dfs34kW = pd.read_csv(\"C:\\\\Users\\\\20200457\\\\OneDrive - TU Eindhoven\\\\SBC Curriculum\\\\Design Case\\\\Microgrid Modeling\\\\Solar Production_Updated\\\\80%\\\\Timeseries_51.462_5.605_SA_34kWp_crystSi_14_15deg_95deg_2016_2016.csv\",skiprows=10,skipfooter=10)\n",
      "<ipython-input-60-e7b714e47cc8>:6: ParserWarning: Falling back to the 'python' engine because the 'c' engine does not support skipfooter; you can avoid this warning by specifying engine='python'.\n",
      "  dfs54kW = pd.read_csv(\"C:\\\\Users\\\\20200457\\\\OneDrive - TU Eindhoven\\\\SBC Curriculum\\\\Design Case\\\\Microgrid Modeling\\\\Solar Production_Updated\\\\80%\\\\Timeseries_51.462_5.605_SA_54kWp_crystSi_14_30deg_95deg_2016_2016.csv\",skiprows=10,skipfooter=10)\n"
     ]
    }
   ],
   "source": [
    "dfs45kW = pd.read_csv(\"C:\\\\Users\\\\20200457\\\\OneDrive - TU Eindhoven\\\\SBC Curriculum\\\\Design Case\\\\Microgrid Modeling\\\\Solar Production_Updated\\\\80%\\\\Timeseries_51.462_5.605_SA_45kWp_crystSi_14_30deg_5deg_2016_2016.csv\",skiprows=10,skipfooter=10)\n",
    "dfs48kW = pd.read_csv(\"C:\\\\Users\\\\20200457\\\\OneDrive - TU Eindhoven\\\\SBC Curriculum\\\\Design Case\\\\Microgrid Modeling\\\\Solar Production_Updated\\\\80%\\\\Timeseries_51.462_5.605_SA_48kWp_crystSi_14_15deg_5deg_2016_2016.csv\",skiprows=10,skipfooter=10)\n",
    "dfs24kW = pd.read_csv(\"C:\\\\Users\\\\20200457\\\\OneDrive - TU Eindhoven\\\\SBC Curriculum\\\\Design Case\\\\Microgrid Modeling\\\\Solar Production_Updated\\\\80%\\\\Timeseries_51.462_5.605_SA_24kWp_crystSi_14_15deg_72deg_2016_2016.csv\",skiprows=10,skipfooter=10)\n",
    "dfs22kW = pd.read_csv(\"C:\\\\Users\\\\20200457\\\\OneDrive - TU Eindhoven\\\\SBC Curriculum\\\\Design Case\\\\Microgrid Modeling\\\\Solar Production_Updated\\\\80%\\\\Timeseries_51.462_5.605_SA_22kWp_crystSi_14_30deg_72deg_2016_2016.csv\",skiprows=10,skipfooter=10)\n",
    "dfs34kW = pd.read_csv(\"C:\\\\Users\\\\20200457\\\\OneDrive - TU Eindhoven\\\\SBC Curriculum\\\\Design Case\\\\Microgrid Modeling\\\\Solar Production_Updated\\\\80%\\\\Timeseries_51.462_5.605_SA_34kWp_crystSi_14_15deg_95deg_2016_2016.csv\",skiprows=10,skipfooter=10)\n",
    "dfs54kW = pd.read_csv(\"C:\\\\Users\\\\20200457\\\\OneDrive - TU Eindhoven\\\\SBC Curriculum\\\\Design Case\\\\Microgrid Modeling\\\\Solar Production_Updated\\\\80%\\\\Timeseries_51.462_5.605_SA_54kWp_crystSi_14_30deg_95deg_2016_2016.csv\",skiprows=10,skipfooter=10)\n"
   ]
  },
  {
   "cell_type": "code",
   "execution_count": 61,
   "metadata": {},
   "outputs": [
    {
     "data": {
      "text/html": [
       "<div>\n",
       "<style scoped>\n",
       "    .dataframe tbody tr th:only-of-type {\n",
       "        vertical-align: middle;\n",
       "    }\n",
       "\n",
       "    .dataframe tbody tr th {\n",
       "        vertical-align: top;\n",
       "    }\n",
       "\n",
       "    .dataframe thead th {\n",
       "        text-align: right;\n",
       "    }\n",
       "</style>\n",
       "<table border=\"1\" class=\"dataframe\">\n",
       "  <thead>\n",
       "    <tr style=\"text-align: right;\">\n",
       "      <th></th>\n",
       "      <th>Solar Production [W]</th>\n",
       "    </tr>\n",
       "    <tr>\n",
       "      <th>Time Stamp</th>\n",
       "      <th></th>\n",
       "    </tr>\n",
       "  </thead>\n",
       "  <tbody>\n",
       "    <tr>\n",
       "      <th>2019-01-01 00:00:00</th>\n",
       "      <td>0.0</td>\n",
       "    </tr>\n",
       "    <tr>\n",
       "      <th>2019-01-01 01:00:00</th>\n",
       "      <td>0.0</td>\n",
       "    </tr>\n",
       "    <tr>\n",
       "      <th>2019-01-01 02:00:00</th>\n",
       "      <td>0.0</td>\n",
       "    </tr>\n",
       "    <tr>\n",
       "      <th>2019-01-01 03:00:00</th>\n",
       "      <td>0.0</td>\n",
       "    </tr>\n",
       "    <tr>\n",
       "      <th>2019-01-01 04:00:00</th>\n",
       "      <td>0.0</td>\n",
       "    </tr>\n",
       "    <tr>\n",
       "      <th>...</th>\n",
       "      <td>...</td>\n",
       "    </tr>\n",
       "    <tr>\n",
       "      <th>2019-12-31 19:00:00</th>\n",
       "      <td>0.0</td>\n",
       "    </tr>\n",
       "    <tr>\n",
       "      <th>2019-12-31 20:00:00</th>\n",
       "      <td>0.0</td>\n",
       "    </tr>\n",
       "    <tr>\n",
       "      <th>2019-12-31 21:00:00</th>\n",
       "      <td>0.0</td>\n",
       "    </tr>\n",
       "    <tr>\n",
       "      <th>2019-12-31 22:00:00</th>\n",
       "      <td>0.0</td>\n",
       "    </tr>\n",
       "    <tr>\n",
       "      <th>2019-12-31 23:00:00</th>\n",
       "      <td>0.0</td>\n",
       "    </tr>\n",
       "  </tbody>\n",
       "</table>\n",
       "<p>8760 rows × 1 columns</p>\n",
       "</div>"
      ],
      "text/plain": [
       "                     Solar Production [W]\n",
       "Time Stamp                               \n",
       "2019-01-01 00:00:00                   0.0\n",
       "2019-01-01 01:00:00                   0.0\n",
       "2019-01-01 02:00:00                   0.0\n",
       "2019-01-01 03:00:00                   0.0\n",
       "2019-01-01 04:00:00                   0.0\n",
       "...                                   ...\n",
       "2019-12-31 19:00:00                   0.0\n",
       "2019-12-31 20:00:00                   0.0\n",
       "2019-12-31 21:00:00                   0.0\n",
       "2019-12-31 22:00:00                   0.0\n",
       "2019-12-31 23:00:00                   0.0\n",
       "\n",
       "[8760 rows x 1 columns]"
      ]
     },
     "execution_count": 61,
     "metadata": {},
     "output_type": "execute_result"
    }
   ],
   "source": [
    "df_80percent = dfs45kW[\"P\"] + dfs48kW[\"P\"] + dfs24kW[\"P\"] + dfs22kW[\"P\"] + dfs34kW[\"P\"] + dfs54kW[\"P\"]\n",
    "df_80percent = df_80percent.to_frame()\n",
    "df_80percent[\"Time Stamp\"] = pd.DatetimeIndex((pd.Timestamp('20160101') + pd.to_timedelta(np.arange(8784),unit='h')).values)\n",
    "df_80percent = df_80percent.set_index(\"Time Stamp\")\n",
    "remove = df_80percent.loc[\"2016-02-29\"]\n",
    "df_80percent_365 = df_80percent.drop(remove.index)\n",
    "df_80percent_365[\"Time Stamp\"] = pd.DatetimeIndex((pd.Timestamp('20190101') + pd.to_timedelta(np.arange(8760),unit='h')).values)\n",
    "df_80percent_365 = df_80percent_365.set_index(\"Time Stamp\")\n",
    "df_80percent_365 = df_80percent_365.rename(columns={\"P\":\"Solar Production [W]\"})\n",
    "df_80percent_365"
   ]
  },
  {
   "cell_type": "markdown",
   "metadata": {},
   "source": [
    "#### Import 60% Files"
   ]
  },
  {
   "cell_type": "code",
   "execution_count": 62,
   "metadata": {},
   "outputs": [
    {
     "name": "stderr",
     "output_type": "stream",
     "text": [
      "<ipython-input-62-5a668cacae8c>:1: ParserWarning: Falling back to the 'python' engine because the 'c' engine does not support skipfooter; you can avoid this warning by specifying engine='python'.\n",
      "  dfs34kW = pd.read_csv(\"C:\\\\Users\\\\20200457\\\\OneDrive - TU Eindhoven\\\\SBC Curriculum\\\\Design Case\\\\Microgrid Modeling\\\\Solar Production_Updated\\\\60%\\\\Timeseries_51.462_5.605_SA_34kWp_crystSi_14_30deg_5deg_2016_2016.csv\",skiprows=10,skipfooter=10)\n",
      "<ipython-input-62-5a668cacae8c>:2: ParserWarning: Falling back to the 'python' engine because the 'c' engine does not support skipfooter; you can avoid this warning by specifying engine='python'.\n",
      "  dfs36kW = pd.read_csv(\"C:\\\\Users\\\\20200457\\\\OneDrive - TU Eindhoven\\\\SBC Curriculum\\\\Design Case\\\\Microgrid Modeling\\\\Solar Production_Updated\\\\60%\\\\Timeseries_51.462_5.605_SA_36kWp_crystSi_14_15deg_5deg_2016_2016.csv\",skiprows=10,skipfooter=10)\n",
      "<ipython-input-62-5a668cacae8c>:3: ParserWarning: Falling back to the 'python' engine because the 'c' engine does not support skipfooter; you can avoid this warning by specifying engine='python'.\n",
      "  dfs18kW = pd.read_csv(\"C:\\\\Users\\\\20200457\\\\OneDrive - TU Eindhoven\\\\SBC Curriculum\\\\Design Case\\\\Microgrid Modeling\\\\Solar Production_Updated\\\\60%\\\\Timeseries_51.462_5.605_SA_18kWp_crystSi_14_15deg_72deg_2016_2016.csv\",skiprows=10,skipfooter=10)\n",
      "<ipython-input-62-5a668cacae8c>:4: ParserWarning: Falling back to the 'python' engine because the 'c' engine does not support skipfooter; you can avoid this warning by specifying engine='python'.\n",
      "  dfs17kW = pd.read_csv(\"C:\\\\Users\\\\20200457\\\\OneDrive - TU Eindhoven\\\\SBC Curriculum\\\\Design Case\\\\Microgrid Modeling\\\\Solar Production_Updated\\\\60%\\\\Timeseries_51.462_5.605_SA_17kWp_crystSi_14_30deg_72deg_2016_2016.csv\",skiprows=10,skipfooter=10)\n",
      "<ipython-input-62-5a668cacae8c>:5: ParserWarning: Falling back to the 'python' engine because the 'c' engine does not support skipfooter; you can avoid this warning by specifying engine='python'.\n",
      "  dfs25kW = pd.read_csv(\"C:\\\\Users\\\\20200457\\\\OneDrive - TU Eindhoven\\\\SBC Curriculum\\\\Design Case\\\\Microgrid Modeling\\\\Solar Production_Updated\\\\60%\\\\Timeseries_51.462_5.605_SA_25kWp_crystSi_14_15deg_95deg_2016_2016.csv\",skiprows=10,skipfooter=10)\n",
      "<ipython-input-62-5a668cacae8c>:6: ParserWarning: Falling back to the 'python' engine because the 'c' engine does not support skipfooter; you can avoid this warning by specifying engine='python'.\n",
      "  dfs40kW = pd.read_csv(\"C:\\\\Users\\\\20200457\\\\OneDrive - TU Eindhoven\\\\SBC Curriculum\\\\Design Case\\\\Microgrid Modeling\\\\Solar Production_Updated\\\\60%\\\\Timeseries_51.462_5.605_SA_40kWp_crystSi_14_30deg_95deg_2016_2016.csv\",skiprows=10,skipfooter=10)\n"
     ]
    }
   ],
   "source": [
    "dfs34kW = pd.read_csv(\"C:\\\\Users\\\\20200457\\\\OneDrive - TU Eindhoven\\\\SBC Curriculum\\\\Design Case\\\\Microgrid Modeling\\\\Solar Production_Updated\\\\60%\\\\Timeseries_51.462_5.605_SA_34kWp_crystSi_14_30deg_5deg_2016_2016.csv\",skiprows=10,skipfooter=10)\n",
    "dfs36kW = pd.read_csv(\"C:\\\\Users\\\\20200457\\\\OneDrive - TU Eindhoven\\\\SBC Curriculum\\\\Design Case\\\\Microgrid Modeling\\\\Solar Production_Updated\\\\60%\\\\Timeseries_51.462_5.605_SA_36kWp_crystSi_14_15deg_5deg_2016_2016.csv\",skiprows=10,skipfooter=10)\n",
    "dfs18kW = pd.read_csv(\"C:\\\\Users\\\\20200457\\\\OneDrive - TU Eindhoven\\\\SBC Curriculum\\\\Design Case\\\\Microgrid Modeling\\\\Solar Production_Updated\\\\60%\\\\Timeseries_51.462_5.605_SA_18kWp_crystSi_14_15deg_72deg_2016_2016.csv\",skiprows=10,skipfooter=10)\n",
    "dfs17kW = pd.read_csv(\"C:\\\\Users\\\\20200457\\\\OneDrive - TU Eindhoven\\\\SBC Curriculum\\\\Design Case\\\\Microgrid Modeling\\\\Solar Production_Updated\\\\60%\\\\Timeseries_51.462_5.605_SA_17kWp_crystSi_14_30deg_72deg_2016_2016.csv\",skiprows=10,skipfooter=10)\n",
    "dfs25kW = pd.read_csv(\"C:\\\\Users\\\\20200457\\\\OneDrive - TU Eindhoven\\\\SBC Curriculum\\\\Design Case\\\\Microgrid Modeling\\\\Solar Production_Updated\\\\60%\\\\Timeseries_51.462_5.605_SA_25kWp_crystSi_14_15deg_95deg_2016_2016.csv\",skiprows=10,skipfooter=10)\n",
    "dfs40kW = pd.read_csv(\"C:\\\\Users\\\\20200457\\\\OneDrive - TU Eindhoven\\\\SBC Curriculum\\\\Design Case\\\\Microgrid Modeling\\\\Solar Production_Updated\\\\60%\\\\Timeseries_51.462_5.605_SA_40kWp_crystSi_14_30deg_95deg_2016_2016.csv\",skiprows=10,skipfooter=10)\n"
   ]
  },
  {
   "cell_type": "code",
   "execution_count": 63,
   "metadata": {},
   "outputs": [
    {
     "data": {
      "text/html": [
       "<div>\n",
       "<style scoped>\n",
       "    .dataframe tbody tr th:only-of-type {\n",
       "        vertical-align: middle;\n",
       "    }\n",
       "\n",
       "    .dataframe tbody tr th {\n",
       "        vertical-align: top;\n",
       "    }\n",
       "\n",
       "    .dataframe thead th {\n",
       "        text-align: right;\n",
       "    }\n",
       "</style>\n",
       "<table border=\"1\" class=\"dataframe\">\n",
       "  <thead>\n",
       "    <tr style=\"text-align: right;\">\n",
       "      <th></th>\n",
       "      <th>Solar Production [W]</th>\n",
       "    </tr>\n",
       "    <tr>\n",
       "      <th>Time Stamp</th>\n",
       "      <th></th>\n",
       "    </tr>\n",
       "  </thead>\n",
       "  <tbody>\n",
       "    <tr>\n",
       "      <th>2019-01-01 00:00:00</th>\n",
       "      <td>0.0</td>\n",
       "    </tr>\n",
       "    <tr>\n",
       "      <th>2019-01-01 01:00:00</th>\n",
       "      <td>0.0</td>\n",
       "    </tr>\n",
       "    <tr>\n",
       "      <th>2019-01-01 02:00:00</th>\n",
       "      <td>0.0</td>\n",
       "    </tr>\n",
       "    <tr>\n",
       "      <th>2019-01-01 03:00:00</th>\n",
       "      <td>0.0</td>\n",
       "    </tr>\n",
       "    <tr>\n",
       "      <th>2019-01-01 04:00:00</th>\n",
       "      <td>0.0</td>\n",
       "    </tr>\n",
       "    <tr>\n",
       "      <th>...</th>\n",
       "      <td>...</td>\n",
       "    </tr>\n",
       "    <tr>\n",
       "      <th>2019-12-31 19:00:00</th>\n",
       "      <td>0.0</td>\n",
       "    </tr>\n",
       "    <tr>\n",
       "      <th>2019-12-31 20:00:00</th>\n",
       "      <td>0.0</td>\n",
       "    </tr>\n",
       "    <tr>\n",
       "      <th>2019-12-31 21:00:00</th>\n",
       "      <td>0.0</td>\n",
       "    </tr>\n",
       "    <tr>\n",
       "      <th>2019-12-31 22:00:00</th>\n",
       "      <td>0.0</td>\n",
       "    </tr>\n",
       "    <tr>\n",
       "      <th>2019-12-31 23:00:00</th>\n",
       "      <td>0.0</td>\n",
       "    </tr>\n",
       "  </tbody>\n",
       "</table>\n",
       "<p>8760 rows × 1 columns</p>\n",
       "</div>"
      ],
      "text/plain": [
       "                     Solar Production [W]\n",
       "Time Stamp                               \n",
       "2019-01-01 00:00:00                   0.0\n",
       "2019-01-01 01:00:00                   0.0\n",
       "2019-01-01 02:00:00                   0.0\n",
       "2019-01-01 03:00:00                   0.0\n",
       "2019-01-01 04:00:00                   0.0\n",
       "...                                   ...\n",
       "2019-12-31 19:00:00                   0.0\n",
       "2019-12-31 20:00:00                   0.0\n",
       "2019-12-31 21:00:00                   0.0\n",
       "2019-12-31 22:00:00                   0.0\n",
       "2019-12-31 23:00:00                   0.0\n",
       "\n",
       "[8760 rows x 1 columns]"
      ]
     },
     "execution_count": 63,
     "metadata": {},
     "output_type": "execute_result"
    }
   ],
   "source": [
    "df_60percent = dfs34kW[\"P\"] + dfs36kW[\"P\"] + dfs18kW[\"P\"] + dfs17kW[\"P\"] + dfs25kW[\"P\"] + dfs40kW[\"P\"]\n",
    "df_60percent = df_60percent.to_frame()\n",
    "df_60percent[\"Time Stamp\"] = pd.DatetimeIndex((pd.Timestamp('20160101') + pd.to_timedelta(np.arange(8784),unit='h')).values)\n",
    "df_60percent = df_60percent.set_index(\"Time Stamp\")\n",
    "remove = df_60percent.loc[\"2016-02-29\"]\n",
    "df_60percent_365 = df_60percent.drop(remove.index)\n",
    "df_60percent_365[\"Time Stamp\"] = pd.DatetimeIndex((pd.Timestamp('20190101') + pd.to_timedelta(np.arange(8760),unit='h')).values)\n",
    "df_60percent_365 = df_60percent_365.set_index(\"Time Stamp\")\n",
    "df_60percent_365 = df_60percent_365.rename(columns={\"P\":\"Solar Production [W]\"})\n",
    "df_60percent_365"
   ]
  },
  {
   "cell_type": "markdown",
   "metadata": {},
   "source": [
    "### Comparison Production Profiles"
   ]
  },
  {
   "cell_type": "code",
   "execution_count": 64,
   "metadata": {},
   "outputs": [
    {
     "data": {
      "text/plain": [
       "<matplotlib.legend.Legend at 0x1adac7b3760>"
      ]
     },
     "execution_count": 64,
     "metadata": {},
     "output_type": "execute_result"
    },
    {
     "data": {
      "image/png": "[encoded data removed]",
      "text/plain": [
       "<Figure size 864x432 with 1 Axes>"
      ]
     },
     "metadata": {},
     "output_type": "display_data"
    }
   ],
   "source": [
    "plt.plot(range(0,8760),df_80percent_365[\"Solar Production [W]\"], label = \"80% Roof Area\")\n",
    "plt.plot(range(0,8760),df_60percent_365[\"Solar Production [W]\"],label = \"60% Roof Area\")\n",
    "plt.ylabel(\"On-Site Solar Production [W]\")\n",
    "plt.legend(loc=\"best\")"
   ]
  },
  {
   "cell_type": "markdown",
   "metadata": {},
   "source": [
    "## Combined Load and Production Profiles"
   ]
  },
  {
   "cell_type": "code",
   "execution_count": 65,
   "metadata": {},
   "outputs": [
    {
     "data": {
      "text/html": [
       "<div>\n",
       "<style scoped>\n",
       "    .dataframe tbody tr th:only-of-type {\n",
       "        vertical-align: middle;\n",
       "    }\n",
       "\n",
       "    .dataframe tbody tr th {\n",
       "        vertical-align: top;\n",
       "    }\n",
       "\n",
       "    .dataframe thead th {\n",
       "        text-align: right;\n",
       "    }\n",
       "</style>\n",
       "<table border=\"1\" class=\"dataframe\">\n",
       "  <thead>\n",
       "    <tr style=\"text-align: right;\">\n",
       "      <th></th>\n",
       "      <th>Dwelling Total [W]</th>\n",
       "      <th>Solar Production [W]</th>\n",
       "      <th>Dwelling Total [kW]</th>\n",
       "      <th>Solar Production [kW]</th>\n",
       "      <th>Dwelling Total [kWh]</th>\n",
       "      <th>Solar Production [kWh]</th>\n",
       "    </tr>\n",
       "    <tr>\n",
       "      <th>Time Stamp</th>\n",
       "      <th></th>\n",
       "      <th></th>\n",
       "      <th></th>\n",
       "      <th></th>\n",
       "      <th></th>\n",
       "      <th></th>\n",
       "    </tr>\n",
       "  </thead>\n",
       "  <tbody>\n",
       "    <tr>\n",
       "      <th>2019-01-01 00:00:00</th>\n",
       "      <td>6172.606705</td>\n",
       "      <td>0.0</td>\n",
       "      <td>6.172607</td>\n",
       "      <td>0.0</td>\n",
       "      <td>6.172607</td>\n",
       "      <td>0.0</td>\n",
       "    </tr>\n",
       "    <tr>\n",
       "      <th>2019-01-01 01:00:00</th>\n",
       "      <td>5719.709933</td>\n",
       "      <td>0.0</td>\n",
       "      <td>5.719710</td>\n",
       "      <td>0.0</td>\n",
       "      <td>5.719710</td>\n",
       "      <td>0.0</td>\n",
       "    </tr>\n",
       "    <tr>\n",
       "      <th>2019-01-01 02:00:00</th>\n",
       "      <td>5724.073035</td>\n",
       "      <td>0.0</td>\n",
       "      <td>5.724073</td>\n",
       "      <td>0.0</td>\n",
       "      <td>5.724073</td>\n",
       "      <td>0.0</td>\n",
       "    </tr>\n",
       "    <tr>\n",
       "      <th>2019-01-01 03:00:00</th>\n",
       "      <td>5694.146908</td>\n",
       "      <td>0.0</td>\n",
       "      <td>5.694147</td>\n",
       "      <td>0.0</td>\n",
       "      <td>5.694147</td>\n",
       "      <td>0.0</td>\n",
       "    </tr>\n",
       "    <tr>\n",
       "      <th>2019-01-01 04:00:00</th>\n",
       "      <td>5669.052597</td>\n",
       "      <td>0.0</td>\n",
       "      <td>5.669053</td>\n",
       "      <td>0.0</td>\n",
       "      <td>5.669053</td>\n",
       "      <td>0.0</td>\n",
       "    </tr>\n",
       "    <tr>\n",
       "      <th>...</th>\n",
       "      <td>...</td>\n",
       "      <td>...</td>\n",
       "      <td>...</td>\n",
       "      <td>...</td>\n",
       "      <td>...</td>\n",
       "      <td>...</td>\n",
       "    </tr>\n",
       "    <tr>\n",
       "      <th>2019-12-31 19:00:00</th>\n",
       "      <td>39001.696297</td>\n",
       "      <td>0.0</td>\n",
       "      <td>39.001696</td>\n",
       "      <td>0.0</td>\n",
       "      <td>39.001696</td>\n",
       "      <td>0.0</td>\n",
       "    </tr>\n",
       "    <tr>\n",
       "      <th>2019-12-31 20:00:00</th>\n",
       "      <td>31239.400107</td>\n",
       "      <td>0.0</td>\n",
       "      <td>31.239400</td>\n",
       "      <td>0.0</td>\n",
       "      <td>31.239400</td>\n",
       "      <td>0.0</td>\n",
       "    </tr>\n",
       "    <tr>\n",
       "      <th>2019-12-31 21:00:00</th>\n",
       "      <td>24508.132875</td>\n",
       "      <td>0.0</td>\n",
       "      <td>24.508133</td>\n",
       "      <td>0.0</td>\n",
       "      <td>24.508133</td>\n",
       "      <td>0.0</td>\n",
       "    </tr>\n",
       "    <tr>\n",
       "      <th>2019-12-31 22:00:00</th>\n",
       "      <td>22457.678207</td>\n",
       "      <td>0.0</td>\n",
       "      <td>22.457678</td>\n",
       "      <td>0.0</td>\n",
       "      <td>22.457678</td>\n",
       "      <td>0.0</td>\n",
       "    </tr>\n",
       "    <tr>\n",
       "      <th>2019-12-31 23:00:00</th>\n",
       "      <td>6831.358897</td>\n",
       "      <td>0.0</td>\n",
       "      <td>6.831359</td>\n",
       "      <td>0.0</td>\n",
       "      <td>6.831359</td>\n",
       "      <td>0.0</td>\n",
       "    </tr>\n",
       "  </tbody>\n",
       "</table>\n",
       "<p>8760 rows × 6 columns</p>\n",
       "</div>"
      ],
      "text/plain": [
       "                     Dwelling Total [W]  Solar Production [W]  \\\n",
       "Time Stamp                                                      \n",
       "2019-01-01 00:00:00         6172.606705                   0.0   \n",
       "2019-01-01 01:00:00         5719.709933                   0.0   \n",
       "2019-01-01 02:00:00         5724.073035                   0.0   \n",
       "2019-01-01 03:00:00         5694.146908                   0.0   \n",
       "2019-01-01 04:00:00         5669.052597                   0.0   \n",
       "...                                 ...                   ...   \n",
       "2019-12-31 19:00:00        39001.696297                   0.0   \n",
       "2019-12-31 20:00:00        31239.400107                   0.0   \n",
       "2019-12-31 21:00:00        24508.132875                   0.0   \n",
       "2019-12-31 22:00:00        22457.678207                   0.0   \n",
       "2019-12-31 23:00:00         6831.358897                   0.0   \n",
       "\n",
       "                     Dwelling Total [kW]  Solar Production [kW]  \\\n",
       "Time Stamp                                                        \n",
       "2019-01-01 00:00:00             6.172607                    0.0   \n",
       "2019-01-01 01:00:00             5.719710                    0.0   \n",
       "2019-01-01 02:00:00             5.724073                    0.0   \n",
       "2019-01-01 03:00:00             5.694147                    0.0   \n",
       "2019-01-01 04:00:00             5.669053                    0.0   \n",
       "...                                  ...                    ...   \n",
       "2019-12-31 19:00:00            39.001696                    0.0   \n",
       "2019-12-31 20:00:00            31.239400                    0.0   \n",
       "2019-12-31 21:00:00            24.508133                    0.0   \n",
       "2019-12-31 22:00:00            22.457678                    0.0   \n",
       "2019-12-31 23:00:00             6.831359                    0.0   \n",
       "\n",
       "                     Dwelling Total [kWh]  Solar Production [kWh]  \n",
       "Time Stamp                                                         \n",
       "2019-01-01 00:00:00              6.172607                     0.0  \n",
       "2019-01-01 01:00:00              5.719710                     0.0  \n",
       "2019-01-01 02:00:00              5.724073                     0.0  \n",
       "2019-01-01 03:00:00              5.694147                     0.0  \n",
       "2019-01-01 04:00:00              5.669053                     0.0  \n",
       "...                                   ...                     ...  \n",
       "2019-12-31 19:00:00             39.001696                     0.0  \n",
       "2019-12-31 20:00:00             31.239400                     0.0  \n",
       "2019-12-31 21:00:00             24.508133                     0.0  \n",
       "2019-12-31 22:00:00             22.457678                     0.0  \n",
       "2019-12-31 23:00:00              6.831359                     0.0  \n",
       "\n",
       "[8760 rows x 6 columns]"
      ]
     },
     "execution_count": 65,
     "metadata": {},
     "output_type": "execute_result"
    }
   ],
   "source": [
    "dfe_365 = pd.concat([df_load_365,df_60percent_365],axis=1)\n",
    "dfe_365 = dfe_365.drop([\"PlugLoads [W]\",\"DHW [W]\",\"HVAC Total [W]\"],axis=1)\n",
    "dfe_365[\"Dwelling Total [kW]\"] = dfe_365[\"Dwelling Total [W]\"]/1000\n",
    "dfe_365[\"Solar Production [kW]\"] = dfe_365[\"Solar Production [W]\"]/1000\n",
    "dfe_365[\"Dwelling Total [kWh]\"] = dfe_365[\"Dwelling Total [kW]\"]\n",
    "dfe_365[\"Solar Production [kWh]\"] = dfe_365[\"Solar Production [kW]\"]\n",
    "dfe_365"
   ]
  },
  {
   "cell_type": "code",
   "execution_count": 66,
   "metadata": {},
   "outputs": [
    {
     "data": {
      "text/plain": [
       "Dwelling Total [W]        118504035.1\n",
       "Solar Production [W]      147449184.2\n",
       "Dwelling Total [kW]          118504.0\n",
       "Solar Production [kW]        147449.2\n",
       "Dwelling Total [kWh]         118504.0\n",
       "Solar Production [kWh]       147449.2\n",
       "dtype: float64"
      ]
     },
     "execution_count": 66,
     "metadata": {},
     "output_type": "execute_result"
    }
   ],
   "source": [
    "round(dfe_365.sum(),1)"
   ]
  },
  {
   "cell_type": "markdown",
   "metadata": {},
   "source": [
    "#### Generation vs Productions Graphs"
   ]
  },
  {
   "cell_type": "code",
   "execution_count": 67,
   "metadata": {},
   "outputs": [
    {
     "data": {
      "text/html": [
       "<div>\n",
       "<style scoped>\n",
       "    .dataframe tbody tr th:only-of-type {\n",
       "        vertical-align: middle;\n",
       "    }\n",
       "\n",
       "    .dataframe tbody tr th {\n",
       "        vertical-align: top;\n",
       "    }\n",
       "\n",
       "    .dataframe thead th {\n",
       "        text-align: right;\n",
       "    }\n",
       "</style>\n",
       "<table border=\"1\" class=\"dataframe\">\n",
       "  <thead>\n",
       "    <tr style=\"text-align: right;\">\n",
       "      <th></th>\n",
       "      <th>Dwelling Total [W]</th>\n",
       "      <th>Solar Production [W]</th>\n",
       "      <th>Dwelling Total [kW]</th>\n",
       "      <th>Solar Production [kW]</th>\n",
       "      <th>Dwelling Total [kWh]</th>\n",
       "      <th>Solar Production [kWh]</th>\n",
       "      <th>Week</th>\n",
       "      <th>Day</th>\n",
       "      <th>DayOfWeek</th>\n",
       "      <th>Hour</th>\n",
       "      <th>Month</th>\n",
       "    </tr>\n",
       "    <tr>\n",
       "      <th>Time Stamp</th>\n",
       "      <th></th>\n",
       "      <th></th>\n",
       "      <th></th>\n",
       "      <th></th>\n",
       "      <th></th>\n",
       "      <th></th>\n",
       "      <th></th>\n",
       "      <th></th>\n",
       "      <th></th>\n",
       "      <th></th>\n",
       "      <th></th>\n",
       "    </tr>\n",
       "  </thead>\n",
       "  <tbody>\n",
       "    <tr>\n",
       "      <th>2019-01-01 00:00:00</th>\n",
       "      <td>6172.606705</td>\n",
       "      <td>0.0</td>\n",
       "      <td>6.172607</td>\n",
       "      <td>0.0</td>\n",
       "      <td>6.172607</td>\n",
       "      <td>0.0</td>\n",
       "      <td>1</td>\n",
       "      <td>1</td>\n",
       "      <td>1</td>\n",
       "      <td>0</td>\n",
       "      <td>1</td>\n",
       "    </tr>\n",
       "    <tr>\n",
       "      <th>2019-01-01 01:00:00</th>\n",
       "      <td>5719.709933</td>\n",
       "      <td>0.0</td>\n",
       "      <td>5.719710</td>\n",
       "      <td>0.0</td>\n",
       "      <td>5.719710</td>\n",
       "      <td>0.0</td>\n",
       "      <td>1</td>\n",
       "      <td>1</td>\n",
       "      <td>1</td>\n",
       "      <td>1</td>\n",
       "      <td>1</td>\n",
       "    </tr>\n",
       "    <tr>\n",
       "      <th>2019-01-01 02:00:00</th>\n",
       "      <td>5724.073035</td>\n",
       "      <td>0.0</td>\n",
       "      <td>5.724073</td>\n",
       "      <td>0.0</td>\n",
       "      <td>5.724073</td>\n",
       "      <td>0.0</td>\n",
       "      <td>1</td>\n",
       "      <td>1</td>\n",
       "      <td>1</td>\n",
       "      <td>2</td>\n",
       "      <td>1</td>\n",
       "    </tr>\n",
       "    <tr>\n",
       "      <th>2019-01-01 03:00:00</th>\n",
       "      <td>5694.146908</td>\n",
       "      <td>0.0</td>\n",
       "      <td>5.694147</td>\n",
       "      <td>0.0</td>\n",
       "      <td>5.694147</td>\n",
       "      <td>0.0</td>\n",
       "      <td>1</td>\n",
       "      <td>1</td>\n",
       "      <td>1</td>\n",
       "      <td>3</td>\n",
       "      <td>1</td>\n",
       "    </tr>\n",
       "    <tr>\n",
       "      <th>2019-01-01 04:00:00</th>\n",
       "      <td>5669.052597</td>\n",
       "      <td>0.0</td>\n",
       "      <td>5.669053</td>\n",
       "      <td>0.0</td>\n",
       "      <td>5.669053</td>\n",
       "      <td>0.0</td>\n",
       "      <td>1</td>\n",
       "      <td>1</td>\n",
       "      <td>1</td>\n",
       "      <td>4</td>\n",
       "      <td>1</td>\n",
       "    </tr>\n",
       "    <tr>\n",
       "      <th>...</th>\n",
       "      <td>...</td>\n",
       "      <td>...</td>\n",
       "      <td>...</td>\n",
       "      <td>...</td>\n",
       "      <td>...</td>\n",
       "      <td>...</td>\n",
       "      <td>...</td>\n",
       "      <td>...</td>\n",
       "      <td>...</td>\n",
       "      <td>...</td>\n",
       "      <td>...</td>\n",
       "    </tr>\n",
       "    <tr>\n",
       "      <th>2019-12-31 19:00:00</th>\n",
       "      <td>39001.696297</td>\n",
       "      <td>0.0</td>\n",
       "      <td>39.001696</td>\n",
       "      <td>0.0</td>\n",
       "      <td>39.001696</td>\n",
       "      <td>0.0</td>\n",
       "      <td>1</td>\n",
       "      <td>365</td>\n",
       "      <td>1</td>\n",
       "      <td>19</td>\n",
       "      <td>12</td>\n",
       "    </tr>\n",
       "    <tr>\n",
       "      <th>2019-12-31 20:00:00</th>\n",
       "      <td>31239.400107</td>\n",
       "      <td>0.0</td>\n",
       "      <td>31.239400</td>\n",
       "      <td>0.0</td>\n",
       "      <td>31.239400</td>\n",
       "      <td>0.0</td>\n",
       "      <td>1</td>\n",
       "      <td>365</td>\n",
       "      <td>1</td>\n",
       "      <td>20</td>\n",
       "      <td>12</td>\n",
       "    </tr>\n",
       "    <tr>\n",
       "      <th>2019-12-31 21:00:00</th>\n",
       "      <td>24508.132875</td>\n",
       "      <td>0.0</td>\n",
       "      <td>24.508133</td>\n",
       "      <td>0.0</td>\n",
       "      <td>24.508133</td>\n",
       "      <td>0.0</td>\n",
       "      <td>1</td>\n",
       "      <td>365</td>\n",
       "      <td>1</td>\n",
       "      <td>21</td>\n",
       "      <td>12</td>\n",
       "    </tr>\n",
       "    <tr>\n",
       "      <th>2019-12-31 22:00:00</th>\n",
       "      <td>22457.678207</td>\n",
       "      <td>0.0</td>\n",
       "      <td>22.457678</td>\n",
       "      <td>0.0</td>\n",
       "      <td>22.457678</td>\n",
       "      <td>0.0</td>\n",
       "      <td>1</td>\n",
       "      <td>365</td>\n",
       "      <td>1</td>\n",
       "      <td>22</td>\n",
       "      <td>12</td>\n",
       "    </tr>\n",
       "    <tr>\n",
       "      <th>2019-12-31 23:00:00</th>\n",
       "      <td>6831.358897</td>\n",
       "      <td>0.0</td>\n",
       "      <td>6.831359</td>\n",
       "      <td>0.0</td>\n",
       "      <td>6.831359</td>\n",
       "      <td>0.0</td>\n",
       "      <td>1</td>\n",
       "      <td>365</td>\n",
       "      <td>1</td>\n",
       "      <td>23</td>\n",
       "      <td>12</td>\n",
       "    </tr>\n",
       "  </tbody>\n",
       "</table>\n",
       "<p>8760 rows × 11 columns</p>\n",
       "</div>"
      ],
      "text/plain": [
       "                     Dwelling Total [W]  Solar Production [W]  \\\n",
       "Time Stamp                                                      \n",
       "2019-01-01 00:00:00         6172.606705                   0.0   \n",
       "2019-01-01 01:00:00         5719.709933                   0.0   \n",
       "2019-01-01 02:00:00         5724.073035                   0.0   \n",
       "2019-01-01 03:00:00         5694.146908                   0.0   \n",
       "2019-01-01 04:00:00         5669.052597                   0.0   \n",
       "...                                 ...                   ...   \n",
       "2019-12-31 19:00:00        39001.696297                   0.0   \n",
       "2019-12-31 20:00:00        31239.400107                   0.0   \n",
       "2019-12-31 21:00:00        24508.132875                   0.0   \n",
       "2019-12-31 22:00:00        22457.678207                   0.0   \n",
       "2019-12-31 23:00:00         6831.358897                   0.0   \n",
       "\n",
       "                     Dwelling Total [kW]  Solar Production [kW]  \\\n",
       "Time Stamp                                                        \n",
       "2019-01-01 00:00:00             6.172607                    0.0   \n",
       "2019-01-01 01:00:00             5.719710                    0.0   \n",
       "2019-01-01 02:00:00             5.724073                    0.0   \n",
       "2019-01-01 03:00:00             5.694147                    0.0   \n",
       "2019-01-01 04:00:00             5.669053                    0.0   \n",
       "...                                  ...                    ...   \n",
       "2019-12-31 19:00:00            39.001696                    0.0   \n",
       "2019-12-31 20:00:00            31.239400                    0.0   \n",
       "2019-12-31 21:00:00            24.508133                    0.0   \n",
       "2019-12-31 22:00:00            22.457678                    0.0   \n",
       "2019-12-31 23:00:00             6.831359                    0.0   \n",
       "\n",
       "                     Dwelling Total [kWh]  Solar Production [kWh]  Week  Day  \\\n",
       "Time Stamp                                                                     \n",
       "2019-01-01 00:00:00              6.172607                     0.0     1    1   \n",
       "2019-01-01 01:00:00              5.719710                     0.0     1    1   \n",
       "2019-01-01 02:00:00              5.724073                     0.0     1    1   \n",
       "2019-01-01 03:00:00              5.694147                     0.0     1    1   \n",
       "2019-01-01 04:00:00              5.669053                     0.0     1    1   \n",
       "...                                   ...                     ...   ...  ...   \n",
       "2019-12-31 19:00:00             39.001696                     0.0     1  365   \n",
       "2019-12-31 20:00:00             31.239400                     0.0     1  365   \n",
       "2019-12-31 21:00:00             24.508133                     0.0     1  365   \n",
       "2019-12-31 22:00:00             22.457678                     0.0     1  365   \n",
       "2019-12-31 23:00:00              6.831359                     0.0     1  365   \n",
       "\n",
       "                     DayOfWeek  Hour  Month  \n",
       "Time Stamp                                   \n",
       "2019-01-01 00:00:00          1     0      1  \n",
       "2019-01-01 01:00:00          1     1      1  \n",
       "2019-01-01 02:00:00          1     2      1  \n",
       "2019-01-01 03:00:00          1     3      1  \n",
       "2019-01-01 04:00:00          1     4      1  \n",
       "...                        ...   ...    ...  \n",
       "2019-12-31 19:00:00          1    19     12  \n",
       "2019-12-31 20:00:00          1    20     12  \n",
       "2019-12-31 21:00:00          1    21     12  \n",
       "2019-12-31 22:00:00          1    22     12  \n",
       "2019-12-31 23:00:00          1    23     12  \n",
       "\n",
       "[8760 rows x 11 columns]"
      ]
     },
     "execution_count": 67,
     "metadata": {},
     "output_type": "execute_result"
    }
   ],
   "source": [
    "dfe_365_hm = dfe_365.copy()\n",
    "dfe_365_hm['Week'] = dfe_365_hm.index.week\n",
    "dfe_365_hm['Day'] = dfe_365_hm.index.dayofyear\n",
    "dfe_365_hm['DayOfWeek'] = dfe_365_hm.index.dayofweek\n",
    "dfe_365_hm['Hour'] = dfe_365_hm.index.hour\n",
    "dfe_365_hm['Month'] = dfe_365_hm.index.month\n",
    "dfe_365_hm"
   ]
  },
  {
   "cell_type": "code",
   "execution_count": 68,
   "metadata": {},
   "outputs": [
    {
     "data": {
      "text/html": [
       "<div>\n",
       "<style scoped>\n",
       "    .dataframe tbody tr th:only-of-type {\n",
       "        vertical-align: middle;\n",
       "    }\n",
       "\n",
       "    .dataframe tbody tr th {\n",
       "        vertical-align: top;\n",
       "    }\n",
       "\n",
       "    .dataframe thead th {\n",
       "        text-align: right;\n",
       "    }\n",
       "</style>\n",
       "<table border=\"1\" class=\"dataframe\">\n",
       "  <thead>\n",
       "    <tr style=\"text-align: right;\">\n",
       "      <th></th>\n",
       "      <th>Dwelling Total [kWh]</th>\n",
       "      <th>Solar Production [kWh]</th>\n",
       "    </tr>\n",
       "  </thead>\n",
       "  <tbody>\n",
       "    <tr>\n",
       "      <th>1</th>\n",
       "      <td>13290.29</td>\n",
       "      <td>3191.80</td>\n",
       "    </tr>\n",
       "    <tr>\n",
       "      <th>2</th>\n",
       "      <td>11462.43</td>\n",
       "      <td>6157.50</td>\n",
       "    </tr>\n",
       "    <tr>\n",
       "      <th>3</th>\n",
       "      <td>10549.45</td>\n",
       "      <td>11425.05</td>\n",
       "    </tr>\n",
       "    <tr>\n",
       "      <th>4</th>\n",
       "      <td>8094.22</td>\n",
       "      <td>16995.07</td>\n",
       "    </tr>\n",
       "    <tr>\n",
       "      <th>5</th>\n",
       "      <td>8015.30</td>\n",
       "      <td>21348.53</td>\n",
       "    </tr>\n",
       "    <tr>\n",
       "      <th>6</th>\n",
       "      <td>7886.55</td>\n",
       "      <td>17843.74</td>\n",
       "    </tr>\n",
       "    <tr>\n",
       "      <th>7</th>\n",
       "      <td>8571.64</td>\n",
       "      <td>20306.97</td>\n",
       "    </tr>\n",
       "    <tr>\n",
       "      <th>8</th>\n",
       "      <td>8491.99</td>\n",
       "      <td>18616.17</td>\n",
       "    </tr>\n",
       "    <tr>\n",
       "      <th>9</th>\n",
       "      <td>7815.70</td>\n",
       "      <td>14942.54</td>\n",
       "    </tr>\n",
       "    <tr>\n",
       "      <th>10</th>\n",
       "      <td>9864.87</td>\n",
       "      <td>8676.14</td>\n",
       "    </tr>\n",
       "    <tr>\n",
       "      <th>11</th>\n",
       "      <td>11239.63</td>\n",
       "      <td>4627.21</td>\n",
       "    </tr>\n",
       "    <tr>\n",
       "      <th>12</th>\n",
       "      <td>13221.97</td>\n",
       "      <td>3318.45</td>\n",
       "    </tr>\n",
       "  </tbody>\n",
       "</table>\n",
       "</div>"
      ],
      "text/plain": [
       "    Dwelling Total [kWh]  Solar Production [kWh]\n",
       "1               13290.29                 3191.80\n",
       "2               11462.43                 6157.50\n",
       "3               10549.45                11425.05\n",
       "4                8094.22                16995.07\n",
       "5                8015.30                21348.53\n",
       "6                7886.55                17843.74\n",
       "7                8571.64                20306.97\n",
       "8                8491.99                18616.17\n",
       "9                7815.70                14942.54\n",
       "10               9864.87                 8676.14\n",
       "11              11239.63                 4627.21\n",
       "12              13221.97                 3318.45"
      ]
     },
     "execution_count": 68,
     "metadata": {},
     "output_type": "execute_result"
    }
   ],
   "source": [
    "monthlyenergy = pd.pivot_table(dfe_365_hm,values=[\"Dwelling Total [kWh]\",\"Solar Production [kWh]\"],index=dfe_365_hm.Month.values, aggfunc=np.sum)\n",
    "monthlyenergy = monthlyenergy.round(2)\n",
    "monthlyenergy"
   ]
  },
  {
   "cell_type": "code",
   "execution_count": 69,
   "metadata": {},
   "outputs": [
    {
     "data": {
      "text/plain": [
       "Dwelling Total [kWh]      118504.04\n",
       "Solar Production [kWh]    147449.17\n",
       "dtype: float64"
      ]
     },
     "execution_count": 69,
     "metadata": {},
     "output_type": "execute_result"
    }
   ],
   "source": [
    "monthlyenergy.sum()"
   ]
  },
  {
   "cell_type": "markdown",
   "metadata": {},
   "source": [
    "##### Seasonal Imbalance"
   ]
  },
  {
   "cell_type": "code",
   "execution_count": 70,
   "metadata": {},
   "outputs": [
    {
     "data": {
      "text/plain": [
       "<matplotlib.legend.Legend at 0x1adade0ebe0>"
      ]
     },
     "execution_count": 70,
     "metadata": {},
     "output_type": "execute_result"
    },
    {
     "data": {
      "image/png": "[encoded data removed]",
      "text/plain": [
       "<Figure size 864x432 with 1 Axes>"
      ]
     },
     "metadata": {},
     "output_type": "display_data"
    }
   ],
   "source": [
    "labels = [\"Jan\",\"Feb\",\"Mar\",\"Apr\",\"May\",\"Jun\",\"Jul\",\"Aug\",\"Sep\",\"Oct\",\"Nov\",\"Dec\"]\n",
    "x = np.arange(len(labels))\n",
    "width = 0.35\n",
    "plt.bar(x + width/2 ,monthlyenergy[\"Solar Production [kWh]\"],width,label=\"Solar Production [kWh]\",color=\"green\")\n",
    "plt.bar(x - width/2,monthlyenergy[\"Dwelling Total [kWh]\"],width,label=\"Dwelling Total [kWh]\",color=\"red\")\n",
    "plt.ylabel('Energy [kWh]')\n",
    "plt.xticks(x,labels)\n",
    "plt.legend()"
   ]
  },
  {
   "cell_type": "markdown",
   "metadata": {},
   "source": [
    "##### Day-Night Imbalance"
   ]
  },
  {
   "cell_type": "code",
   "execution_count": 71,
   "metadata": {},
   "outputs": [
    {
     "data": {
      "text/html": [
       "<div>\n",
       "<style scoped>\n",
       "    .dataframe tbody tr th:only-of-type {\n",
       "        vertical-align: middle;\n",
       "    }\n",
       "\n",
       "    .dataframe tbody tr th {\n",
       "        vertical-align: top;\n",
       "    }\n",
       "\n",
       "    .dataframe thead th {\n",
       "        text-align: right;\n",
       "    }\n",
       "</style>\n",
       "<table border=\"1\" class=\"dataframe\">\n",
       "  <thead>\n",
       "    <tr style=\"text-align: right;\">\n",
       "      <th></th>\n",
       "      <th>Dwelling Total [kWh]</th>\n",
       "      <th>Solar Production [kWh]</th>\n",
       "    </tr>\n",
       "  </thead>\n",
       "  <tbody>\n",
       "    <tr>\n",
       "      <th>0</th>\n",
       "      <td>2006.66</td>\n",
       "      <td>0.00</td>\n",
       "    </tr>\n",
       "    <tr>\n",
       "      <th>1</th>\n",
       "      <td>2011.11</td>\n",
       "      <td>0.00</td>\n",
       "    </tr>\n",
       "    <tr>\n",
       "      <th>2</th>\n",
       "      <td>2019.78</td>\n",
       "      <td>0.00</td>\n",
       "    </tr>\n",
       "    <tr>\n",
       "      <th>3</th>\n",
       "      <td>2027.02</td>\n",
       "      <td>0.00</td>\n",
       "    </tr>\n",
       "    <tr>\n",
       "      <th>4</th>\n",
       "      <td>2304.68</td>\n",
       "      <td>57.70</td>\n",
       "    </tr>\n",
       "    <tr>\n",
       "      <th>5</th>\n",
       "      <td>4673.74</td>\n",
       "      <td>605.38</td>\n",
       "    </tr>\n",
       "    <tr>\n",
       "      <th>6</th>\n",
       "      <td>7782.71</td>\n",
       "      <td>2186.30</td>\n",
       "    </tr>\n",
       "    <tr>\n",
       "      <th>7</th>\n",
       "      <td>12230.97</td>\n",
       "      <td>4939.45</td>\n",
       "    </tr>\n",
       "    <tr>\n",
       "      <th>8</th>\n",
       "      <td>6267.83</td>\n",
       "      <td>9039.31</td>\n",
       "    </tr>\n",
       "    <tr>\n",
       "      <th>9</th>\n",
       "      <td>4772.51</td>\n",
       "      <td>12858.50</td>\n",
       "    </tr>\n",
       "    <tr>\n",
       "      <th>10</th>\n",
       "      <td>3707.58</td>\n",
       "      <td>16080.80</td>\n",
       "    </tr>\n",
       "    <tr>\n",
       "      <th>11</th>\n",
       "      <td>2731.23</td>\n",
       "      <td>18106.48</td>\n",
       "    </tr>\n",
       "    <tr>\n",
       "      <th>12</th>\n",
       "      <td>2766.76</td>\n",
       "      <td>18410.17</td>\n",
       "    </tr>\n",
       "    <tr>\n",
       "      <th>13</th>\n",
       "      <td>2692.82</td>\n",
       "      <td>18651.69</td>\n",
       "    </tr>\n",
       "    <tr>\n",
       "      <th>14</th>\n",
       "      <td>2777.96</td>\n",
       "      <td>16503.49</td>\n",
       "    </tr>\n",
       "    <tr>\n",
       "      <th>15</th>\n",
       "      <td>3691.15</td>\n",
       "      <td>13442.01</td>\n",
       "    </tr>\n",
       "    <tr>\n",
       "      <th>16</th>\n",
       "      <td>5387.56</td>\n",
       "      <td>9543.53</td>\n",
       "    </tr>\n",
       "    <tr>\n",
       "      <th>17</th>\n",
       "      <td>6723.03</td>\n",
       "      <td>5004.12</td>\n",
       "    </tr>\n",
       "    <tr>\n",
       "      <th>18</th>\n",
       "      <td>7030.67</td>\n",
       "      <td>1782.27</td>\n",
       "    </tr>\n",
       "    <tr>\n",
       "      <th>19</th>\n",
       "      <td>9213.04</td>\n",
       "      <td>237.98</td>\n",
       "    </tr>\n",
       "    <tr>\n",
       "      <th>20</th>\n",
       "      <td>8751.17</td>\n",
       "      <td>0.00</td>\n",
       "    </tr>\n",
       "    <tr>\n",
       "      <th>21</th>\n",
       "      <td>8506.76</td>\n",
       "      <td>0.00</td>\n",
       "    </tr>\n",
       "    <tr>\n",
       "      <th>22</th>\n",
       "      <td>6181.13</td>\n",
       "      <td>0.00</td>\n",
       "    </tr>\n",
       "    <tr>\n",
       "      <th>23</th>\n",
       "      <td>2246.15</td>\n",
       "      <td>0.00</td>\n",
       "    </tr>\n",
       "  </tbody>\n",
       "</table>\n",
       "</div>"
      ],
      "text/plain": [
       "    Dwelling Total [kWh]  Solar Production [kWh]\n",
       "0                2006.66                    0.00\n",
       "1                2011.11                    0.00\n",
       "2                2019.78                    0.00\n",
       "3                2027.02                    0.00\n",
       "4                2304.68                   57.70\n",
       "5                4673.74                  605.38\n",
       "6                7782.71                 2186.30\n",
       "7               12230.97                 4939.45\n",
       "8                6267.83                 9039.31\n",
       "9                4772.51                12858.50\n",
       "10               3707.58                16080.80\n",
       "11               2731.23                18106.48\n",
       "12               2766.76                18410.17\n",
       "13               2692.82                18651.69\n",
       "14               2777.96                16503.49\n",
       "15               3691.15                13442.01\n",
       "16               5387.56                 9543.53\n",
       "17               6723.03                 5004.12\n",
       "18               7030.67                 1782.27\n",
       "19               9213.04                  237.98\n",
       "20               8751.17                    0.00\n",
       "21               8506.76                    0.00\n",
       "22               6181.13                    0.00\n",
       "23               2246.15                    0.00"
      ]
     },
     "execution_count": 71,
     "metadata": {},
     "output_type": "execute_result"
    }
   ],
   "source": [
    "hourlyenergy = pd.pivot_table(dfe_365_hm,values=[\"Dwelling Total [kWh]\",\"Solar Production [kWh]\"],index=dfe_365_hm.Hour.values, aggfunc=np.sum)\n",
    "hourlyenergy = hourlyenergy.round(2)\n",
    "hourlyenergy"
   ]
  },
  {
   "cell_type": "code",
   "execution_count": 72,
   "metadata": {},
   "outputs": [
    {
     "data": {
      "text/plain": [
       "<matplotlib.legend.Legend at 0x1adb0622e50>"
      ]
     },
     "execution_count": 72,
     "metadata": {},
     "output_type": "execute_result"
    },
    {
     "data": {
      "image/png": "[encoded data removed]",
      "text/plain": [
       "<Figure size 864x432 with 1 Axes>"
      ]
     },
     "metadata": {},
     "output_type": "display_data"
    }
   ],
   "source": [
    "labels = hourlyenergy.index\n",
    "x = np.arange(len(labels))\n",
    "width = 0.35\n",
    "plt.bar(x + width/2 ,hourlyenergy[\"Solar Production [kWh]\"],width,label=\"Solar Production [kWh]\",color=\"green\")\n",
    "plt.bar(x - width/2,hourlyenergy[\"Dwelling Total [kWh]\"],width,label=\"Dwelling Total [kWh]\",color=\"red\")\n",
    "plt.ylabel('Energy [kWh]')\n",
    "plt.xticks(x,labels)\n",
    "plt.legend()"
   ]
  },
  {
   "cell_type": "code",
   "execution_count": 73,
   "metadata": {},
   "outputs": [
    {
     "data": {
      "text/html": [
       "<div>\n",
       "<style scoped>\n",
       "    .dataframe tbody tr th:only-of-type {\n",
       "        vertical-align: middle;\n",
       "    }\n",
       "\n",
       "    .dataframe tbody tr th {\n",
       "        vertical-align: top;\n",
       "    }\n",
       "\n",
       "    .dataframe thead th {\n",
       "        text-align: right;\n",
       "    }\n",
       "</style>\n",
       "<table border=\"1\" class=\"dataframe\">\n",
       "  <thead>\n",
       "    <tr style=\"text-align: right;\">\n",
       "      <th></th>\n",
       "      <th>Dwelling Total [W]</th>\n",
       "      <th>Solar Production [W]</th>\n",
       "      <th>Dwelling Total [kW]</th>\n",
       "      <th>Solar Production [kW]</th>\n",
       "      <th>Dwelling Total [kWh]</th>\n",
       "      <th>Solar Production [kWh]</th>\n",
       "      <th>Week</th>\n",
       "      <th>Day</th>\n",
       "      <th>DayOfWeek</th>\n",
       "      <th>Hour</th>\n",
       "      <th>Month</th>\n",
       "    </tr>\n",
       "    <tr>\n",
       "      <th>Time Stamp</th>\n",
       "      <th></th>\n",
       "      <th></th>\n",
       "      <th></th>\n",
       "      <th></th>\n",
       "      <th></th>\n",
       "      <th></th>\n",
       "      <th></th>\n",
       "      <th></th>\n",
       "      <th></th>\n",
       "      <th></th>\n",
       "      <th></th>\n",
       "    </tr>\n",
       "  </thead>\n",
       "  <tbody>\n",
       "    <tr>\n",
       "      <th>2019-01-01 00:00:00</th>\n",
       "      <td>6172.606705</td>\n",
       "      <td>0.0</td>\n",
       "      <td>6.172607</td>\n",
       "      <td>0.0</td>\n",
       "      <td>6.172607</td>\n",
       "      <td>0.0</td>\n",
       "      <td>1</td>\n",
       "      <td>1</td>\n",
       "      <td>1</td>\n",
       "      <td>0</td>\n",
       "      <td>1</td>\n",
       "    </tr>\n",
       "    <tr>\n",
       "      <th>2019-01-01 01:00:00</th>\n",
       "      <td>5719.709933</td>\n",
       "      <td>0.0</td>\n",
       "      <td>5.719710</td>\n",
       "      <td>0.0</td>\n",
       "      <td>5.719710</td>\n",
       "      <td>0.0</td>\n",
       "      <td>1</td>\n",
       "      <td>1</td>\n",
       "      <td>1</td>\n",
       "      <td>1</td>\n",
       "      <td>1</td>\n",
       "    </tr>\n",
       "    <tr>\n",
       "      <th>2019-01-01 02:00:00</th>\n",
       "      <td>5724.073035</td>\n",
       "      <td>0.0</td>\n",
       "      <td>5.724073</td>\n",
       "      <td>0.0</td>\n",
       "      <td>5.724073</td>\n",
       "      <td>0.0</td>\n",
       "      <td>1</td>\n",
       "      <td>1</td>\n",
       "      <td>1</td>\n",
       "      <td>2</td>\n",
       "      <td>1</td>\n",
       "    </tr>\n",
       "    <tr>\n",
       "      <th>2019-01-01 03:00:00</th>\n",
       "      <td>5694.146908</td>\n",
       "      <td>0.0</td>\n",
       "      <td>5.694147</td>\n",
       "      <td>0.0</td>\n",
       "      <td>5.694147</td>\n",
       "      <td>0.0</td>\n",
       "      <td>1</td>\n",
       "      <td>1</td>\n",
       "      <td>1</td>\n",
       "      <td>3</td>\n",
       "      <td>1</td>\n",
       "    </tr>\n",
       "    <tr>\n",
       "      <th>2019-01-01 04:00:00</th>\n",
       "      <td>5669.052597</td>\n",
       "      <td>0.0</td>\n",
       "      <td>5.669053</td>\n",
       "      <td>0.0</td>\n",
       "      <td>5.669053</td>\n",
       "      <td>0.0</td>\n",
       "      <td>1</td>\n",
       "      <td>1</td>\n",
       "      <td>1</td>\n",
       "      <td>4</td>\n",
       "      <td>1</td>\n",
       "    </tr>\n",
       "    <tr>\n",
       "      <th>...</th>\n",
       "      <td>...</td>\n",
       "      <td>...</td>\n",
       "      <td>...</td>\n",
       "      <td>...</td>\n",
       "      <td>...</td>\n",
       "      <td>...</td>\n",
       "      <td>...</td>\n",
       "      <td>...</td>\n",
       "      <td>...</td>\n",
       "      <td>...</td>\n",
       "      <td>...</td>\n",
       "    </tr>\n",
       "    <tr>\n",
       "      <th>2019-12-31 05:00:00</th>\n",
       "      <td>24125.693835</td>\n",
       "      <td>0.0</td>\n",
       "      <td>24.125694</td>\n",
       "      <td>0.0</td>\n",
       "      <td>24.125694</td>\n",
       "      <td>0.0</td>\n",
       "      <td>1</td>\n",
       "      <td>365</td>\n",
       "      <td>1</td>\n",
       "      <td>5</td>\n",
       "      <td>12</td>\n",
       "    </tr>\n",
       "    <tr>\n",
       "      <th>2019-12-31 06:00:00</th>\n",
       "      <td>22167.024153</td>\n",
       "      <td>0.0</td>\n",
       "      <td>22.167024</td>\n",
       "      <td>0.0</td>\n",
       "      <td>22.167024</td>\n",
       "      <td>0.0</td>\n",
       "      <td>1</td>\n",
       "      <td>365</td>\n",
       "      <td>1</td>\n",
       "      <td>6</td>\n",
       "      <td>12</td>\n",
       "    </tr>\n",
       "    <tr>\n",
       "      <th>2019-12-31 21:00:00</th>\n",
       "      <td>24508.132875</td>\n",
       "      <td>0.0</td>\n",
       "      <td>24.508133</td>\n",
       "      <td>0.0</td>\n",
       "      <td>24.508133</td>\n",
       "      <td>0.0</td>\n",
       "      <td>1</td>\n",
       "      <td>365</td>\n",
       "      <td>1</td>\n",
       "      <td>21</td>\n",
       "      <td>12</td>\n",
       "    </tr>\n",
       "    <tr>\n",
       "      <th>2019-12-31 22:00:00</th>\n",
       "      <td>22457.678207</td>\n",
       "      <td>0.0</td>\n",
       "      <td>22.457678</td>\n",
       "      <td>0.0</td>\n",
       "      <td>22.457678</td>\n",
       "      <td>0.0</td>\n",
       "      <td>1</td>\n",
       "      <td>365</td>\n",
       "      <td>1</td>\n",
       "      <td>22</td>\n",
       "      <td>12</td>\n",
       "    </tr>\n",
       "    <tr>\n",
       "      <th>2019-12-31 23:00:00</th>\n",
       "      <td>6831.358897</td>\n",
       "      <td>0.0</td>\n",
       "      <td>6.831359</td>\n",
       "      <td>0.0</td>\n",
       "      <td>6.831359</td>\n",
       "      <td>0.0</td>\n",
       "      <td>1</td>\n",
       "      <td>365</td>\n",
       "      <td>1</td>\n",
       "      <td>23</td>\n",
       "      <td>12</td>\n",
       "    </tr>\n",
       "  </tbody>\n",
       "</table>\n",
       "<p>3650 rows × 11 columns</p>\n",
       "</div>"
      ],
      "text/plain": [
       "                     Dwelling Total [W]  Solar Production [W]  \\\n",
       "Time Stamp                                                      \n",
       "2019-01-01 00:00:00         6172.606705                   0.0   \n",
       "2019-01-01 01:00:00         5719.709933                   0.0   \n",
       "2019-01-01 02:00:00         5724.073035                   0.0   \n",
       "2019-01-01 03:00:00         5694.146908                   0.0   \n",
       "2019-01-01 04:00:00         5669.052597                   0.0   \n",
       "...                                 ...                   ...   \n",
       "2019-12-31 05:00:00        24125.693835                   0.0   \n",
       "2019-12-31 06:00:00        22167.024153                   0.0   \n",
       "2019-12-31 21:00:00        24508.132875                   0.0   \n",
       "2019-12-31 22:00:00        22457.678207                   0.0   \n",
       "2019-12-31 23:00:00         6831.358897                   0.0   \n",
       "\n",
       "                     Dwelling Total [kW]  Solar Production [kW]  \\\n",
       "Time Stamp                                                        \n",
       "2019-01-01 00:00:00             6.172607                    0.0   \n",
       "2019-01-01 01:00:00             5.719710                    0.0   \n",
       "2019-01-01 02:00:00             5.724073                    0.0   \n",
       "2019-01-01 03:00:00             5.694147                    0.0   \n",
       "2019-01-01 04:00:00             5.669053                    0.0   \n",
       "...                                  ...                    ...   \n",
       "2019-12-31 05:00:00            24.125694                    0.0   \n",
       "2019-12-31 06:00:00            22.167024                    0.0   \n",
       "2019-12-31 21:00:00            24.508133                    0.0   \n",
       "2019-12-31 22:00:00            22.457678                    0.0   \n",
       "2019-12-31 23:00:00             6.831359                    0.0   \n",
       "\n",
       "                     Dwelling Total [kWh]  Solar Production [kWh]  Week  Day  \\\n",
       "Time Stamp                                                                     \n",
       "2019-01-01 00:00:00              6.172607                     0.0     1    1   \n",
       "2019-01-01 01:00:00              5.719710                     0.0     1    1   \n",
       "2019-01-01 02:00:00              5.724073                     0.0     1    1   \n",
       "2019-01-01 03:00:00              5.694147                     0.0     1    1   \n",
       "2019-01-01 04:00:00              5.669053                     0.0     1    1   \n",
       "...                                   ...                     ...   ...  ...   \n",
       "2019-12-31 05:00:00             24.125694                     0.0     1  365   \n",
       "2019-12-31 06:00:00             22.167024                     0.0     1  365   \n",
       "2019-12-31 21:00:00             24.508133                     0.0     1  365   \n",
       "2019-12-31 22:00:00             22.457678                     0.0     1  365   \n",
       "2019-12-31 23:00:00              6.831359                     0.0     1  365   \n",
       "\n",
       "                     DayOfWeek  Hour  Month  \n",
       "Time Stamp                                   \n",
       "2019-01-01 00:00:00          1     0      1  \n",
       "2019-01-01 01:00:00          1     1      1  \n",
       "2019-01-01 02:00:00          1     2      1  \n",
       "2019-01-01 03:00:00          1     3      1  \n",
       "2019-01-01 04:00:00          1     4      1  \n",
       "...                        ...   ...    ...  \n",
       "2019-12-31 05:00:00          1     5     12  \n",
       "2019-12-31 06:00:00          1     6     12  \n",
       "2019-12-31 21:00:00          1    21     12  \n",
       "2019-12-31 22:00:00          1    22     12  \n",
       "2019-12-31 23:00:00          1    23     12  \n",
       "\n",
       "[3650 rows x 11 columns]"
      ]
     },
     "execution_count": 73,
     "metadata": {},
     "output_type": "execute_result"
    }
   ],
   "source": [
    "df_night = dfe_365_hm.between_time(\"21:00\",\"06:00\")\n",
    "df_night\n"
   ]
  },
  {
   "cell_type": "code",
   "execution_count": 74,
   "metadata": {},
   "outputs": [
    {
     "data": {
      "text/html": [
       "<div>\n",
       "<style scoped>\n",
       "    .dataframe tbody tr th:only-of-type {\n",
       "        vertical-align: middle;\n",
       "    }\n",
       "\n",
       "    .dataframe tbody tr th {\n",
       "        vertical-align: top;\n",
       "    }\n",
       "\n",
       "    .dataframe thead th {\n",
       "        text-align: right;\n",
       "    }\n",
       "</style>\n",
       "<table border=\"1\" class=\"dataframe\">\n",
       "  <thead>\n",
       "    <tr style=\"text-align: right;\">\n",
       "      <th></th>\n",
       "      <th>Dwelling Total [kWh]</th>\n",
       "    </tr>\n",
       "  </thead>\n",
       "  <tbody>\n",
       "    <tr>\n",
       "      <th>1</th>\n",
       "      <td>127.00</td>\n",
       "    </tr>\n",
       "    <tr>\n",
       "      <th>2</th>\n",
       "      <td>144.72</td>\n",
       "    </tr>\n",
       "    <tr>\n",
       "      <th>3</th>\n",
       "      <td>138.72</td>\n",
       "    </tr>\n",
       "    <tr>\n",
       "      <th>4</th>\n",
       "      <td>136.65</td>\n",
       "    </tr>\n",
       "    <tr>\n",
       "      <th>5</th>\n",
       "      <td>149.99</td>\n",
       "    </tr>\n",
       "    <tr>\n",
       "      <th>...</th>\n",
       "      <td>...</td>\n",
       "    </tr>\n",
       "    <tr>\n",
       "      <th>361</th>\n",
       "      <td>136.36</td>\n",
       "    </tr>\n",
       "    <tr>\n",
       "      <th>362</th>\n",
       "      <td>132.67</td>\n",
       "    </tr>\n",
       "    <tr>\n",
       "      <th>363</th>\n",
       "      <td>143.21</td>\n",
       "    </tr>\n",
       "    <tr>\n",
       "      <th>364</th>\n",
       "      <td>129.96</td>\n",
       "    </tr>\n",
       "    <tr>\n",
       "      <th>365</th>\n",
       "      <td>128.64</td>\n",
       "    </tr>\n",
       "  </tbody>\n",
       "</table>\n",
       "<p>365 rows × 1 columns</p>\n",
       "</div>"
      ],
      "text/plain": [
       "     Dwelling Total [kWh]\n",
       "1                  127.00\n",
       "2                  144.72\n",
       "3                  138.72\n",
       "4                  136.65\n",
       "5                  149.99\n",
       "..                    ...\n",
       "361                136.36\n",
       "362                132.67\n",
       "363                143.21\n",
       "364                129.96\n",
       "365                128.64\n",
       "\n",
       "[365 rows x 1 columns]"
      ]
     },
     "execution_count": 74,
     "metadata": {},
     "output_type": "execute_result"
    }
   ],
   "source": [
    "nightenergy = pd.pivot_table(df_night,values=\"Dwelling Total [kWh]\",index=df_night.Day.values, aggfunc=np.sum)\n",
    "nightenergy = nightenergy.round(2)\n",
    "nightenergy"
   ]
  },
  {
   "cell_type": "code",
   "execution_count": 75,
   "metadata": {},
   "outputs": [
    {
     "data": {
      "text/plain": [
       "Dwelling Total [kWh]    108.930466\n",
       "dtype: float64"
      ]
     },
     "execution_count": 75,
     "metadata": {},
     "output_type": "execute_result"
    }
   ],
   "source": [
    "avg_night_load = nightenergy.mean()\n",
    "avg_night_load"
   ]
  },
  {
   "cell_type": "markdown",
   "metadata": {},
   "source": [
    "## Energy Management Algorithm"
   ]
  },
  {
   "cell_type": "code",
   "execution_count": 76,
   "metadata": {},
   "outputs": [
    {
     "data": {
      "text/html": [
       "<div>\n",
       "<style scoped>\n",
       "    .dataframe tbody tr th:only-of-type {\n",
       "        vertical-align: middle;\n",
       "    }\n",
       "\n",
       "    .dataframe tbody tr th {\n",
       "        vertical-align: top;\n",
       "    }\n",
       "\n",
       "    .dataframe thead th {\n",
       "        text-align: right;\n",
       "    }\n",
       "</style>\n",
       "<table border=\"1\" class=\"dataframe\">\n",
       "  <thead>\n",
       "    <tr style=\"text-align: right;\">\n",
       "      <th></th>\n",
       "      <th>Dwelling Total [W]</th>\n",
       "      <th>Solar Production [W]</th>\n",
       "      <th>Dwelling Total [kW]</th>\n",
       "      <th>Solar Production [kW]</th>\n",
       "      <th>Dwelling Total [kWh]</th>\n",
       "      <th>Solar Production [kWh]</th>\n",
       "    </tr>\n",
       "    <tr>\n",
       "      <th>Time Stamp</th>\n",
       "      <th></th>\n",
       "      <th></th>\n",
       "      <th></th>\n",
       "      <th></th>\n",
       "      <th></th>\n",
       "      <th></th>\n",
       "    </tr>\n",
       "  </thead>\n",
       "  <tbody>\n",
       "    <tr>\n",
       "      <th>2019-01-01 00:00:00</th>\n",
       "      <td>6172.606705</td>\n",
       "      <td>0.0</td>\n",
       "      <td>6.172607</td>\n",
       "      <td>0.0</td>\n",
       "      <td>6.172607</td>\n",
       "      <td>0.0</td>\n",
       "    </tr>\n",
       "    <tr>\n",
       "      <th>2019-01-01 01:00:00</th>\n",
       "      <td>5719.709933</td>\n",
       "      <td>0.0</td>\n",
       "      <td>5.719710</td>\n",
       "      <td>0.0</td>\n",
       "      <td>5.719710</td>\n",
       "      <td>0.0</td>\n",
       "    </tr>\n",
       "    <tr>\n",
       "      <th>2019-01-01 02:00:00</th>\n",
       "      <td>5724.073035</td>\n",
       "      <td>0.0</td>\n",
       "      <td>5.724073</td>\n",
       "      <td>0.0</td>\n",
       "      <td>5.724073</td>\n",
       "      <td>0.0</td>\n",
       "    </tr>\n",
       "    <tr>\n",
       "      <th>2019-01-01 03:00:00</th>\n",
       "      <td>5694.146908</td>\n",
       "      <td>0.0</td>\n",
       "      <td>5.694147</td>\n",
       "      <td>0.0</td>\n",
       "      <td>5.694147</td>\n",
       "      <td>0.0</td>\n",
       "    </tr>\n",
       "    <tr>\n",
       "      <th>2019-01-01 04:00:00</th>\n",
       "      <td>5669.052597</td>\n",
       "      <td>0.0</td>\n",
       "      <td>5.669053</td>\n",
       "      <td>0.0</td>\n",
       "      <td>5.669053</td>\n",
       "      <td>0.0</td>\n",
       "    </tr>\n",
       "    <tr>\n",
       "      <th>...</th>\n",
       "      <td>...</td>\n",
       "      <td>...</td>\n",
       "      <td>...</td>\n",
       "      <td>...</td>\n",
       "      <td>...</td>\n",
       "      <td>...</td>\n",
       "    </tr>\n",
       "    <tr>\n",
       "      <th>2019-12-31 19:00:00</th>\n",
       "      <td>39001.696297</td>\n",
       "      <td>0.0</td>\n",
       "      <td>39.001696</td>\n",
       "      <td>0.0</td>\n",
       "      <td>39.001696</td>\n",
       "      <td>0.0</td>\n",
       "    </tr>\n",
       "    <tr>\n",
       "      <th>2019-12-31 20:00:00</th>\n",
       "      <td>31239.400107</td>\n",
       "      <td>0.0</td>\n",
       "      <td>31.239400</td>\n",
       "      <td>0.0</td>\n",
       "      <td>31.239400</td>\n",
       "      <td>0.0</td>\n",
       "    </tr>\n",
       "    <tr>\n",
       "      <th>2019-12-31 21:00:00</th>\n",
       "      <td>24508.132875</td>\n",
       "      <td>0.0</td>\n",
       "      <td>24.508133</td>\n",
       "      <td>0.0</td>\n",
       "      <td>24.508133</td>\n",
       "      <td>0.0</td>\n",
       "    </tr>\n",
       "    <tr>\n",
       "      <th>2019-12-31 22:00:00</th>\n",
       "      <td>22457.678207</td>\n",
       "      <td>0.0</td>\n",
       "      <td>22.457678</td>\n",
       "      <td>0.0</td>\n",
       "      <td>22.457678</td>\n",
       "      <td>0.0</td>\n",
       "    </tr>\n",
       "    <tr>\n",
       "      <th>2019-12-31 23:00:00</th>\n",
       "      <td>6831.358897</td>\n",
       "      <td>0.0</td>\n",
       "      <td>6.831359</td>\n",
       "      <td>0.0</td>\n",
       "      <td>6.831359</td>\n",
       "      <td>0.0</td>\n",
       "    </tr>\n",
       "  </tbody>\n",
       "</table>\n",
       "<p>8760 rows × 6 columns</p>\n",
       "</div>"
      ],
      "text/plain": [
       "                     Dwelling Total [W]  Solar Production [W]  \\\n",
       "Time Stamp                                                      \n",
       "2019-01-01 00:00:00         6172.606705                   0.0   \n",
       "2019-01-01 01:00:00         5719.709933                   0.0   \n",
       "2019-01-01 02:00:00         5724.073035                   0.0   \n",
       "2019-01-01 03:00:00         5694.146908                   0.0   \n",
       "2019-01-01 04:00:00         5669.052597                   0.0   \n",
       "...                                 ...                   ...   \n",
       "2019-12-31 19:00:00        39001.696297                   0.0   \n",
       "2019-12-31 20:00:00        31239.400107                   0.0   \n",
       "2019-12-31 21:00:00        24508.132875                   0.0   \n",
       "2019-12-31 22:00:00        22457.678207                   0.0   \n",
       "2019-12-31 23:00:00         6831.358897                   0.0   \n",
       "\n",
       "                     Dwelling Total [kW]  Solar Production [kW]  \\\n",
       "Time Stamp                                                        \n",
       "2019-01-01 00:00:00             6.172607                    0.0   \n",
       "2019-01-01 01:00:00             5.719710                    0.0   \n",
       "2019-01-01 02:00:00             5.724073                    0.0   \n",
       "2019-01-01 03:00:00             5.694147                    0.0   \n",
       "2019-01-01 04:00:00             5.669053                    0.0   \n",
       "...                                  ...                    ...   \n",
       "2019-12-31 19:00:00            39.001696                    0.0   \n",
       "2019-12-31 20:00:00            31.239400                    0.0   \n",
       "2019-12-31 21:00:00            24.508133                    0.0   \n",
       "2019-12-31 22:00:00            22.457678                    0.0   \n",
       "2019-12-31 23:00:00             6.831359                    0.0   \n",
       "\n",
       "                     Dwelling Total [kWh]  Solar Production [kWh]  \n",
       "Time Stamp                                                         \n",
       "2019-01-01 00:00:00              6.172607                     0.0  \n",
       "2019-01-01 01:00:00              5.719710                     0.0  \n",
       "2019-01-01 02:00:00              5.724073                     0.0  \n",
       "2019-01-01 03:00:00              5.694147                     0.0  \n",
       "2019-01-01 04:00:00              5.669053                     0.0  \n",
       "...                                   ...                     ...  \n",
       "2019-12-31 19:00:00             39.001696                     0.0  \n",
       "2019-12-31 20:00:00             31.239400                     0.0  \n",
       "2019-12-31 21:00:00             24.508133                     0.0  \n",
       "2019-12-31 22:00:00             22.457678                     0.0  \n",
       "2019-12-31 23:00:00              6.831359                     0.0  \n",
       "\n",
       "[8760 rows x 6 columns]"
      ]
     },
     "execution_count": 76,
     "metadata": {},
     "output_type": "execute_result"
    }
   ],
   "source": [
    "df_bat = dfe_365.copy()\n",
    "df_bat"
   ]
  },
  {
   "cell_type": "code",
   "execution_count": 77,
   "metadata": {},
   "outputs": [
    {
     "data": {
      "text/html": [
       "<div>\n",
       "<style scoped>\n",
       "    .dataframe tbody tr th:only-of-type {\n",
       "        vertical-align: middle;\n",
       "    }\n",
       "\n",
       "    .dataframe tbody tr th {\n",
       "        vertical-align: top;\n",
       "    }\n",
       "\n",
       "    .dataframe thead th {\n",
       "        text-align: right;\n",
       "    }\n",
       "</style>\n",
       "<table border=\"1\" class=\"dataframe\">\n",
       "  <thead>\n",
       "    <tr style=\"text-align: right;\">\n",
       "      <th></th>\n",
       "      <th>Dwelling Total [W]</th>\n",
       "      <th>Solar Production [W]</th>\n",
       "      <th>Dwelling Total [kW]</th>\n",
       "      <th>Solar Production [kW]</th>\n",
       "      <th>Dwelling Total [kWh]</th>\n",
       "      <th>Solar Production [kWh]</th>\n",
       "      <th>Battery Allocation [kWh]</th>\n",
       "      <th>Battery SOC [kWh]</th>\n",
       "      <th>Battery Use [kWh]</th>\n",
       "      <th>Grid Import [kWh]</th>\n",
       "      <th>Grid Export [kWh]</th>\n",
       "      <th>Grid Dependence [0/1]</th>\n",
       "      <th>Load minus Solar [kWh]</th>\n",
       "      <th>Battery Allocated [kWh]</th>\n",
       "    </tr>\n",
       "    <tr>\n",
       "      <th>Time Stamp</th>\n",
       "      <th></th>\n",
       "      <th></th>\n",
       "      <th></th>\n",
       "      <th></th>\n",
       "      <th></th>\n",
       "      <th></th>\n",
       "      <th></th>\n",
       "      <th></th>\n",
       "      <th></th>\n",
       "      <th></th>\n",
       "      <th></th>\n",
       "      <th></th>\n",
       "      <th></th>\n",
       "      <th></th>\n",
       "    </tr>\n",
       "  </thead>\n",
       "  <tbody>\n",
       "    <tr>\n",
       "      <th>2019-01-01 00:00:00</th>\n",
       "      <td>6172.606705</td>\n",
       "      <td>0.0</td>\n",
       "      <td>6.172607</td>\n",
       "      <td>0.0</td>\n",
       "      <td>6.172607</td>\n",
       "      <td>0.0</td>\n",
       "      <td>0</td>\n",
       "      <td>0</td>\n",
       "      <td>0</td>\n",
       "      <td>0</td>\n",
       "      <td>0</td>\n",
       "      <td>NaN</td>\n",
       "      <td>0</td>\n",
       "      <td>0</td>\n",
       "    </tr>\n",
       "    <tr>\n",
       "      <th>2019-01-01 01:00:00</th>\n",
       "      <td>5719.709933</td>\n",
       "      <td>0.0</td>\n",
       "      <td>5.719710</td>\n",
       "      <td>0.0</td>\n",
       "      <td>5.719710</td>\n",
       "      <td>0.0</td>\n",
       "      <td>0</td>\n",
       "      <td>0</td>\n",
       "      <td>0</td>\n",
       "      <td>0</td>\n",
       "      <td>0</td>\n",
       "      <td>NaN</td>\n",
       "      <td>0</td>\n",
       "      <td>0</td>\n",
       "    </tr>\n",
       "    <tr>\n",
       "      <th>2019-01-01 02:00:00</th>\n",
       "      <td>5724.073035</td>\n",
       "      <td>0.0</td>\n",
       "      <td>5.724073</td>\n",
       "      <td>0.0</td>\n",
       "      <td>5.724073</td>\n",
       "      <td>0.0</td>\n",
       "      <td>0</td>\n",
       "      <td>0</td>\n",
       "      <td>0</td>\n",
       "      <td>0</td>\n",
       "      <td>0</td>\n",
       "      <td>NaN</td>\n",
       "      <td>0</td>\n",
       "      <td>0</td>\n",
       "    </tr>\n",
       "    <tr>\n",
       "      <th>2019-01-01 03:00:00</th>\n",
       "      <td>5694.146908</td>\n",
       "      <td>0.0</td>\n",
       "      <td>5.694147</td>\n",
       "      <td>0.0</td>\n",
       "      <td>5.694147</td>\n",
       "      <td>0.0</td>\n",
       "      <td>0</td>\n",
       "      <td>0</td>\n",
       "      <td>0</td>\n",
       "      <td>0</td>\n",
       "      <td>0</td>\n",
       "      <td>NaN</td>\n",
       "      <td>0</td>\n",
       "      <td>0</td>\n",
       "    </tr>\n",
       "    <tr>\n",
       "      <th>2019-01-01 04:00:00</th>\n",
       "      <td>5669.052597</td>\n",
       "      <td>0.0</td>\n",
       "      <td>5.669053</td>\n",
       "      <td>0.0</td>\n",
       "      <td>5.669053</td>\n",
       "      <td>0.0</td>\n",
       "      <td>0</td>\n",
       "      <td>0</td>\n",
       "      <td>0</td>\n",
       "      <td>0</td>\n",
       "      <td>0</td>\n",
       "      <td>NaN</td>\n",
       "      <td>0</td>\n",
       "      <td>0</td>\n",
       "    </tr>\n",
       "    <tr>\n",
       "      <th>...</th>\n",
       "      <td>...</td>\n",
       "      <td>...</td>\n",
       "      <td>...</td>\n",
       "      <td>...</td>\n",
       "      <td>...</td>\n",
       "      <td>...</td>\n",
       "      <td>...</td>\n",
       "      <td>...</td>\n",
       "      <td>...</td>\n",
       "      <td>...</td>\n",
       "      <td>...</td>\n",
       "      <td>...</td>\n",
       "      <td>...</td>\n",
       "      <td>...</td>\n",
       "    </tr>\n",
       "    <tr>\n",
       "      <th>2019-12-31 19:00:00</th>\n",
       "      <td>39001.696297</td>\n",
       "      <td>0.0</td>\n",
       "      <td>39.001696</td>\n",
       "      <td>0.0</td>\n",
       "      <td>39.001696</td>\n",
       "      <td>0.0</td>\n",
       "      <td>0</td>\n",
       "      <td>0</td>\n",
       "      <td>0</td>\n",
       "      <td>0</td>\n",
       "      <td>0</td>\n",
       "      <td>NaN</td>\n",
       "      <td>0</td>\n",
       "      <td>0</td>\n",
       "    </tr>\n",
       "    <tr>\n",
       "      <th>2019-12-31 20:00:00</th>\n",
       "      <td>31239.400107</td>\n",
       "      <td>0.0</td>\n",
       "      <td>31.239400</td>\n",
       "      <td>0.0</td>\n",
       "      <td>31.239400</td>\n",
       "      <td>0.0</td>\n",
       "      <td>0</td>\n",
       "      <td>0</td>\n",
       "      <td>0</td>\n",
       "      <td>0</td>\n",
       "      <td>0</td>\n",
       "      <td>NaN</td>\n",
       "      <td>0</td>\n",
       "      <td>0</td>\n",
       "    </tr>\n",
       "    <tr>\n",
       "      <th>2019-12-31 21:00:00</th>\n",
       "      <td>24508.132875</td>\n",
       "      <td>0.0</td>\n",
       "      <td>24.508133</td>\n",
       "      <td>0.0</td>\n",
       "      <td>24.508133</td>\n",
       "      <td>0.0</td>\n",
       "      <td>0</td>\n",
       "      <td>0</td>\n",
       "      <td>0</td>\n",
       "      <td>0</td>\n",
       "      <td>0</td>\n",
       "      <td>NaN</td>\n",
       "      <td>0</td>\n",
       "      <td>0</td>\n",
       "    </tr>\n",
       "    <tr>\n",
       "      <th>2019-12-31 22:00:00</th>\n",
       "      <td>22457.678207</td>\n",
       "      <td>0.0</td>\n",
       "      <td>22.457678</td>\n",
       "      <td>0.0</td>\n",
       "      <td>22.457678</td>\n",
       "      <td>0.0</td>\n",
       "      <td>0</td>\n",
       "      <td>0</td>\n",
       "      <td>0</td>\n",
       "      <td>0</td>\n",
       "      <td>0</td>\n",
       "      <td>NaN</td>\n",
       "      <td>0</td>\n",
       "      <td>0</td>\n",
       "    </tr>\n",
       "    <tr>\n",
       "      <th>2019-12-31 23:00:00</th>\n",
       "      <td>6831.358897</td>\n",
       "      <td>0.0</td>\n",
       "      <td>6.831359</td>\n",
       "      <td>0.0</td>\n",
       "      <td>6.831359</td>\n",
       "      <td>0.0</td>\n",
       "      <td>0</td>\n",
       "      <td>0</td>\n",
       "      <td>0</td>\n",
       "      <td>0</td>\n",
       "      <td>0</td>\n",
       "      <td>NaN</td>\n",
       "      <td>0</td>\n",
       "      <td>0</td>\n",
       "    </tr>\n",
       "  </tbody>\n",
       "</table>\n",
       "<p>8760 rows × 14 columns</p>\n",
       "</div>"
      ],
      "text/plain": [
       "                     Dwelling Total [W]  Solar Production [W]  \\\n",
       "Time Stamp                                                      \n",
       "2019-01-01 00:00:00         6172.606705                   0.0   \n",
       "2019-01-01 01:00:00         5719.709933                   0.0   \n",
       "2019-01-01 02:00:00         5724.073035                   0.0   \n",
       "2019-01-01 03:00:00         5694.146908                   0.0   \n",
       "2019-01-01 04:00:00         5669.052597                   0.0   \n",
       "...                                 ...                   ...   \n",
       "2019-12-31 19:00:00        39001.696297                   0.0   \n",
       "2019-12-31 20:00:00        31239.400107                   0.0   \n",
       "2019-12-31 21:00:00        24508.132875                   0.0   \n",
       "2019-12-31 22:00:00        22457.678207                   0.0   \n",
       "2019-12-31 23:00:00         6831.358897                   0.0   \n",
       "\n",
       "                     Dwelling Total [kW]  Solar Production [kW]  \\\n",
       "Time Stamp                                                        \n",
       "2019-01-01 00:00:00             6.172607                    0.0   \n",
       "2019-01-01 01:00:00             5.719710                    0.0   \n",
       "2019-01-01 02:00:00             5.724073                    0.0   \n",
       "2019-01-01 03:00:00             5.694147                    0.0   \n",
       "2019-01-01 04:00:00             5.669053                    0.0   \n",
       "...                                  ...                    ...   \n",
       "2019-12-31 19:00:00            39.001696                    0.0   \n",
       "2019-12-31 20:00:00            31.239400                    0.0   \n",
       "2019-12-31 21:00:00            24.508133                    0.0   \n",
       "2019-12-31 22:00:00            22.457678                    0.0   \n",
       "2019-12-31 23:00:00             6.831359                    0.0   \n",
       "\n",
       "                     Dwelling Total [kWh]  Solar Production [kWh]  \\\n",
       "Time Stamp                                                          \n",
       "2019-01-01 00:00:00              6.172607                     0.0   \n",
       "2019-01-01 01:00:00              5.719710                     0.0   \n",
       "2019-01-01 02:00:00              5.724073                     0.0   \n",
       "2019-01-01 03:00:00              5.694147                     0.0   \n",
       "2019-01-01 04:00:00              5.669053                     0.0   \n",
       "...                                   ...                     ...   \n",
       "2019-12-31 19:00:00             39.001696                     0.0   \n",
       "2019-12-31 20:00:00             31.239400                     0.0   \n",
       "2019-12-31 21:00:00             24.508133                     0.0   \n",
       "2019-12-31 22:00:00             22.457678                     0.0   \n",
       "2019-12-31 23:00:00              6.831359                     0.0   \n",
       "\n",
       "                     Battery Allocation [kWh]  Battery SOC [kWh]  \\\n",
       "Time Stamp                                                         \n",
       "2019-01-01 00:00:00                         0                  0   \n",
       "2019-01-01 01:00:00                         0                  0   \n",
       "2019-01-01 02:00:00                         0                  0   \n",
       "2019-01-01 03:00:00                         0                  0   \n",
       "2019-01-01 04:00:00                         0                  0   \n",
       "...                                       ...                ...   \n",
       "2019-12-31 19:00:00                         0                  0   \n",
       "2019-12-31 20:00:00                         0                  0   \n",
       "2019-12-31 21:00:00                         0                  0   \n",
       "2019-12-31 22:00:00                         0                  0   \n",
       "2019-12-31 23:00:00                         0                  0   \n",
       "\n",
       "                     Battery Use [kWh]  Grid Import [kWh]  Grid Export [kWh]  \\\n",
       "Time Stamp                                                                     \n",
       "2019-01-01 00:00:00                  0                  0                  0   \n",
       "2019-01-01 01:00:00                  0                  0                  0   \n",
       "2019-01-01 02:00:00                  0                  0                  0   \n",
       "2019-01-01 03:00:00                  0                  0                  0   \n",
       "2019-01-01 04:00:00                  0                  0                  0   \n",
       "...                                ...                ...                ...   \n",
       "2019-12-31 19:00:00                  0                  0                  0   \n",
       "2019-12-31 20:00:00                  0                  0                  0   \n",
       "2019-12-31 21:00:00                  0                  0                  0   \n",
       "2019-12-31 22:00:00                  0                  0                  0   \n",
       "2019-12-31 23:00:00                  0                  0                  0   \n",
       "\n",
       "                     Grid Dependence [0/1]  Load minus Solar [kWh]  \\\n",
       "Time Stamp                                                           \n",
       "2019-01-01 00:00:00                    NaN                       0   \n",
       "2019-01-01 01:00:00                    NaN                       0   \n",
       "2019-01-01 02:00:00                    NaN                       0   \n",
       "2019-01-01 03:00:00                    NaN                       0   \n",
       "2019-01-01 04:00:00                    NaN                       0   \n",
       "...                                    ...                     ...   \n",
       "2019-12-31 19:00:00                    NaN                       0   \n",
       "2019-12-31 20:00:00                    NaN                       0   \n",
       "2019-12-31 21:00:00                    NaN                       0   \n",
       "2019-12-31 22:00:00                    NaN                       0   \n",
       "2019-12-31 23:00:00                    NaN                       0   \n",
       "\n",
       "                     Battery Allocated [kWh]  \n",
       "Time Stamp                                    \n",
       "2019-01-01 00:00:00                        0  \n",
       "2019-01-01 01:00:00                        0  \n",
       "2019-01-01 02:00:00                        0  \n",
       "2019-01-01 03:00:00                        0  \n",
       "2019-01-01 04:00:00                        0  \n",
       "...                                      ...  \n",
       "2019-12-31 19:00:00                        0  \n",
       "2019-12-31 20:00:00                        0  \n",
       "2019-12-31 21:00:00                        0  \n",
       "2019-12-31 22:00:00                        0  \n",
       "2019-12-31 23:00:00                        0  \n",
       "\n",
       "[8760 rows x 14 columns]"
      ]
     },
     "execution_count": 77,
     "metadata": {},
     "output_type": "execute_result"
    }
   ],
   "source": [
    "df_bat[\"Battery Allocation [kWh]\"] = 0\n",
    "df_bat[\"Battery SOC [kWh]\"] = 0\n",
    "df_bat[\"Battery Use [kWh]\"]= 0\n",
    "df_bat[\"Grid Import [kWh]\"] = 0\n",
    "df_bat[\"Grid Export [kWh]\"] = 0\n",
    "df_bat[\"Grid Dependence [0/1]\"] = np.nan\n",
    "df_bat[\"Load minus Solar [kWh]\"] = 0\n",
    "df_bat[\"Battery Allocated [kWh]\"] = 0\n",
    "df_bat"
   ]
  },
  {
   "cell_type": "markdown",
   "metadata": {},
   "source": [
    "## Parameterized Battery Size Viz Solar Utilization Capability"
   ]
  },
  {
   "cell_type": "code",
   "execution_count": 78,
   "metadata": {},
   "outputs": [
    {
     "data": {
      "text/plain": [
       "array([  0,  25,  50,  75, 100, 125, 150, 175, 200, 225, 250, 275, 300,\n",
       "       325, 350, 375, 400])"
      ]
     },
     "execution_count": 78,
     "metadata": {},
     "output_type": "execute_result"
    }
   ],
   "source": [
    "useful_batt_cap = np.arange(0,425,25)\n",
    "useful_batt_cap"
   ]
  },
  {
   "cell_type": "code",
   "execution_count": 79,
   "metadata": {},
   "outputs": [],
   "source": [
    "def batterycontroller(df_bat,useful_batt_cap):\n",
    "    for i in range(1,len(df_bat)):\n",
    "        if df_bat.iloc[i,5]>df_bat.iloc[i,4] : # Check if prod > consumption = Charging\n",
    "            df_bat.iloc[i,12] = df_bat.iloc[i,4]-df_bat.iloc[i,5]\n",
    "            df_bat.iloc[i,6] = df_bat.iloc[i,5]-df_bat.iloc[i,4] # New Allocation to battery\n",
    "            if (df_bat.iloc[i-1,7] < useful_batt_cap): # Check if Existing SOC < Battery Size\n",
    "                if (df_bat.iloc[i,6] + df_bat.iloc[i-1,7] <= useful_batt_cap):\n",
    "                    df_bat.iloc[i,7] =  df_bat.iloc[i-1,7]+df_bat.iloc[i,6] # Full Allocation to Battery\n",
    "                    df_bat.iloc[i,8] = 0 #Charging Cycle\n",
    "                    df_bat.iloc[i,9] = 0 #No Import\n",
    "                    df_bat.iloc[i,10] = 0 # No Export\n",
    "                    df_bat.iloc[i,11] = 0 # No Grid Dependence\n",
    "                    df_bat.iloc[i,13] = df_bat.iloc[i,7] - df_bat.iloc[i-1,7] \n",
    "                else:\n",
    "                    df_bat.iloc[i,7] =  df_bat.iloc[i-1,7] + (useful_batt_cap-df_bat.iloc[i-1,7]) # Limited Allocation to Battery\n",
    "                    df_bat.iloc[i,8] = 0 #Charging Cycle\n",
    "                    df_bat.iloc[i,9] = 0 #No Import\n",
    "                    df_bat.iloc[i,10] = df_bat.iloc[i,6]+df_bat.iloc[i-1,7]-useful_batt_cap # Exported Excess   \n",
    "                    df_bat.iloc[i,11] = 1 # Partial Grid Dependency\n",
    "                    df_bat.iloc[i,13] = df_bat.iloc[i,7] - df_bat.iloc[i-1,7]\n",
    "            else: # Export Complete Energy\n",
    "           \n",
    "                df_bat.iloc[i,7] = df_bat.iloc[i-1,7] # New Allocation to battery\n",
    "                df_bat.iloc[i,8] = 0 #Charging Cycle\n",
    "                df_bat.iloc[i,9] = 0 #No Import\n",
    "                df_bat.iloc[i,10]= df_bat.iloc[i,6]\n",
    "                df_bat.iloc[i,11] = 1 # Grid Dependence\n",
    "                df_bat.iloc[i,13] = df_bat.iloc[i,7] - df_bat.iloc[i-1,7]\n",
    "                    \n",
    "        elif df_bat.iloc[i,5]==df_bat.iloc[i,4] : # Check if production = consumption\n",
    "            df_bat.iloc[i,12] = df_bat.iloc[i,4]-df_bat.iloc[i,5]\n",
    "            df_bat.iloc[i,12] = df_bat.iloc[i,4] - 0\n",
    "            df_bat.iloc[i,6] = 0 # Zero Excess to Battery \n",
    "            df_bat.iloc[i,7] = df_bat.iloc[i-1,7]  #Maintain Previous State\n",
    "            df_bat.iloc[i,8] = 0 # No Use\n",
    "            df_bat.iloc[i,9] = 0 #No Import\n",
    "            df_bat.iloc[i,10] = 0 #No Export\n",
    "            df_bat.iloc[i,11] = 0 # No Grid Dependence\n",
    "            df_bat.iloc[i,13] = df_bat.iloc[i,7] - df_bat.iloc[i-1,7]\n",
    "        \n",
    "        else: # Discharging Cycle\n",
    "            df_bat.iloc[i,12] = df_bat.iloc[i,4]-df_bat.iloc[i,5]  \n",
    "            if (df_bat.iloc[i-1,7] > 0):  # Check if Battery is charged\n",
    "                if (df_bat.iloc[i-1,7] > df_bat.iloc[i,12]): # Check if on-site batter + solar can meet complete load\n",
    "                    df_bat.iloc[i,6] = 0 # Discharging Cycle so no new allocation\n",
    "                    df_bat.iloc[i,7] = df_bat.iloc[i-1,7]-df_bat.iloc[i,12] # New SOC\n",
    "                    df_bat.iloc[i,8] = df_bat.iloc[i,12] # Battery Consumption\n",
    "                    df_bat.iloc[i,9] = 0 # No Grid Use\n",
    "                    df_bat.iloc[i,10] = 0 # Discharging Cycle = No Export\n",
    "                    df_bat.iloc[i,11] = 0 # No Grid Dependence\n",
    "                    df_bat.iloc[i,13] = df_bat.iloc[i,7] - df_bat.iloc[i-1,7]\n",
    "                else: # Battery SOC + solar production cannot meet entire load\n",
    "                    df_bat.iloc[i,6] = 0 # Discharging Cycle so no new allocation\n",
    "                    df_bat.iloc[i,7] = 0 # New SOC - Replace later with SOC Min\n",
    "                    df_bat.iloc[i,8] = df_bat.iloc[i-1,7] # Consume Battery\n",
    "                    df_bat.iloc[i,9] = df_bat.iloc[i,4] - df_bat.iloc[i-1,7]  # Import Excess from Grid\n",
    "                    df_bat.iloc[i,10] = 0 # Discharging Cycle = No Export\n",
    "                    df_bat.iloc[i,11] = 1 # Partial Grid Dependency\n",
    "                    df_bat.iloc[i,13] = df_bat.iloc[i,7] - df_bat.iloc[i-1,7]\n",
    "            else:\n",
    "                df_bat.iloc[i,6] = 0 # Discharging Cycle so no new allocation\n",
    "                df_bat.iloc[i,7] = df_bat.iloc[i-1,7] # Same SOC as before - Replace later with SOC Min\n",
    "                df_bat.iloc[i,8] =  0 # Consume Battery\n",
    "                df_bat.iloc[i,9] = df_bat.iloc[i,12] # Not enough RE or Battery on site\n",
    "                df_bat.iloc[i,10] = 0 # Discharging Cycle = No Export\n",
    "                df_bat.iloc[i,11] = 1 # Grid Dependence\n",
    "                df_bat.iloc[i,13] = df_bat.iloc[i,7] - df_bat.iloc[i-1,7]\n",
    "    return(df_bat)\n"
   ]
  },
  {
   "cell_type": "markdown",
   "metadata": {},
   "source": [
    "## OEM Computation"
   ]
  },
  {
   "cell_type": "markdown",
   "metadata": {},
   "source": [
    "### With Minute Interval Dataset and no battery"
   ]
  },
  {
   "cell_type": "code",
   "execution_count": 80,
   "metadata": {},
   "outputs": [
    {
     "data": {
      "text/html": [
       "<div>\n",
       "<style scoped>\n",
       "    .dataframe tbody tr th:only-of-type {\n",
       "        vertical-align: middle;\n",
       "    }\n",
       "\n",
       "    .dataframe tbody tr th {\n",
       "        vertical-align: top;\n",
       "    }\n",
       "\n",
       "    .dataframe thead th {\n",
       "        text-align: right;\n",
       "    }\n",
       "</style>\n",
       "<table border=\"1\" class=\"dataframe\">\n",
       "  <thead>\n",
       "    <tr style=\"text-align: right;\">\n",
       "      <th></th>\n",
       "      <th>Solar Production [W]</th>\n",
       "    </tr>\n",
       "  </thead>\n",
       "  <tbody>\n",
       "    <tr>\n",
       "      <th>2019-01-01 00:00:00</th>\n",
       "      <td>0.0</td>\n",
       "    </tr>\n",
       "    <tr>\n",
       "      <th>2019-01-01 00:01:00</th>\n",
       "      <td>0.0</td>\n",
       "    </tr>\n",
       "    <tr>\n",
       "      <th>2019-01-01 00:02:00</th>\n",
       "      <td>0.0</td>\n",
       "    </tr>\n",
       "    <tr>\n",
       "      <th>2019-01-01 00:03:00</th>\n",
       "      <td>0.0</td>\n",
       "    </tr>\n",
       "    <tr>\n",
       "      <th>2019-01-01 00:04:00</th>\n",
       "      <td>0.0</td>\n",
       "    </tr>\n",
       "    <tr>\n",
       "      <th>...</th>\n",
       "      <td>...</td>\n",
       "    </tr>\n",
       "    <tr>\n",
       "      <th>2019-12-31 23:55:00</th>\n",
       "      <td>0.0</td>\n",
       "    </tr>\n",
       "    <tr>\n",
       "      <th>2019-12-31 23:56:00</th>\n",
       "      <td>0.0</td>\n",
       "    </tr>\n",
       "    <tr>\n",
       "      <th>2019-12-31 23:57:00</th>\n",
       "      <td>0.0</td>\n",
       "    </tr>\n",
       "    <tr>\n",
       "      <th>2019-12-31 23:58:00</th>\n",
       "      <td>0.0</td>\n",
       "    </tr>\n",
       "    <tr>\n",
       "      <th>2019-12-31 23:59:00</th>\n",
       "      <td>0.0</td>\n",
       "    </tr>\n",
       "  </tbody>\n",
       "</table>\n",
       "<p>525600 rows × 1 columns</p>\n",
       "</div>"
      ],
      "text/plain": [
       "                     Solar Production [W]\n",
       "2019-01-01 00:00:00                   0.0\n",
       "2019-01-01 00:01:00                   0.0\n",
       "2019-01-01 00:02:00                   0.0\n",
       "2019-01-01 00:03:00                   0.0\n",
       "2019-01-01 00:04:00                   0.0\n",
       "...                                   ...\n",
       "2019-12-31 23:55:00                   0.0\n",
       "2019-12-31 23:56:00                   0.0\n",
       "2019-12-31 23:57:00                   0.0\n",
       "2019-12-31 23:58:00                   0.0\n",
       "2019-12-31 23:59:00                   0.0\n",
       "\n",
       "[525600 rows x 1 columns]"
      ]
     },
     "execution_count": 80,
     "metadata": {},
     "output_type": "execute_result"
    }
   ],
   "source": [
    "df_sol = df_60percent_365.resample(\"1T\").bfill()\n",
    "import datetime\n",
    "index = pd.date_range(start=\"2019-12-31 23:01:00\",end=\"2019-12-31 23:59:00\",freq=\"1T\")\n",
    "columns = df_80percent_365.columns.values\n",
    "df_sol_temp = pd.DataFrame(index=index, columns=columns)\n",
    "df_sol_temp = df_sol_temp.fillna(0)\n",
    "df_sol_temp\n",
    "df_sol = df_sol.append(df_sol_temp)\n",
    "df_sol"
   ]
  },
  {
   "cell_type": "code",
   "execution_count": 81,
   "metadata": {},
   "outputs": [
    {
     "data": {
      "text/html": [
       "<div>\n",
       "<style scoped>\n",
       "    .dataframe tbody tr th:only-of-type {\n",
       "        vertical-align: middle;\n",
       "    }\n",
       "\n",
       "    .dataframe tbody tr th {\n",
       "        vertical-align: top;\n",
       "    }\n",
       "\n",
       "    .dataframe thead th {\n",
       "        text-align: right;\n",
       "    }\n",
       "</style>\n",
       "<table border=\"1\" class=\"dataframe\">\n",
       "  <thead>\n",
       "    <tr style=\"text-align: right;\">\n",
       "      <th></th>\n",
       "      <th>Dwelling Total [W]</th>\n",
       "      <th>Solar Production [W]</th>\n",
       "    </tr>\n",
       "  </thead>\n",
       "  <tbody>\n",
       "    <tr>\n",
       "      <th>2019-01-01 00:00:00</th>\n",
       "      <td>7237.681805</td>\n",
       "      <td>0.0</td>\n",
       "    </tr>\n",
       "    <tr>\n",
       "      <th>2019-01-01 00:01:00</th>\n",
       "      <td>7235.292614</td>\n",
       "      <td>0.0</td>\n",
       "    </tr>\n",
       "    <tr>\n",
       "      <th>2019-01-01 00:02:00</th>\n",
       "      <td>7231.845060</td>\n",
       "      <td>0.0</td>\n",
       "    </tr>\n",
       "    <tr>\n",
       "      <th>2019-01-01 00:03:00</th>\n",
       "      <td>7229.994699</td>\n",
       "      <td>0.0</td>\n",
       "    </tr>\n",
       "    <tr>\n",
       "      <th>2019-01-01 00:04:00</th>\n",
       "      <td>7229.301856</td>\n",
       "      <td>0.0</td>\n",
       "    </tr>\n",
       "    <tr>\n",
       "      <th>...</th>\n",
       "      <td>...</td>\n",
       "      <td>...</td>\n",
       "    </tr>\n",
       "    <tr>\n",
       "      <th>2019-12-31 23:55:00</th>\n",
       "      <td>5785.092432</td>\n",
       "      <td>0.0</td>\n",
       "    </tr>\n",
       "    <tr>\n",
       "      <th>2019-12-31 23:56:00</th>\n",
       "      <td>5709.868082</td>\n",
       "      <td>0.0</td>\n",
       "    </tr>\n",
       "    <tr>\n",
       "      <th>2019-12-31 23:57:00</th>\n",
       "      <td>5767.666172</td>\n",
       "      <td>0.0</td>\n",
       "    </tr>\n",
       "    <tr>\n",
       "      <th>2019-12-31 23:58:00</th>\n",
       "      <td>5767.484226</td>\n",
       "      <td>0.0</td>\n",
       "    </tr>\n",
       "    <tr>\n",
       "      <th>2019-12-31 23:59:00</th>\n",
       "      <td>5820.320067</td>\n",
       "      <td>0.0</td>\n",
       "    </tr>\n",
       "  </tbody>\n",
       "</table>\n",
       "<p>525600 rows × 2 columns</p>\n",
       "</div>"
      ],
      "text/plain": [
       "                     Dwelling Total [W]  Solar Production [W]\n",
       "2019-01-01 00:00:00         7237.681805                   0.0\n",
       "2019-01-01 00:01:00         7235.292614                   0.0\n",
       "2019-01-01 00:02:00         7231.845060                   0.0\n",
       "2019-01-01 00:03:00         7229.994699                   0.0\n",
       "2019-01-01 00:04:00         7229.301856                   0.0\n",
       "...                                 ...                   ...\n",
       "2019-12-31 23:55:00         5785.092432                   0.0\n",
       "2019-12-31 23:56:00         5709.868082                   0.0\n",
       "2019-12-31 23:57:00         5767.666172                   0.0\n",
       "2019-12-31 23:58:00         5767.484226                   0.0\n",
       "2019-12-31 23:59:00         5820.320067                   0.0\n",
       "\n",
       "[525600 rows x 2 columns]"
      ]
     },
     "execution_count": 81,
     "metadata": {},
     "output_type": "execute_result"
    }
   ],
   "source": [
    "df_oem = df.iloc[:,3:4].copy()\n",
    "df_oem = pd.concat([df_oem,df_sol],axis=1)\n",
    "df_oem"
   ]
  },
  {
   "cell_type": "code",
   "execution_count": 82,
   "metadata": {},
   "outputs": [
    {
     "data": {
      "text/html": [
       "<div>\n",
       "<style scoped>\n",
       "    .dataframe tbody tr th:only-of-type {\n",
       "        vertical-align: middle;\n",
       "    }\n",
       "\n",
       "    .dataframe tbody tr th {\n",
       "        vertical-align: top;\n",
       "    }\n",
       "\n",
       "    .dataframe thead th {\n",
       "        text-align: right;\n",
       "    }\n",
       "</style>\n",
       "<table border=\"1\" class=\"dataframe\">\n",
       "  <thead>\n",
       "    <tr style=\"text-align: right;\">\n",
       "      <th></th>\n",
       "      <th>Dwelling Total [W]</th>\n",
       "      <th>Solar Production [W]</th>\n",
       "      <th>Dwelling Total [kW]</th>\n",
       "      <th>Solar Production [kW]</th>\n",
       "      <th>Dwelling Total [kWh]</th>\n",
       "      <th>Solar Production [kWh]</th>\n",
       "    </tr>\n",
       "  </thead>\n",
       "  <tbody>\n",
       "    <tr>\n",
       "      <th>2019-01-01 00:00:00</th>\n",
       "      <td>7237.681805</td>\n",
       "      <td>0.0</td>\n",
       "      <td>7.237682</td>\n",
       "      <td>0.0</td>\n",
       "      <td>7.237682</td>\n",
       "      <td>0.0</td>\n",
       "    </tr>\n",
       "    <tr>\n",
       "      <th>2019-01-01 00:01:00</th>\n",
       "      <td>7235.292614</td>\n",
       "      <td>0.0</td>\n",
       "      <td>7.235293</td>\n",
       "      <td>0.0</td>\n",
       "      <td>7.235293</td>\n",
       "      <td>0.0</td>\n",
       "    </tr>\n",
       "    <tr>\n",
       "      <th>2019-01-01 00:02:00</th>\n",
       "      <td>7231.845060</td>\n",
       "      <td>0.0</td>\n",
       "      <td>7.231845</td>\n",
       "      <td>0.0</td>\n",
       "      <td>7.231845</td>\n",
       "      <td>0.0</td>\n",
       "    </tr>\n",
       "    <tr>\n",
       "      <th>2019-01-01 00:03:00</th>\n",
       "      <td>7229.994699</td>\n",
       "      <td>0.0</td>\n",
       "      <td>7.229995</td>\n",
       "      <td>0.0</td>\n",
       "      <td>7.229995</td>\n",
       "      <td>0.0</td>\n",
       "    </tr>\n",
       "    <tr>\n",
       "      <th>2019-01-01 00:04:00</th>\n",
       "      <td>7229.301856</td>\n",
       "      <td>0.0</td>\n",
       "      <td>7.229302</td>\n",
       "      <td>0.0</td>\n",
       "      <td>7.229302</td>\n",
       "      <td>0.0</td>\n",
       "    </tr>\n",
       "    <tr>\n",
       "      <th>...</th>\n",
       "      <td>...</td>\n",
       "      <td>...</td>\n",
       "      <td>...</td>\n",
       "      <td>...</td>\n",
       "      <td>...</td>\n",
       "      <td>...</td>\n",
       "    </tr>\n",
       "    <tr>\n",
       "      <th>2019-12-31 23:55:00</th>\n",
       "      <td>5785.092432</td>\n",
       "      <td>0.0</td>\n",
       "      <td>5.785092</td>\n",
       "      <td>0.0</td>\n",
       "      <td>5.785092</td>\n",
       "      <td>0.0</td>\n",
       "    </tr>\n",
       "    <tr>\n",
       "      <th>2019-12-31 23:56:00</th>\n",
       "      <td>5709.868082</td>\n",
       "      <td>0.0</td>\n",
       "      <td>5.709868</td>\n",
       "      <td>0.0</td>\n",
       "      <td>5.709868</td>\n",
       "      <td>0.0</td>\n",
       "    </tr>\n",
       "    <tr>\n",
       "      <th>2019-12-31 23:57:00</th>\n",
       "      <td>5767.666172</td>\n",
       "      <td>0.0</td>\n",
       "      <td>5.767666</td>\n",
       "      <td>0.0</td>\n",
       "      <td>5.767666</td>\n",
       "      <td>0.0</td>\n",
       "    </tr>\n",
       "    <tr>\n",
       "      <th>2019-12-31 23:58:00</th>\n",
       "      <td>5767.484226</td>\n",
       "      <td>0.0</td>\n",
       "      <td>5.767484</td>\n",
       "      <td>0.0</td>\n",
       "      <td>5.767484</td>\n",
       "      <td>0.0</td>\n",
       "    </tr>\n",
       "    <tr>\n",
       "      <th>2019-12-31 23:59:00</th>\n",
       "      <td>5820.320067</td>\n",
       "      <td>0.0</td>\n",
       "      <td>5.820320</td>\n",
       "      <td>0.0</td>\n",
       "      <td>5.820320</td>\n",
       "      <td>0.0</td>\n",
       "    </tr>\n",
       "  </tbody>\n",
       "</table>\n",
       "<p>525600 rows × 6 columns</p>\n",
       "</div>"
      ],
      "text/plain": [
       "                     Dwelling Total [W]  Solar Production [W]  \\\n",
       "2019-01-01 00:00:00         7237.681805                   0.0   \n",
       "2019-01-01 00:01:00         7235.292614                   0.0   \n",
       "2019-01-01 00:02:00         7231.845060                   0.0   \n",
       "2019-01-01 00:03:00         7229.994699                   0.0   \n",
       "2019-01-01 00:04:00         7229.301856                   0.0   \n",
       "...                                 ...                   ...   \n",
       "2019-12-31 23:55:00         5785.092432                   0.0   \n",
       "2019-12-31 23:56:00         5709.868082                   0.0   \n",
       "2019-12-31 23:57:00         5767.666172                   0.0   \n",
       "2019-12-31 23:58:00         5767.484226                   0.0   \n",
       "2019-12-31 23:59:00         5820.320067                   0.0   \n",
       "\n",
       "                     Dwelling Total [kW]  Solar Production [kW]  \\\n",
       "2019-01-01 00:00:00             7.237682                    0.0   \n",
       "2019-01-01 00:01:00             7.235293                    0.0   \n",
       "2019-01-01 00:02:00             7.231845                    0.0   \n",
       "2019-01-01 00:03:00             7.229995                    0.0   \n",
       "2019-01-01 00:04:00             7.229302                    0.0   \n",
       "...                                  ...                    ...   \n",
       "2019-12-31 23:55:00             5.785092                    0.0   \n",
       "2019-12-31 23:56:00             5.709868                    0.0   \n",
       "2019-12-31 23:57:00             5.767666                    0.0   \n",
       "2019-12-31 23:58:00             5.767484                    0.0   \n",
       "2019-12-31 23:59:00             5.820320                    0.0   \n",
       "\n",
       "                     Dwelling Total [kWh]  Solar Production [kWh]  \n",
       "2019-01-01 00:00:00              7.237682                     0.0  \n",
       "2019-01-01 00:01:00              7.235293                     0.0  \n",
       "2019-01-01 00:02:00              7.231845                     0.0  \n",
       "2019-01-01 00:03:00              7.229995                     0.0  \n",
       "2019-01-01 00:04:00              7.229302                     0.0  \n",
       "...                                   ...                     ...  \n",
       "2019-12-31 23:55:00              5.785092                     0.0  \n",
       "2019-12-31 23:56:00              5.709868                     0.0  \n",
       "2019-12-31 23:57:00              5.767666                     0.0  \n",
       "2019-12-31 23:58:00              5.767484                     0.0  \n",
       "2019-12-31 23:59:00              5.820320                     0.0  \n",
       "\n",
       "[525600 rows x 6 columns]"
      ]
     },
     "execution_count": 82,
     "metadata": {},
     "output_type": "execute_result"
    }
   ],
   "source": [
    "df_oem[\"Dwelling Total [kW]\"] = df_oem[\"Dwelling Total [W]\"]/1000\n",
    "df_oem[\"Solar Production [kW]\"] = df_oem[\"Solar Production [W]\"]/1000\n",
    "df_oem[\"Dwelling Total [kWh]\"] = df_oem[\"Dwelling Total [kW]\"]\n",
    "df_oem[\"Solar Production [kWh]\"] = df_oem[\"Solar Production [kW]\"]\n",
    "df_oem"
   ]
  },
  {
   "cell_type": "code",
   "execution_count": 83,
   "metadata": {},
   "outputs": [
    {
     "name": "stdout",
     "output_type": "stream",
     "text": [
      "Annual Calculated OEM = 49.28\n"
     ]
    }
   ],
   "source": [
    "df_oem[\"Min\"] = df_oem.iloc[:,4:6].min(axis=1)\n",
    "df_oem[\"OEM\"] = df_oem[\"Min\"]/df_oem[\"Solar Production [kWh]\"]  \n",
    "MeanOEM = df_oem[\"OEM\"].mean(skipna=True)\n",
    "print(\"Annual Calculated OEM =\",round(MeanOEM*100,2))"
   ]
  },
  {
   "cell_type": "markdown",
   "metadata": {},
   "source": [
    "### With hour interval Dataset and battery"
   ]
  },
  {
   "cell_type": "code",
   "execution_count": 55,
   "metadata": {},
   "outputs": [
    {
     "data": {
      "text/plain": [
       "[0.5112744172122796,\n",
       " 0.5895596087811007,\n",
       " 0.6359536104216581,\n",
       " 0.6745171320031986,\n",
       " 0.7064695737197669,\n",
       " 0.7322080037601463,\n",
       " 0.7500224267605935,\n",
       " 0.7617237016935098,\n",
       " 0.7686063791907322,\n",
       " 0.773271820801125,\n",
       " 0.7759481694010963,\n",
       " 0.7778043225693869,\n",
       " 0.7791687196910534,\n",
       " 0.7801683143708115,\n",
       " 0.7808048300695948,\n",
       " 0.7814603682632569,\n",
       " 0.7818970818592976]"
      ]
     },
     "execution_count": 55,
     "metadata": {},
     "output_type": "execute_result"
    }
   ],
   "source": [
    "oem = []\n",
    "for b in range(0,len(useful_batt_cap)):\n",
    "    oem_itr = batterycontroller(df_bat,useful_batt_cap[b])\n",
    "    oem_itr[\"Load +/- Storage\"] = oem_itr[\"Dwelling Total [kWh]\"]+oem_itr[\"Battery Allocated [kWh]\"]\n",
    "    oem_itr[\"Load +/- Storage\"] = oem_itr[\"Load +/- Storage\"].round(2)\n",
    "    oem_itr[\"Min\"] = oem_itr.iloc[:,[5,14]].min(axis=1)\n",
    "    oem_itr[\"OEM\"] = oem_itr[\"Min\"]/oem_itr[\"Solar Production [kWh]\"]\n",
    "    oem.append(oem_itr[\"OEM\"].mean(skipna=True))\n",
    "oem"
   ]
  },
  {
   "cell_type": "code",
   "execution_count": 56,
   "metadata": {},
   "outputs": [
    {
     "data": {
      "text/plain": [
       "Text(0, 0.5, 'OEM [%]')"
      ]
     },
     "execution_count": 56,
     "metadata": {},
     "output_type": "execute_result"
    },
    {
     "data": {
      "image/png": "[encoded data removed]",
      "text/plain": [
       "<Figure size 720x360 with 1 Axes>"
      ]
     },
     "metadata": {},
     "output_type": "display_data"
    }
   ],
   "source": [
    "oem = [round(num*100, 2) for num in oem]\n",
    "sns.set(rc={'figure.figsize':(10,5)})\n",
    "plt.plot(useful_batt_cap,oem, marker='o', linestyle='--')\n",
    "plt.xlabel(\"Useful Battery Capacity [kWh]\")\n",
    "plt.ylabel(\"OEM [%]\")"
   ]
  },
  {
   "cell_type": "markdown",
   "metadata": {},
   "source": [
    "## PV Contribution to Demand or OEF"
   ]
  },
  {
   "cell_type": "code",
   "execution_count": 57,
   "metadata": {},
   "outputs": [
    {
     "data": {
      "text/plain": [
       "[0.39370236804097114,\n",
       " 0.44954166205706936,\n",
       " 0.49218618730266844,\n",
       " 0.5432438414389501,\n",
       " 0.6175334330013706,\n",
       " 0.6829659860105903,\n",
       " 0.7240485863673447,\n",
       " 0.7458054412003581,\n",
       " 0.7578074052497215,\n",
       " 0.7648878013801038,\n",
       " 0.7682781827169577,\n",
       " 0.7710033612521997,\n",
       " 0.773288577194635,\n",
       " 0.7760178559637492,\n",
       " 0.7774473563169928,\n",
       " 0.7784341342076162,\n",
       " 0.7796630273969589]"
      ]
     },
     "execution_count": 57,
     "metadata": {},
     "output_type": "execute_result"
    }
   ],
   "source": [
    "pvconttodemand = []\n",
    "for b in range(0,len(useful_batt_cap)):\n",
    "    oef = batterycontroller(df_bat,useful_batt_cap[b])\n",
    "    oef[\"PV Cont to Demand [%]\"] = (oef[\"Dwelling Total [kWh]\"]-oef[\"Grid Import [kWh]\"])/oef[\"Dwelling Total [kWh]\"]\n",
    "    pvconttodemand.append(oef[\"PV Cont to Demand [%]\"].mean())\n",
    "pvconttodemand"
   ]
  },
  {
   "cell_type": "code",
   "execution_count": 58,
   "metadata": {},
   "outputs": [
    {
     "data": {
      "text/plain": [
       "Text(0, 0.5, 'PV Contribution to Demand or OEF [%]')"
      ]
     },
     "execution_count": 58,
     "metadata": {},
     "output_type": "execute_result"
    },
    {
     "data": {
      "image/png": "[encoded data removed]",
      "text/plain": [
       "<Figure size 720x360 with 1 Axes>"
      ]
     },
     "metadata": {},
     "output_type": "display_data"
    }
   ],
   "source": [
    "pvconttodemand = [round(num*100, 2) for num in pvconttodemand]\n",
    "sns.set(rc={'figure.figsize':(10,5)})\n",
    "plt.plot(useful_batt_cap,pvconttodemand, marker='o', linestyle='--')\n",
    "plt.xlabel(\"Useful Battery Capacity [kWh]\")\n",
    "plt.ylabel(\"PV Contribution to Demand or OEF [%]\")"
   ]
  },
  {
   "cell_type": "markdown",
   "metadata": {},
   "source": [
    "## Grid Dependence"
   ]
  },
  {
   "cell_type": "code",
   "execution_count": 59,
   "metadata": {},
   "outputs": [
    {
     "data": {
      "text/plain": [
       "[0.9998858447488584,\n",
       " 0.8773972602739726,\n",
       " 0.8019406392694064,\n",
       " 0.7240867579908675,\n",
       " 0.6261415525114156,\n",
       " 0.5337899543378996,\n",
       " 0.4712328767123288,\n",
       " 0.43881278538812785,\n",
       " 0.41963470319634705,\n",
       " 0.4069634703196347,\n",
       " 0.40079908675799086,\n",
       " 0.395662100456621,\n",
       " 0.3917808219178082,\n",
       " 0.38789954337899546,\n",
       " 0.3858447488584475,\n",
       " 0.3843607305936073,\n",
       " 0.382648401826484]"
      ]
     },
     "execution_count": 59,
     "metadata": {},
     "output_type": "execute_result"
    }
   ],
   "source": [
    "grid_dependence = []\n",
    "for b in range(0,len(useful_batt_cap)):\n",
    "    dfs_gd = batterycontroller(df_bat,useful_batt_cap[b])\n",
    "    grid_dependence.append(dfs_gd[\"Grid Dependence [0/1]\"].sum()/8760)\n",
    "grid_dependence"
   ]
  },
  {
   "cell_type": "code",
   "execution_count": 60,
   "metadata": {},
   "outputs": [
    {
     "data": {
      "text/plain": [
       "Text(0, 0.5, 'Grid Dependence')"
      ]
     },
     "execution_count": 60,
     "metadata": {},
     "output_type": "execute_result"
    },
    {
     "data": {
      "image/png": "[encoded data removed]",
      "text/plain": [
       "<Figure size 720x360 with 1 Axes>"
      ]
     },
     "metadata": {},
     "output_type": "display_data"
    }
   ],
   "source": [
    "grid_dependence = [round(num, 2) for num in grid_dependence]\n",
    "sns.set(rc={'figure.figsize':(10,5)})\n",
    "plt.plot(useful_batt_cap,grid_dependence)\n",
    "plt.xlabel(\"Useful Battery Capacity [kWh]\")\n",
    "plt.ylabel(\"Grid Dependence\")"
   ]
  },
  {
   "cell_type": "markdown",
   "metadata": {},
   "source": [
    "## OPP Computation"
   ]
  },
  {
   "cell_type": "markdown",
   "metadata": {},
   "source": [
    "Plot Load Duration Curves"
   ]
  },
  {
   "cell_type": "code",
   "execution_count": 84,
   "metadata": {},
   "outputs": [
    {
     "data": {
      "text/plain": [
       "[106.06700838053187,\n",
       " 106.06700838053187,\n",
       " 106.06700838053187,\n",
       " 106.06700838053187,\n",
       " 106.06700838053187,\n",
       " 105.86085624330802,\n",
       " 105.86085624330802,\n",
       " 105.86085624330802,\n",
       " 105.86085624330802,\n",
       " 105.86085624330802,\n",
       " 105.86085624330802,\n",
       " 105.86085624330802,\n",
       " 105.8105820561099,\n",
       " 105.8105820561099,\n",
       " 105.8105820561099,\n",
       " 105.8105820561099,\n",
       " 105.8105820561099]"
      ]
     },
     "execution_count": 84,
     "metadata": {},
     "output_type": "execute_result"
    }
   ],
   "source": [
    "OPP = []\n",
    "for b in range(0,len(useful_batt_cap)):\n",
    "    df_opp = batterycontroller(df_bat,useful_batt_cap[b])\n",
    "    df_opp[\"Grid Exchange [kWh]\"] = df_opp.iloc[:,[9,10]].max(axis=1)\n",
    "    OnePercent = np.percentile(df_opp[\"Grid Exchange [kWh]\"],99)\n",
    "    df_peak =  df_opp[df_opp[\"Grid Exchange [kWh]\"]>OnePercent]\n",
    "    OPP.append(df_peak[\"Grid Exchange [kWh]\"].sum()/len(df_peak))\n",
    "OPP"
   ]
  },
  {
   "cell_type": "markdown",
   "metadata": {},
   "source": [
    "## Final Solution Comparison"
   ]
  },
  {
   "cell_type": "code",
   "execution_count": 73,
   "metadata": {},
   "outputs": [],
   "source": [
    "df_final = pd.read_excel(\"FinalSolutions.xlsx\")\n",
    "df_final = df_final.round(2)"
   ]
  },
  {
   "cell_type": "code",
   "execution_count": 76,
   "metadata": {},
   "outputs": [
    {
     "data": {
      "application/vnd.plotly.v1+json": {
       "config": {
        "plotlyServerURL": "https://plot.ly"
       },
       "data": [
        {
         "dimensions": [
          {
           "label": "Roof Area",
           "values": [
            0.6,
            0.6,
            0.6,
            0.6,
            0.6,
            0.6,
            0.6,
            0.6,
            0.6,
            0.6,
            0.8,
            0.8,
            0.8,
            0.8,
            0.8,
            0.8,
            0.8,
            0.8,
            0.8,
            0.8
           ]
          },
          {
           "label": "Battery Size",
           "values": [
            0,
            25,
            50,
            75,
            100,
            125,
            150,
            175,
            200,
            225,
            0,
            25,
            50,
            75,
            100,
            125,
            150,
            175,
            200,
            225
           ]
          },
          {
           "label": "OEF",
           "values": [
            0.43,
            0.49,
            0.54,
            0.58,
            0.65,
            0.7,
            0.73,
            0.75,
            0.76,
            0.76,
            0.43,
            0.5,
            0.54,
            0.58,
            0.65,
            0.71,
            0.74,
            0.76,
            0.77,
            0.77
           ]
          },
          {
           "label": "OEM",
           "values": [
            0.51,
            0.59,
            0.63,
            0.66,
            0.69,
            0.71,
            0.72,
            0.73,
            0.73,
            0.73,
            0.49,
            0.57,
            0.62,
            0.65,
            0.68,
            0.69,
            0.7,
            0.71,
            0.72,
            0.72
           ]
          },
          {
           "label": "Grid Dependence",
           "values": [
            1,
            0.86,
            0.78,
            0.71,
            0.62,
            0.54,
            0.5,
            0.47,
            0.46,
            0.46,
            1,
            0.86,
            0.78,
            0.71,
            0.62,
            0.54,
            0.49,
            0.47,
            0.46,
            0.45
           ]
          }
         ],
         "domain": {
          "x": [
           0,
           1
          ],
          "y": [
           0,
           1
          ]
         },
         "line": {
          "color": [
           0.6,
           0.6,
           0.6,
           0.6,
           0.6,
           0.6,
           0.6,
           0.6,
           0.6,
           0.6,
           0.8,
           0.8,
           0.8,
           0.8,
           0.8,
           0.8,
           0.8,
           0.8,
           0.8,
           0.8
          ],
          "coloraxis": "coloraxis"
         },
         "name": "",
         "type": "parcoords"
        }
       ],
       "layout": {
        "coloraxis": {
         "colorbar": {
          "title": {
           "text": "Roof Area"
          }
         },
         "colorscale": [
          [
           0,
           "rgb(0, 147, 146)"
          ],
          [
           0.16666666666666666,
           "rgb(114, 170, 161)"
          ],
          [
           0.3333333333333333,
           "rgb(177, 199, 179)"
          ],
          [
           0.5,
           "rgb(241, 234, 200)"
          ],
          [
           0.6666666666666666,
           "rgb(229, 185, 173)"
          ],
          [
           0.8333333333333334,
           "rgb(217, 137, 148)"
          ],
          [
           1,
           "rgb(208, 88, 126)"
          ]
         ]
        },
        "legend": {
         "tracegroupgap": 0
        },
        "margin": {
         "t": 60
        },
        "template": {
         "data": {
          "bar": [
           {
            "error_x": {
             "color": "#2a3f5f"
            },
            "error_y": {
             "color": "#2a3f5f"
            },
            "marker": {
             "line": {
              "color": "#E5ECF6",
              "width": 0.5
             }
            },
            "type": "bar"
           }
          ],
          "barpolar": [
           {
            "marker": {
             "line": {
              "color": "#E5ECF6",
              "width": 0.5
             }
            },
            "type": "barpolar"
           }
          ],
          "carpet": [
           {
            "aaxis": {
             "endlinecolor": "#2a3f5f",
             "gridcolor": "white",
             "linecolor": "white",
             "minorgridcolor": "white",
             "startlinecolor": "#2a3f5f"
            },
            "baxis": {
             "endlinecolor": "#2a3f5f",
             "gridcolor": "white",
             "linecolor": "white",
             "minorgridcolor": "white",
             "startlinecolor": "#2a3f5f"
            },
            "type": "carpet"
           }
          ],
          "choropleth": [
           {
            "colorbar": {
             "outlinewidth": 0,
             "ticks": ""
            },
            "type": "choropleth"
           }
          ],
          "contour": [
           {
            "colorbar": {
             "outlinewidth": 0,
             "ticks": ""
            },
            "colorscale": [
             [
              0,
              "#0d0887"
             ],
             [
              0.1111111111111111,
              "#46039f"
             ],
             [
              0.2222222222222222,
              "#7201a8"
             ],
             [
              0.3333333333333333,
              "#9c179e"
             ],
             [
              0.4444444444444444,
              "#bd3786"
             ],
             [
              0.5555555555555556,
              "#d8576b"
             ],
             [
              0.6666666666666666,
              "#ed7953"
             ],
             [
              0.7777777777777778,
              "#fb9f3a"
             ],
             [
              0.8888888888888888,
              "#fdca26"
             ],
             [
              1,
              "#f0f921"
             ]
            ],
            "type": "contour"
           }
          ],
          "contourcarpet": [
           {
            "colorbar": {
             "outlinewidth": 0,
             "ticks": ""
            },
            "type": "contourcarpet"
           }
          ],
          "heatmap": [
           {
            "colorbar": {
             "outlinewidth": 0,
             "ticks": ""
            },
            "colorscale": [
             [
              0,
              "#0d0887"
             ],
             [
              0.1111111111111111,
              "#46039f"
             ],
             [
              0.2222222222222222,
              "#7201a8"
             ],
             [
              0.3333333333333333,
              "#9c179e"
             ],
             [
              0.4444444444444444,
              "#bd3786"
             ],
             [
              0.5555555555555556,
              "#d8576b"
             ],
             [
              0.6666666666666666,
              "#ed7953"
             ],
             [
              0.7777777777777778,
              "#fb9f3a"
             ],
             [
              0.8888888888888888,
              "#fdca26"
             ],
             [
              1,
              "#f0f921"
             ]
            ],
            "type": "heatmap"
           }
          ],
          "heatmapgl": [
           {
            "colorbar": {
             "outlinewidth": 0,
             "ticks": ""
            },
            "colorscale": [
             [
              0,
              "#0d0887"
             ],
             [
              0.1111111111111111,
              "#46039f"
             ],
             [
              0.2222222222222222,
              "#7201a8"
             ],
             [
              0.3333333333333333,
              "#9c179e"
             ],
             [
              0.4444444444444444,
              "#bd3786"
             ],
             [
              0.5555555555555556,
              "#d8576b"
             ],
             [
              0.6666666666666666,
              "#ed7953"
             ],
             [
              0.7777777777777778,
              "#fb9f3a"
             ],
             [
              0.8888888888888888,
              "#fdca26"
             ],
             [
              1,
              "#f0f921"
             ]
            ],
            "type": "heatmapgl"
           }
          ],
          "histogram": [
           {
            "marker": {
             "colorbar": {
              "outlinewidth": 0,
              "ticks": ""
             }
            },
            "type": "histogram"
           }
          ],
          "histogram2d": [
           {
            "colorbar": {
             "outlinewidth": 0,
             "ticks": ""
            },
            "colorscale": [
             [
              0,
              "#0d0887"
             ],
             [
              0.1111111111111111,
              "#46039f"
             ],
             [
              0.2222222222222222,
              "#7201a8"
             ],
             [
              0.3333333333333333,
              "#9c179e"
             ],
             [
              0.4444444444444444,
              "#bd3786"
             ],
             [
              0.5555555555555556,
              "#d8576b"
             ],
             [
              0.6666666666666666,
              "#ed7953"
             ],
             [
              0.7777777777777778,
              "#fb9f3a"
             ],
             [
              0.8888888888888888,
              "#fdca26"
             ],
             [
              1,
              "#f0f921"
             ]
            ],
            "type": "histogram2d"
           }
          ],
          "histogram2dcontour": [
           {
            "colorbar": {
             "outlinewidth": 0,
             "ticks": ""
            },
            "colorscale": [
             [
              0,
              "#0d0887"
             ],
             [
              0.1111111111111111,
              "#46039f"
             ],
             [
              0.2222222222222222,
              "#7201a8"
             ],
             [
              0.3333333333333333,
              "#9c179e"
             ],
             [
              0.4444444444444444,
              "#bd3786"
             ],
             [
              0.5555555555555556,
              "#d8576b"
             ],
             [
              0.6666666666666666,
              "#ed7953"
             ],
             [
              0.7777777777777778,
              "#fb9f3a"
             ],
             [
              0.8888888888888888,
              "#fdca26"
             ],
             [
              1,
              "#f0f921"
             ]
            ],
            "type": "histogram2dcontour"
           }
          ],
          "mesh3d": [
           {
            "colorbar": {
             "outlinewidth": 0,
             "ticks": ""
            },
            "type": "mesh3d"
           }
          ],
          "parcoords": [
           {
            "line": {
             "colorbar": {
              "outlinewidth": 0,
              "ticks": ""
             }
            },
            "type": "parcoords"
           }
          ],
          "pie": [
           {
            "automargin": true,
            "type": "pie"
           }
          ],
          "scatter": [
           {
            "marker": {
             "colorbar": {
              "outlinewidth": 0,
              "ticks": ""
             }
            },
            "type": "scatter"
           }
          ],
          "scatter3d": [
           {
            "line": {
             "colorbar": {
              "outlinewidth": 0,
              "ticks": ""
             }
            },
            "marker": {
             "colorbar": {
              "outlinewidth": 0,
              "ticks": ""
             }
            },
            "type": "scatter3d"
           }
          ],
          "scattercarpet": [
           {
            "marker": {
             "colorbar": {
              "outlinewidth": 0,
              "ticks": ""
             }
            },
            "type": "scattercarpet"
           }
          ],
          "scattergeo": [
           {
            "marker": {
             "colorbar": {
              "outlinewidth": 0,
              "ticks": ""
             }
            },
            "type": "scattergeo"
           }
          ],
          "scattergl": [
           {
            "marker": {
             "colorbar": {
              "outlinewidth": 0,
              "ticks": ""
             }
            },
            "type": "scattergl"
           }
          ],
          "scattermapbox": [
           {
            "marker": {
             "colorbar": {
              "outlinewidth": 0,
              "ticks": ""
             }
            },
            "type": "scattermapbox"
           }
          ],
          "scatterpolar": [
           {
            "marker": {
             "colorbar": {
              "outlinewidth": 0,
              "ticks": ""
             }
            },
            "type": "scatterpolar"
           }
          ],
          "scatterpolargl": [
           {
            "marker": {
             "colorbar": {
              "outlinewidth": 0,
              "ticks": ""
             }
            },
            "type": "scatterpolargl"
           }
          ],
          "scatterternary": [
           {
            "marker": {
             "colorbar": {
              "outlinewidth": 0,
              "ticks": ""
             }
            },
            "type": "scatterternary"
           }
          ],
          "surface": [
           {
            "colorbar": {
             "outlinewidth": 0,
             "ticks": ""
            },
            "colorscale": [
             [
              0,
              "#0d0887"
             ],
             [
              0.1111111111111111,
              "#46039f"
             ],
             [
              0.2222222222222222,
              "#7201a8"
             ],
             [
              0.3333333333333333,
              "#9c179e"
             ],
             [
              0.4444444444444444,
              "#bd3786"
             ],
             [
              0.5555555555555556,
              "#d8576b"
             ],
             [
              0.6666666666666666,
              "#ed7953"
             ],
             [
              0.7777777777777778,
              "#fb9f3a"
             ],
             [
              0.8888888888888888,
              "#fdca26"
             ],
             [
              1,
              "#f0f921"
             ]
            ],
            "type": "surface"
           }
          ],
          "table": [
           {
            "cells": {
             "fill": {
              "color": "#EBF0F8"
             },
             "line": {
              "color": "white"
             }
            },
            "header": {
             "fill": {
              "color": "#C8D4E3"
             },
             "line": {
              "color": "white"
             }
            },
            "type": "table"
           }
          ]
         },
         "layout": {
          "annotationdefaults": {
           "arrowcolor": "#2a3f5f",
           "arrowhead": 0,
           "arrowwidth": 1
          },
          "autotypenumbers": "strict",
          "coloraxis": {
           "colorbar": {
            "outlinewidth": 0,
            "ticks": ""
           }
          },
          "colorscale": {
           "diverging": [
            [
             0,
             "#8e0152"
            ],
            [
             0.1,
             "#c51b7d"
            ],
            [
             0.2,
             "#de77ae"
            ],
            [
             0.3,
             "#f1b6da"
            ],
            [
             0.4,
             "#fde0ef"
            ],
            [
             0.5,
             "#f7f7f7"
            ],
            [
             0.6,
             "#e6f5d0"
            ],
            [
             0.7,
             "#b8e186"
            ],
            [
             0.8,
             "#7fbc41"
            ],
            [
             0.9,
             "#4d9221"
            ],
            [
             1,
             "#276419"
            ]
           ],
           "sequential": [
            [
             0,
             "#0d0887"
            ],
            [
             0.1111111111111111,
             "#46039f"
            ],
            [
             0.2222222222222222,
             "#7201a8"
            ],
            [
             0.3333333333333333,
             "#9c179e"
            ],
            [
             0.4444444444444444,
             "#bd3786"
            ],
            [
             0.5555555555555556,
             "#d8576b"
            ],
            [
             0.6666666666666666,
             "#ed7953"
            ],
            [
             0.7777777777777778,
             "#fb9f3a"
            ],
            [
             0.8888888888888888,
             "#fdca26"
            ],
            [
             1,
             "#f0f921"
            ]
           ],
           "sequentialminus": [
            [
             0,
             "#0d0887"
            ],
            [
             0.1111111111111111,
             "#46039f"
            ],
            [
             0.2222222222222222,
             "#7201a8"
            ],
            [
             0.3333333333333333,
             "#9c179e"
            ],
            [
             0.4444444444444444,
             "#bd3786"
            ],
            [
             0.5555555555555556,
             "#d8576b"
            ],
            [
             0.6666666666666666,
             "#ed7953"
            ],
            [
             0.7777777777777778,
             "#fb9f3a"
            ],
            [
             0.8888888888888888,
             "#fdca26"
            ],
            [
             1,
             "#f0f921"
            ]
           ]
          },
          "colorway": [
           "#636efa",
           "#EF553B",
           "#00cc96",
           "#ab63fa",
           "#FFA15A",
           "#19d3f3",
           "#FF6692",
           "#B6E880",
           "#FF97FF",
           "#FECB52"
          ],
          "font": {
           "color": "#2a3f5f"
          },
          "geo": {
           "bgcolor": "white",
           "lakecolor": "white",
           "landcolor": "#E5ECF6",
           "showlakes": true,
           "showland": true,
           "subunitcolor": "white"
          },
          "hoverlabel": {
           "align": "left"
          },
          "hovermode": "closest",
          "mapbox": {
           "style": "light"
          },
          "paper_bgcolor": "white",
          "plot_bgcolor": "#E5ECF6",
          "polar": {
           "angularaxis": {
            "gridcolor": "white",
            "linecolor": "white",
            "ticks": ""
           },
           "bgcolor": "#E5ECF6",
           "radialaxis": {
            "gridcolor": "white",
            "linecolor": "white",
            "ticks": ""
           }
          },
          "scene": {
           "xaxis": {
            "backgroundcolor": "#E5ECF6",
            "gridcolor": "white",
            "gridwidth": 2,
            "linecolor": "white",
            "showbackground": true,
            "ticks": "",
            "zerolinecolor": "white"
           },
           "yaxis": {
            "backgroundcolor": "#E5ECF6",
            "gridcolor": "white",
            "gridwidth": 2,
            "linecolor": "white",
            "showbackground": true,
            "ticks": "",
            "zerolinecolor": "white"
           },
           "zaxis": {
            "backgroundcolor": "#E5ECF6",
            "gridcolor": "white",
            "gridwidth": 2,
            "linecolor": "white",
            "showbackground": true,
            "ticks": "",
            "zerolinecolor": "white"
           }
          },
          "shapedefaults": {
           "line": {
            "color": "#2a3f5f"
           }
          },
          "ternary": {
           "aaxis": {
            "gridcolor": "white",
            "linecolor": "white",
            "ticks": ""
           },
           "baxis": {
            "gridcolor": "white",
            "linecolor": "white",
            "ticks": ""
           },
           "bgcolor": "#E5ECF6",
           "caxis": {
            "gridcolor": "white",
            "linecolor": "white",
            "ticks": ""
           }
          },
          "title": {
           "x": 0.05
          },
          "xaxis": {
           "automargin": true,
           "gridcolor": "white",
           "linecolor": "white",
           "ticks": "",
           "title": {
            "standoff": 15
           },
           "zerolinecolor": "white",
           "zerolinewidth": 2
          },
          "yaxis": {
           "automargin": true,
           "gridcolor": "white",
           "linecolor": "white",
           "ticks": "",
           "title": {
            "standoff": 15
           },
           "zerolinecolor": "white",
           "zerolinewidth": 2
          }
         }
        }
       }
      },
      "text/html": [
       "<div>                            <div id=\"f5a672ce-177c-4a96-b508-7078ee79648c\" class=\"plotly-graph-div\" style=\"height:525px; width:100%;\"></div>            <script type=\"text/javascript\">                require([\"plotly\"], function(Plotly) {                    window.PLOTLYENV=window.PLOTLYENV || {};                                    if (document.getElementById(\"f5a672ce-177c-4a96-b508-7078ee79648c\")) {                    Plotly.newPlot(                        \"f5a672ce-177c-4a96-b508-7078ee79648c\",                        [{\"dimensions\": [{\"label\": \"Roof Area\", \"values\": [0.6, 0.6, 0.6, 0.6, 0.6, 0.6, 0.6, 0.6, 0.6, 0.6, 0.8, 0.8, 0.8, 0.8, 0.8, 0.8, 0.8, 0.8, 0.8, 0.8]}, {\"label\": \"Battery Size\", \"values\": [0, 25, 50, 75, 100, 125, 150, 175, 200, 225, 0, 25, 50, 75, 100, 125, 150, 175, 200, 225]}, {\"label\": \"OEF\", \"values\": [0.43, 0.49, 0.54, 0.58, 0.65, 0.7, 0.73, 0.75, 0.76, 0.76, 0.43, 0.5, 0.54, 0.58, 0.65, 0.71, 0.74, 0.76, 0.77, 0.77]}, {\"label\": \"OEM\", \"values\": [0.51, 0.59, 0.63, 0.66, 0.69, 0.71, 0.72, 0.73, 0.73, 0.73, 0.49, 0.57, 0.62, 0.65, 0.68, 0.69, 0.7, 0.71, 0.72, 0.72]}, {\"label\": \"Grid Dependence\", \"values\": [1.0, 0.86, 0.78, 0.71, 0.62, 0.54, 0.5, 0.47, 0.46, 0.46, 1.0, 0.86, 0.78, 0.71, 0.62, 0.54, 0.49, 0.47, 0.46, 0.45]}], \"domain\": {\"x\": [0.0, 1.0], \"y\": [0.0, 1.0]}, \"line\": {\"color\": [0.6, 0.6, 0.6, 0.6, 0.6, 0.6, 0.6, 0.6, 0.6, 0.6, 0.8, 0.8, 0.8, 0.8, 0.8, 0.8, 0.8, 0.8, 0.8, 0.8], \"coloraxis\": \"coloraxis\"}, \"name\": \"\", \"type\": \"parcoords\"}],                        {\"coloraxis\": {\"colorbar\": {\"title\": {\"text\": \"Roof Area\"}}, \"colorscale\": [[0.0, \"rgb(0, 147, 146)\"], [0.16666666666666666, \"rgb(114, 170, 161)\"], [0.3333333333333333, \"rgb(177, 199, 179)\"], [0.5, \"rgb(241, 234, 200)\"], [0.6666666666666666, \"rgb(229, 185, 173)\"], [0.8333333333333334, \"rgb(217, 137, 148)\"], [1.0, \"rgb(208, 88, 126)\"]]}, \"legend\": {\"tracegroupgap\": 0}, \"margin\": {\"t\": 60}, \"template\": {\"data\": {\"bar\": [{\"error_x\": {\"color\": \"#2a3f5f\"}, \"error_y\": {\"color\": \"#2a3f5f\"}, \"marker\": {\"line\": {\"color\": \"#E5ECF6\", \"width\": 0.5}}, \"type\": \"bar\"}], \"barpolar\": [{\"marker\": {\"line\": {\"color\": \"#E5ECF6\", \"width\": 0.5}}, \"type\": \"barpolar\"}], \"carpet\": [{\"aaxis\": {\"endlinecolor\": \"#2a3f5f\", \"gridcolor\": \"white\", \"linecolor\": \"white\", \"minorgridcolor\": \"white\", \"startlinecolor\": \"#2a3f5f\"}, \"baxis\": {\"endlinecolor\": \"#2a3f5f\", \"gridcolor\": \"white\", \"linecolor\": \"white\", \"minorgridcolor\": \"white\", \"startlinecolor\": \"#2a3f5f\"}, \"type\": \"carpet\"}], \"choropleth\": [{\"colorbar\": {\"outlinewidth\": 0, \"ticks\": \"\"}, \"type\": \"choropleth\"}], \"contour\": [{\"colorbar\": {\"outlinewidth\": 0, \"ticks\": \"\"}, \"colorscale\": [[0.0, \"#0d0887\"], [0.1111111111111111, \"#46039f\"], [0.2222222222222222, \"#7201a8\"], [0.3333333333333333, \"#9c179e\"], [0.4444444444444444, \"#bd3786\"], [0.5555555555555556, \"#d8576b\"], [0.6666666666666666, \"#ed7953\"], [0.7777777777777778, \"#fb9f3a\"], [0.8888888888888888, \"#fdca26\"], [1.0, \"#f0f921\"]], \"type\": \"contour\"}], \"contourcarpet\": [{\"colorbar\": {\"outlinewidth\": 0, \"ticks\": \"\"}, \"type\": \"contourcarpet\"}], \"heatmap\": [{\"colorbar\": {\"outlinewidth\": 0, \"ticks\": \"\"}, \"colorscale\": [[0.0, \"#0d0887\"], [0.1111111111111111, \"#46039f\"], [0.2222222222222222, \"#7201a8\"], [0.3333333333333333, \"#9c179e\"], [0.4444444444444444, \"#bd3786\"], [0.5555555555555556, \"#d8576b\"], [0.6666666666666666, \"#ed7953\"], [0.7777777777777778, \"#fb9f3a\"], [0.8888888888888888, \"#fdca26\"], [1.0, \"#f0f921\"]], \"type\": \"heatmap\"}], \"heatmapgl\": [{\"colorbar\": {\"outlinewidth\": 0, \"ticks\": \"\"}, \"colorscale\": [[0.0, \"#0d0887\"], [0.1111111111111111, \"#46039f\"], [0.2222222222222222, \"#7201a8\"], [0.3333333333333333, \"#9c179e\"], [0.4444444444444444, \"#bd3786\"], [0.5555555555555556, \"#d8576b\"], [0.6666666666666666, \"#ed7953\"], [0.7777777777777778, \"#fb9f3a\"], [0.8888888888888888, \"#fdca26\"], [1.0, \"#f0f921\"]], \"type\": \"heatmapgl\"}], \"histogram\": [{\"marker\": {\"colorbar\": {\"outlinewidth\": 0, \"ticks\": \"\"}}, \"type\": \"histogram\"}], \"histogram2d\": [{\"colorbar\": {\"outlinewidth\": 0, \"ticks\": \"\"}, \"colorscale\": [[0.0, \"#0d0887\"], [0.1111111111111111, \"#46039f\"], [0.2222222222222222, \"#7201a8\"], [0.3333333333333333, \"#9c179e\"], [0.4444444444444444, \"#bd3786\"], [0.5555555555555556, \"#d8576b\"], [0.6666666666666666, \"#ed7953\"], [0.7777777777777778, \"#fb9f3a\"], [0.8888888888888888, \"#fdca26\"], [1.0, \"#f0f921\"]], \"type\": \"histogram2d\"}], \"histogram2dcontour\": [{\"colorbar\": {\"outlinewidth\": 0, \"ticks\": \"\"}, \"colorscale\": [[0.0, \"#0d0887\"], [0.1111111111111111, \"#46039f\"], [0.2222222222222222, \"#7201a8\"], [0.3333333333333333, \"#9c179e\"], [0.4444444444444444, \"#bd3786\"], [0.5555555555555556, \"#d8576b\"], [0.6666666666666666, \"#ed7953\"], [0.7777777777777778, \"#fb9f3a\"], [0.8888888888888888, \"#fdca26\"], [1.0, \"#f0f921\"]], \"type\": \"histogram2dcontour\"}], \"mesh3d\": [{\"colorbar\": {\"outlinewidth\": 0, \"ticks\": \"\"}, \"type\": \"mesh3d\"}], \"parcoords\": [{\"line\": {\"colorbar\": {\"outlinewidth\": 0, \"ticks\": \"\"}}, \"type\": \"parcoords\"}], \"pie\": [{\"automargin\": true, \"type\": \"pie\"}], \"scatter\": [{\"marker\": {\"colorbar\": {\"outlinewidth\": 0, \"ticks\": \"\"}}, \"type\": \"scatter\"}], \"scatter3d\": [{\"line\": {\"colorbar\": {\"outlinewidth\": 0, \"ticks\": \"\"}}, \"marker\": {\"colorbar\": {\"outlinewidth\": 0, \"ticks\": \"\"}}, \"type\": \"scatter3d\"}], \"scattercarpet\": [{\"marker\": {\"colorbar\": {\"outlinewidth\": 0, \"ticks\": \"\"}}, \"type\": \"scattercarpet\"}], \"scattergeo\": [{\"marker\": {\"colorbar\": {\"outlinewidth\": 0, \"ticks\": \"\"}}, \"type\": \"scattergeo\"}], \"scattergl\": [{\"marker\": {\"colorbar\": {\"outlinewidth\": 0, \"ticks\": \"\"}}, \"type\": \"scattergl\"}], \"scattermapbox\": [{\"marker\": {\"colorbar\": {\"outlinewidth\": 0, \"ticks\": \"\"}}, \"type\": \"scattermapbox\"}], \"scatterpolar\": [{\"marker\": {\"colorbar\": {\"outlinewidth\": 0, \"ticks\": \"\"}}, \"type\": \"scatterpolar\"}], \"scatterpolargl\": [{\"marker\": {\"colorbar\": {\"outlinewidth\": 0, \"ticks\": \"\"}}, \"type\": \"scatterpolargl\"}], \"scatterternary\": [{\"marker\": {\"colorbar\": {\"outlinewidth\": 0, \"ticks\": \"\"}}, \"type\": \"scatterternary\"}], \"surface\": [{\"colorbar\": {\"outlinewidth\": 0, \"ticks\": \"\"}, \"colorscale\": [[0.0, \"#0d0887\"], [0.1111111111111111, \"#46039f\"], [0.2222222222222222, \"#7201a8\"], [0.3333333333333333, \"#9c179e\"], [0.4444444444444444, \"#bd3786\"], [0.5555555555555556, \"#d8576b\"], [0.6666666666666666, \"#ed7953\"], [0.7777777777777778, \"#fb9f3a\"], [0.8888888888888888, \"#fdca26\"], [1.0, \"#f0f921\"]], \"type\": \"surface\"}], \"table\": [{\"cells\": {\"fill\": {\"color\": \"#EBF0F8\"}, \"line\": {\"color\": \"white\"}}, \"header\": {\"fill\": {\"color\": \"#C8D4E3\"}, \"line\": {\"color\": \"white\"}}, \"type\": \"table\"}]}, \"layout\": {\"annotationdefaults\": {\"arrowcolor\": \"#2a3f5f\", \"arrowhead\": 0, \"arrowwidth\": 1}, \"autotypenumbers\": \"strict\", \"coloraxis\": {\"colorbar\": {\"outlinewidth\": 0, \"ticks\": \"\"}}, \"colorscale\": {\"diverging\": [[0, \"#8e0152\"], [0.1, \"#c51b7d\"], [0.2, \"#de77ae\"], [0.3, \"#f1b6da\"], [0.4, \"#fde0ef\"], [0.5, \"#f7f7f7\"], [0.6, \"#e6f5d0\"], [0.7, \"#b8e186\"], [0.8, \"#7fbc41\"], [0.9, \"#4d9221\"], [1, \"#276419\"]], \"sequential\": [[0.0, \"#0d0887\"], [0.1111111111111111, \"#46039f\"], [0.2222222222222222, \"#7201a8\"], [0.3333333333333333, \"#9c179e\"], [0.4444444444444444, \"#bd3786\"], [0.5555555555555556, \"#d8576b\"], [0.6666666666666666, \"#ed7953\"], [0.7777777777777778, \"#fb9f3a\"], [0.8888888888888888, \"#fdca26\"], [1.0, \"#f0f921\"]], \"sequentialminus\": [[0.0, \"#0d0887\"], [0.1111111111111111, \"#46039f\"], [0.2222222222222222, \"#7201a8\"], [0.3333333333333333, \"#9c179e\"], [0.4444444444444444, \"#bd3786\"], [0.5555555555555556, \"#d8576b\"], [0.6666666666666666, \"#ed7953\"], [0.7777777777777778, \"#fb9f3a\"], [0.8888888888888888, \"#fdca26\"], [1.0, \"#f0f921\"]]}, \"colorway\": [\"#636efa\", \"#EF553B\", \"#00cc96\", \"#ab63fa\", \"#FFA15A\", \"#19d3f3\", \"#FF6692\", \"#B6E880\", \"#FF97FF\", \"#FECB52\"], \"font\": {\"color\": \"#2a3f5f\"}, \"geo\": {\"bgcolor\": \"white\", \"lakecolor\": \"white\", \"landcolor\": \"#E5ECF6\", \"showlakes\": true, \"showland\": true, \"subunitcolor\": \"white\"}, \"hoverlabel\": {\"align\": \"left\"}, \"hovermode\": \"closest\", \"mapbox\": {\"style\": \"light\"}, \"paper_bgcolor\": \"white\", \"plot_bgcolor\": \"#E5ECF6\", \"polar\": {\"angularaxis\": {\"gridcolor\": \"white\", \"linecolor\": \"white\", \"ticks\": \"\"}, \"bgcolor\": \"#E5ECF6\", \"radialaxis\": {\"gridcolor\": \"white\", \"linecolor\": \"white\", \"ticks\": \"\"}}, \"scene\": {\"xaxis\": {\"backgroundcolor\": \"#E5ECF6\", \"gridcolor\": \"white\", \"gridwidth\": 2, \"linecolor\": \"white\", \"showbackground\": true, \"ticks\": \"\", \"zerolinecolor\": \"white\"}, \"yaxis\": {\"backgroundcolor\": \"#E5ECF6\", \"gridcolor\": \"white\", \"gridwidth\": 2, \"linecolor\": \"white\", \"showbackground\": true, \"ticks\": \"\", \"zerolinecolor\": \"white\"}, \"zaxis\": {\"backgroundcolor\": \"#E5ECF6\", \"gridcolor\": \"white\", \"gridwidth\": 2, \"linecolor\": \"white\", \"showbackground\": true, \"ticks\": \"\", \"zerolinecolor\": \"white\"}}, \"shapedefaults\": {\"line\": {\"color\": \"#2a3f5f\"}}, \"ternary\": {\"aaxis\": {\"gridcolor\": \"white\", \"linecolor\": \"white\", \"ticks\": \"\"}, \"baxis\": {\"gridcolor\": \"white\", \"linecolor\": \"white\", \"ticks\": \"\"}, \"bgcolor\": \"#E5ECF6\", \"caxis\": {\"gridcolor\": \"white\", \"linecolor\": \"white\", \"ticks\": \"\"}}, \"title\": {\"x\": 0.05}, \"xaxis\": {\"automargin\": true, \"gridcolor\": \"white\", \"linecolor\": \"white\", \"ticks\": \"\", \"title\": {\"standoff\": 15}, \"zerolinecolor\": \"white\", \"zerolinewidth\": 2}, \"yaxis\": {\"automargin\": true, \"gridcolor\": \"white\", \"linecolor\": \"white\", \"ticks\": \"\", \"title\": {\"standoff\": 15}, \"zerolinecolor\": \"white\", \"zerolinewidth\": 2}}}},                        {\"responsive\": true}                    ).then(function(){\n",
       "                            \n",
       "var gd = document.getElementById('f5a672ce-177c-4a96-b508-7078ee79648c');\n",
       "var x = new MutationObserver(function (mutations, observer) {{\n",
       "        var display = window.getComputedStyle(gd).display;\n",
       "        if (!display || display === 'none') {{\n",
       "            console.log([gd, 'removed!']);\n",
       "            Plotly.purge(gd);\n",
       "            observer.disconnect();\n",
       "        }}\n",
       "}});\n",
       "\n",
       "// Listen for the removal of the full notebook cells\n",
       "var notebookContainer = gd.closest('#notebook-container');\n",
       "if (notebookContainer) {{\n",
       "    x.observe(notebookContainer, {childList: true});\n",
       "}}\n",
       "\n",
       "// Listen for the clearing of the current output cell\n",
       "var outputEl = gd.closest('.output');\n",
       "if (outputEl) {{\n",
       "    x.observe(outputEl, {childList: true});\n",
       "}}\n",
       "\n",
       "                        })                };                });            </script>        </div>"
      ]
     },
     "metadata": {},
     "output_type": "display_data"
    }
   ],
   "source": [
    "import plotly.express as px\n",
    "fig = px.parallel_coordinates(df_final,color=\"Roof Area\",color_continuous_scale=px.colors.diverging.Tealrose)\n",
    "fig.show()"
   ]
  },
  {
   "cell_type": "code",
   "execution_count": null,
   "metadata": {},
   "outputs": [],
   "source": []
  }
 ],
 "metadata": {
  "kernelspec": {
   "display_name": "Python 3",
   "language": "python",
   "name": "python3"
  },
  "language_info": {
   "codemirror_mode": {
    "name": "ipython",
    "version": 3
   },
   "file_extension": ".py",
   "mimetype": "text/x-python",
   "name": "python",
   "nbconvert_exporter": "python",
   "pygments_lexer": "ipython3",
   "version": "3.8.3"
  }
 },
 "nbformat": 4,
 "nbformat_minor": 4
}
